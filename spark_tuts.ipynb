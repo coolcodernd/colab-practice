{
  "nbformat": 4,
  "nbformat_minor": 0,
  "metadata": {
    "colab": {
      "name": "spark_tuts.ipynb",
      "provenance": [],
      "collapsed_sections": [],
      "toc_visible": true,
      "authorship_tag": "ABX9TyOMWiGqKCmOjZ8nYM3Z7IKx"
    },
    "kernelspec": {
      "name": "python3",
      "display_name": "Python 3"
    },
    "language_info": {
      "name": "python"
    }
  },
  "cells": [
    {
      "cell_type": "code",
      "metadata": {
        "colab": {
          "base_uri": "https://localhost:8080/"
        },
        "id": "mungeGdUA-ex",
        "outputId": "bf00dadc-a71b-4ccb-b685-34389803b43a"
      },
      "source": [
        "!python --version"
      ],
      "execution_count": 2,
      "outputs": [
        {
          "output_type": "stream",
          "text": [
            "Python 3.7.10\n"
          ],
          "name": "stdout"
        }
      ]
    },
    {
      "cell_type": "markdown",
      "metadata": {
        "id": "Ea1GAJtNCL7j"
      },
      "source": [
        "HOW TO INSTALL PYSPARK ON COLAB\n"
      ]
    },
    {
      "cell_type": "code",
      "metadata": {
        "colab": {
          "base_uri": "https://localhost:8080/"
        },
        "id": "oMAval6-CA_U",
        "outputId": "8146abda-38ce-45ea-c9c6-7a04791c8809"
      },
      "source": [
        "\n",
        "!pwd\n",
        "\n",
        "!wget https://mirrors.estointernet.in/apache/spark/spark-3.0.2/spark-3.0.2-bin-hadoop2.7.tgz"
      ],
      "execution_count": 3,
      "outputs": [
        {
          "output_type": "stream",
          "text": [
            "/content\n",
            "--2021-05-12 07:30:21--  https://mirrors.estointernet.in/apache/spark/spark-3.0.2/spark-3.0.2-bin-hadoop2.7.tgz\n",
            "Resolving mirrors.estointernet.in (mirrors.estointernet.in)... 43.255.166.254, 2403:8940:3:1::f\n",
            "Connecting to mirrors.estointernet.in (mirrors.estointernet.in)|43.255.166.254|:443... connected.\n",
            "HTTP request sent, awaiting response... 200 OK\n",
            "Length: 220488957 (210M) [application/octet-stream]\n",
            "Saving to: ‘spark-3.0.2-bin-hadoop2.7.tgz’\n",
            "\n",
            "spark-3.0.2-bin-had 100%[===================>] 210.27M  6.08MB/s    in 36s     \n",
            "\n",
            "2021-05-12 07:30:57 (5.87 MB/s) - ‘spark-3.0.2-bin-hadoop2.7.tgz’ saved [220488957/220488957]\n",
            "\n"
          ],
          "name": "stdout"
        }
      ]
    },
    {
      "cell_type": "code",
      "metadata": {
        "colab": {
          "base_uri": "https://localhost:8080/"
        },
        "id": "dh_VesI-Cm5C",
        "outputId": "a5fe67b8-2e05-4589-924a-d5cc29d0b596"
      },
      "source": [
        "!tar -xvzf spark-3.0.2-bin-hadoop2.7.tgz"
      ],
      "execution_count": 4,
      "outputs": [
        {
          "output_type": "stream",
          "text": [
            "spark-3.0.2-bin-hadoop2.7/\n",
            "spark-3.0.2-bin-hadoop2.7/R/\n",
            "spark-3.0.2-bin-hadoop2.7/R/lib/\n",
            "spark-3.0.2-bin-hadoop2.7/R/lib/sparkr.zip\n",
            "spark-3.0.2-bin-hadoop2.7/R/lib/SparkR/\n",
            "spark-3.0.2-bin-hadoop2.7/R/lib/SparkR/worker/\n",
            "spark-3.0.2-bin-hadoop2.7/R/lib/SparkR/worker/worker.R\n",
            "spark-3.0.2-bin-hadoop2.7/R/lib/SparkR/worker/daemon.R\n",
            "spark-3.0.2-bin-hadoop2.7/R/lib/SparkR/tests/\n",
            "spark-3.0.2-bin-hadoop2.7/R/lib/SparkR/tests/testthat/\n",
            "spark-3.0.2-bin-hadoop2.7/R/lib/SparkR/tests/testthat/test_basic.R\n",
            "spark-3.0.2-bin-hadoop2.7/R/lib/SparkR/profile/\n",
            "spark-3.0.2-bin-hadoop2.7/R/lib/SparkR/profile/shell.R\n",
            "spark-3.0.2-bin-hadoop2.7/R/lib/SparkR/profile/general.R\n",
            "spark-3.0.2-bin-hadoop2.7/R/lib/SparkR/doc/\n",
            "spark-3.0.2-bin-hadoop2.7/R/lib/SparkR/doc/sparkr-vignettes.html\n",
            "spark-3.0.2-bin-hadoop2.7/R/lib/SparkR/doc/sparkr-vignettes.Rmd\n",
            "spark-3.0.2-bin-hadoop2.7/R/lib/SparkR/doc/sparkr-vignettes.R\n",
            "spark-3.0.2-bin-hadoop2.7/R/lib/SparkR/doc/index.html\n",
            "spark-3.0.2-bin-hadoop2.7/R/lib/SparkR/R/\n",
            "spark-3.0.2-bin-hadoop2.7/R/lib/SparkR/R/SparkR\n",
            "spark-3.0.2-bin-hadoop2.7/R/lib/SparkR/R/SparkR.rdx\n",
            "spark-3.0.2-bin-hadoop2.7/R/lib/SparkR/R/SparkR.rdb\n",
            "spark-3.0.2-bin-hadoop2.7/R/lib/SparkR/Meta/\n",
            "spark-3.0.2-bin-hadoop2.7/R/lib/SparkR/Meta/features.rds\n",
            "spark-3.0.2-bin-hadoop2.7/R/lib/SparkR/Meta/package.rds\n",
            "spark-3.0.2-bin-hadoop2.7/R/lib/SparkR/Meta/links.rds\n",
            "spark-3.0.2-bin-hadoop2.7/R/lib/SparkR/Meta/hsearch.rds\n",
            "spark-3.0.2-bin-hadoop2.7/R/lib/SparkR/Meta/nsInfo.rds\n",
            "spark-3.0.2-bin-hadoop2.7/R/lib/SparkR/Meta/vignette.rds\n",
            "spark-3.0.2-bin-hadoop2.7/R/lib/SparkR/Meta/Rd.rds\n",
            "spark-3.0.2-bin-hadoop2.7/R/lib/SparkR/DESCRIPTION\n",
            "spark-3.0.2-bin-hadoop2.7/R/lib/SparkR/NAMESPACE\n",
            "spark-3.0.2-bin-hadoop2.7/R/lib/SparkR/INDEX\n",
            "spark-3.0.2-bin-hadoop2.7/R/lib/SparkR/html/\n",
            "spark-3.0.2-bin-hadoop2.7/R/lib/SparkR/html/R.css\n",
            "spark-3.0.2-bin-hadoop2.7/R/lib/SparkR/html/00Index.html\n",
            "spark-3.0.2-bin-hadoop2.7/R/lib/SparkR/help/\n",
            "spark-3.0.2-bin-hadoop2.7/R/lib/SparkR/help/aliases.rds\n",
            "spark-3.0.2-bin-hadoop2.7/R/lib/SparkR/help/AnIndex\n",
            "spark-3.0.2-bin-hadoop2.7/R/lib/SparkR/help/SparkR.rdx\n",
            "spark-3.0.2-bin-hadoop2.7/R/lib/SparkR/help/SparkR.rdb\n",
            "spark-3.0.2-bin-hadoop2.7/R/lib/SparkR/help/paths.rds\n",
            "spark-3.0.2-bin-hadoop2.7/sbin/\n",
            "spark-3.0.2-bin-hadoop2.7/sbin/stop-slaves.sh\n",
            "spark-3.0.2-bin-hadoop2.7/sbin/stop-slave.sh\n",
            "spark-3.0.2-bin-hadoop2.7/sbin/stop-all.sh\n",
            "spark-3.0.2-bin-hadoop2.7/sbin/start-slaves.sh\n",
            "spark-3.0.2-bin-hadoop2.7/sbin/start-slave.sh\n",
            "spark-3.0.2-bin-hadoop2.7/sbin/start-all.sh\n",
            "spark-3.0.2-bin-hadoop2.7/sbin/spark-daemons.sh\n",
            "spark-3.0.2-bin-hadoop2.7/sbin/spark-daemon.sh\n",
            "spark-3.0.2-bin-hadoop2.7/sbin/spark-config.sh\n",
            "spark-3.0.2-bin-hadoop2.7/sbin/slaves.sh\n",
            "spark-3.0.2-bin-hadoop2.7/sbin/stop-thriftserver.sh\n",
            "spark-3.0.2-bin-hadoop2.7/sbin/stop-mesos-shuffle-service.sh\n",
            "spark-3.0.2-bin-hadoop2.7/sbin/stop-mesos-dispatcher.sh\n",
            "spark-3.0.2-bin-hadoop2.7/sbin/stop-master.sh\n",
            "spark-3.0.2-bin-hadoop2.7/sbin/stop-history-server.sh\n",
            "spark-3.0.2-bin-hadoop2.7/sbin/start-thriftserver.sh\n",
            "spark-3.0.2-bin-hadoop2.7/sbin/start-mesos-shuffle-service.sh\n",
            "spark-3.0.2-bin-hadoop2.7/sbin/start-mesos-dispatcher.sh\n",
            "spark-3.0.2-bin-hadoop2.7/sbin/start-master.sh\n",
            "spark-3.0.2-bin-hadoop2.7/sbin/start-history-server.sh\n",
            "spark-3.0.2-bin-hadoop2.7/python/\n",
            "spark-3.0.2-bin-hadoop2.7/python/pyspark.egg-info/\n",
            "spark-3.0.2-bin-hadoop2.7/python/pyspark.egg-info/SOURCES.txt\n",
            "spark-3.0.2-bin-hadoop2.7/python/pyspark.egg-info/top_level.txt\n",
            "spark-3.0.2-bin-hadoop2.7/python/pyspark.egg-info/requires.txt\n",
            "spark-3.0.2-bin-hadoop2.7/python/pyspark.egg-info/dependency_links.txt\n",
            "spark-3.0.2-bin-hadoop2.7/python/pyspark.egg-info/PKG-INFO\n",
            "spark-3.0.2-bin-hadoop2.7/python/pyspark/\n",
            "spark-3.0.2-bin-hadoop2.7/python/pyspark/python/\n",
            "spark-3.0.2-bin-hadoop2.7/python/pyspark/python/pyspark/\n",
            "spark-3.0.2-bin-hadoop2.7/python/pyspark/python/pyspark/shell.py\n",
            "spark-3.0.2-bin-hadoop2.7/python/pyspark/tests/\n",
            "spark-3.0.2-bin-hadoop2.7/python/pyspark/tests/test_worker.py\n",
            "spark-3.0.2-bin-hadoop2.7/python/pyspark/tests/test_util.py\n",
            "spark-3.0.2-bin-hadoop2.7/python/pyspark/tests/test_taskcontext.py\n",
            "spark-3.0.2-bin-hadoop2.7/python/pyspark/tests/test_shuffle.py\n",
            "spark-3.0.2-bin-hadoop2.7/python/pyspark/tests/test_serializers.py\n",
            "spark-3.0.2-bin-hadoop2.7/python/pyspark/tests/test_readwrite.py\n",
            "spark-3.0.2-bin-hadoop2.7/python/pyspark/tests/test_rddbarrier.py\n",
            "spark-3.0.2-bin-hadoop2.7/python/pyspark/tests/test_rdd.py\n",
            "spark-3.0.2-bin-hadoop2.7/python/pyspark/tests/test_profiler.py\n",
            "spark-3.0.2-bin-hadoop2.7/python/pyspark/tests/test_pin_thread.py\n",
            "spark-3.0.2-bin-hadoop2.7/python/pyspark/tests/test_join.py\n",
            "spark-3.0.2-bin-hadoop2.7/python/pyspark/tests/test_daemon.py\n",
            "spark-3.0.2-bin-hadoop2.7/python/pyspark/tests/test_context.py\n",
            "spark-3.0.2-bin-hadoop2.7/python/pyspark/tests/test_conf.py\n",
            "spark-3.0.2-bin-hadoop2.7/python/pyspark/tests/test_broadcast.py\n",
            "spark-3.0.2-bin-hadoop2.7/python/pyspark/tests/test_appsubmit.py\n",
            "spark-3.0.2-bin-hadoop2.7/python/pyspark/tests/__init__.py\n",
            "spark-3.0.2-bin-hadoop2.7/python/pyspark/testing/\n",
            "spark-3.0.2-bin-hadoop2.7/python/pyspark/testing/mllibutils.py\n",
            "spark-3.0.2-bin-hadoop2.7/python/pyspark/testing/__init__.py\n",
            "spark-3.0.2-bin-hadoop2.7/python/pyspark/testing/utils.py\n",
            "spark-3.0.2-bin-hadoop2.7/python/pyspark/testing/streamingutils.py\n",
            "spark-3.0.2-bin-hadoop2.7/python/pyspark/testing/sqlutils.py\n",
            "spark-3.0.2-bin-hadoop2.7/python/pyspark/testing/mlutils.py\n",
            "spark-3.0.2-bin-hadoop2.7/python/pyspark/streaming/\n",
            "spark-3.0.2-bin-hadoop2.7/python/pyspark/streaming/tests/\n",
            "spark-3.0.2-bin-hadoop2.7/python/pyspark/streaming/tests/__init__.py\n",
            "spark-3.0.2-bin-hadoop2.7/python/pyspark/streaming/tests/test_listener.py\n",
            "spark-3.0.2-bin-hadoop2.7/python/pyspark/streaming/tests/test_kinesis.py\n",
            "spark-3.0.2-bin-hadoop2.7/python/pyspark/streaming/tests/test_dstream.py\n",
            "spark-3.0.2-bin-hadoop2.7/python/pyspark/streaming/tests/test_context.py\n",
            "spark-3.0.2-bin-hadoop2.7/python/pyspark/streaming/listener.py\n",
            "spark-3.0.2-bin-hadoop2.7/python/pyspark/streaming/__init__.py\n",
            "spark-3.0.2-bin-hadoop2.7/python/pyspark/streaming/util.py\n",
            "spark-3.0.2-bin-hadoop2.7/python/pyspark/streaming/kinesis.py\n",
            "spark-3.0.2-bin-hadoop2.7/python/pyspark/streaming/dstream.py\n",
            "spark-3.0.2-bin-hadoop2.7/python/pyspark/streaming/context.py\n",
            "spark-3.0.2-bin-hadoop2.7/python/pyspark/status.py\n",
            "spark-3.0.2-bin-hadoop2.7/python/pyspark/sql/\n",
            "spark-3.0.2-bin-hadoop2.7/python/pyspark/sql/streaming.py\n",
            "spark-3.0.2-bin-hadoop2.7/python/pyspark/sql/session.py\n",
            "spark-3.0.2-bin-hadoop2.7/python/pyspark/sql/readwriter.py\n",
            "spark-3.0.2-bin-hadoop2.7/python/pyspark/sql/group.py\n",
            "spark-3.0.2-bin-hadoop2.7/python/pyspark/sql/functions.py\n",
            "spark-3.0.2-bin-hadoop2.7/python/pyspark/sql/dataframe.py\n",
            "spark-3.0.2-bin-hadoop2.7/python/pyspark/sql/context.py\n",
            "spark-3.0.2-bin-hadoop2.7/python/pyspark/sql/conf.py\n",
            "spark-3.0.2-bin-hadoop2.7/python/pyspark/sql/column.py\n",
            "spark-3.0.2-bin-hadoop2.7/python/pyspark/sql/catalog.py\n",
            "spark-3.0.2-bin-hadoop2.7/python/pyspark/sql/__init__.py\n",
            "spark-3.0.2-bin-hadoop2.7/python/pyspark/sql/tests/\n",
            "spark-3.0.2-bin-hadoop2.7/python/pyspark/sql/tests/test_pandas_cogrouped_map.py\n",
            "spark-3.0.2-bin-hadoop2.7/python/pyspark/sql/tests/test_group.py\n",
            "spark-3.0.2-bin-hadoop2.7/python/pyspark/sql/tests/test_functions.py\n",
            "spark-3.0.2-bin-hadoop2.7/python/pyspark/sql/tests/test_datasources.py\n",
            "spark-3.0.2-bin-hadoop2.7/python/pyspark/sql/tests/test_dataframe.py\n",
            "spark-3.0.2-bin-hadoop2.7/python/pyspark/sql/tests/test_context.py\n",
            "spark-3.0.2-bin-hadoop2.7/python/pyspark/sql/tests/test_conf.py\n",
            "spark-3.0.2-bin-hadoop2.7/python/pyspark/sql/tests/test_column.py\n",
            "spark-3.0.2-bin-hadoop2.7/python/pyspark/sql/tests/test_catalog.py\n",
            "spark-3.0.2-bin-hadoop2.7/python/pyspark/sql/tests/test_arrow.py\n",
            "spark-3.0.2-bin-hadoop2.7/python/pyspark/sql/tests/__init__.py\n",
            "spark-3.0.2-bin-hadoop2.7/python/pyspark/sql/tests/test_utils.py\n",
            "spark-3.0.2-bin-hadoop2.7/python/pyspark/sql/tests/test_udf.py\n",
            "spark-3.0.2-bin-hadoop2.7/python/pyspark/sql/tests/test_types.py\n",
            "spark-3.0.2-bin-hadoop2.7/python/pyspark/sql/tests/test_streaming.py\n",
            "spark-3.0.2-bin-hadoop2.7/python/pyspark/sql/tests/test_session.py\n",
            "spark-3.0.2-bin-hadoop2.7/python/pyspark/sql/tests/test_serde.py\n",
            "spark-3.0.2-bin-hadoop2.7/python/pyspark/sql/tests/test_readwriter.py\n",
            "spark-3.0.2-bin-hadoop2.7/python/pyspark/sql/tests/test_pandas_udf_window.py\n",
            "spark-3.0.2-bin-hadoop2.7/python/pyspark/sql/tests/test_pandas_udf_typehints.py\n",
            "spark-3.0.2-bin-hadoop2.7/python/pyspark/sql/tests/test_pandas_udf_scalar.py\n",
            "spark-3.0.2-bin-hadoop2.7/python/pyspark/sql/tests/test_pandas_udf_grouped_agg.py\n",
            "spark-3.0.2-bin-hadoop2.7/python/pyspark/sql/tests/test_pandas_udf.py\n",
            "spark-3.0.2-bin-hadoop2.7/python/pyspark/sql/tests/test_pandas_map.py\n",
            "spark-3.0.2-bin-hadoop2.7/python/pyspark/sql/tests/test_pandas_grouped_map.py\n",
            "spark-3.0.2-bin-hadoop2.7/python/pyspark/sql/pandas/\n",
            "spark-3.0.2-bin-hadoop2.7/python/pyspark/sql/pandas/utils.py\n",
            "spark-3.0.2-bin-hadoop2.7/python/pyspark/sql/pandas/types.py\n",
            "spark-3.0.2-bin-hadoop2.7/python/pyspark/sql/pandas/typehints.py\n",
            "spark-3.0.2-bin-hadoop2.7/python/pyspark/sql/pandas/serializers.py\n",
            "spark-3.0.2-bin-hadoop2.7/python/pyspark/sql/pandas/map_ops.py\n",
            "spark-3.0.2-bin-hadoop2.7/python/pyspark/sql/pandas/group_ops.py\n",
            "spark-3.0.2-bin-hadoop2.7/python/pyspark/sql/pandas/functions.py\n",
            "spark-3.0.2-bin-hadoop2.7/python/pyspark/sql/pandas/conversion.py\n",
            "spark-3.0.2-bin-hadoop2.7/python/pyspark/sql/pandas/__init__.py\n",
            "spark-3.0.2-bin-hadoop2.7/python/pyspark/sql/avro/\n",
            "spark-3.0.2-bin-hadoop2.7/python/pyspark/sql/avro/functions.py\n",
            "spark-3.0.2-bin-hadoop2.7/python/pyspark/sql/avro/__init__.py\n",
            "spark-3.0.2-bin-hadoop2.7/python/pyspark/sql/window.py\n",
            "spark-3.0.2-bin-hadoop2.7/python/pyspark/sql/utils.py\n",
            "spark-3.0.2-bin-hadoop2.7/python/pyspark/sql/udf.py\n",
            "spark-3.0.2-bin-hadoop2.7/python/pyspark/sql/types.py\n",
            "spark-3.0.2-bin-hadoop2.7/python/pyspark/rddsampler.py\n",
            "spark-3.0.2-bin-hadoop2.7/python/pyspark/mllib/\n",
            "spark-3.0.2-bin-hadoop2.7/python/pyspark/mllib/util.py\n",
            "spark-3.0.2-bin-hadoop2.7/python/pyspark/mllib/tree.py\n",
            "spark-3.0.2-bin-hadoop2.7/python/pyspark/mllib/regression.py\n",
            "spark-3.0.2-bin-hadoop2.7/python/pyspark/mllib/recommendation.py\n",
            "spark-3.0.2-bin-hadoop2.7/python/pyspark/mllib/random.py\n",
            "spark-3.0.2-bin-hadoop2.7/python/pyspark/mllib/fpm.py\n",
            "spark-3.0.2-bin-hadoop2.7/python/pyspark/mllib/feature.py\n",
            "spark-3.0.2-bin-hadoop2.7/python/pyspark/mllib/evaluation.py\n",
            "spark-3.0.2-bin-hadoop2.7/python/pyspark/mllib/common.py\n",
            "spark-3.0.2-bin-hadoop2.7/python/pyspark/mllib/clustering.py\n",
            "spark-3.0.2-bin-hadoop2.7/python/pyspark/mllib/classification.py\n",
            "spark-3.0.2-bin-hadoop2.7/python/pyspark/mllib/__init__.py\n",
            "spark-3.0.2-bin-hadoop2.7/python/pyspark/mllib/tests/\n",
            "spark-3.0.2-bin-hadoop2.7/python/pyspark/mllib/tests/test_util.py\n",
            "spark-3.0.2-bin-hadoop2.7/python/pyspark/mllib/tests/test_streaming_algorithms.py\n",
            "spark-3.0.2-bin-hadoop2.7/python/pyspark/mllib/tests/test_stat.py\n",
            "spark-3.0.2-bin-hadoop2.7/python/pyspark/mllib/tests/test_linalg.py\n",
            "spark-3.0.2-bin-hadoop2.7/python/pyspark/mllib/tests/test_feature.py\n",
            "spark-3.0.2-bin-hadoop2.7/python/pyspark/mllib/tests/test_algorithms.py\n",
            "spark-3.0.2-bin-hadoop2.7/python/pyspark/mllib/tests/__init__.py\n",
            "spark-3.0.2-bin-hadoop2.7/python/pyspark/mllib/stat/\n",
            "spark-3.0.2-bin-hadoop2.7/python/pyspark/mllib/stat/distribution.py\n",
            "spark-3.0.2-bin-hadoop2.7/python/pyspark/mllib/stat/_statistics.py\n",
            "spark-3.0.2-bin-hadoop2.7/python/pyspark/mllib/stat/__init__.py\n",
            "spark-3.0.2-bin-hadoop2.7/python/pyspark/mllib/stat/KernelDensity.py\n",
            "spark-3.0.2-bin-hadoop2.7/python/pyspark/mllib/stat/test.py\n",
            "spark-3.0.2-bin-hadoop2.7/python/pyspark/mllib/linalg/\n",
            "spark-3.0.2-bin-hadoop2.7/python/pyspark/mllib/linalg/distributed.py\n",
            "spark-3.0.2-bin-hadoop2.7/python/pyspark/mllib/linalg/__init__.py\n",
            "spark-3.0.2-bin-hadoop2.7/python/pyspark/ml/\n",
            "spark-3.0.2-bin-hadoop2.7/python/pyspark/ml/wrapper.py\n",
            "spark-3.0.2-bin-hadoop2.7/python/pyspark/ml/util.py\n",
            "spark-3.0.2-bin-hadoop2.7/python/pyspark/ml/tuning.py\n",
            "spark-3.0.2-bin-hadoop2.7/python/pyspark/ml/tree.py\n",
            "spark-3.0.2-bin-hadoop2.7/python/pyspark/ml/stat.py\n",
            "spark-3.0.2-bin-hadoop2.7/python/pyspark/ml/regression.py\n",
            "spark-3.0.2-bin-hadoop2.7/python/pyspark/ml/recommendation.py\n",
            "spark-3.0.2-bin-hadoop2.7/python/pyspark/ml/pipeline.py\n",
            "spark-3.0.2-bin-hadoop2.7/python/pyspark/ml/image.py\n",
            "spark-3.0.2-bin-hadoop2.7/python/pyspark/ml/functions.py\n",
            "spark-3.0.2-bin-hadoop2.7/python/pyspark/ml/fpm.py\n",
            "spark-3.0.2-bin-hadoop2.7/python/pyspark/ml/feature.py\n",
            "spark-3.0.2-bin-hadoop2.7/python/pyspark/ml/evaluation.py\n",
            "spark-3.0.2-bin-hadoop2.7/python/pyspark/ml/common.py\n",
            "spark-3.0.2-bin-hadoop2.7/python/pyspark/ml/clustering.py\n",
            "spark-3.0.2-bin-hadoop2.7/python/pyspark/ml/classification.py\n",
            "spark-3.0.2-bin-hadoop2.7/python/pyspark/ml/base.py\n",
            "spark-3.0.2-bin-hadoop2.7/python/pyspark/ml/__init__.py\n",
            "spark-3.0.2-bin-hadoop2.7/python/pyspark/ml/tests/\n",
            "spark-3.0.2-bin-hadoop2.7/python/pyspark/ml/tests/test_wrapper.py\n",
            "spark-3.0.2-bin-hadoop2.7/python/pyspark/ml/tests/test_tuning.py\n",
            "spark-3.0.2-bin-hadoop2.7/python/pyspark/ml/tests/test_training_summary.py\n",
            "spark-3.0.2-bin-hadoop2.7/python/pyspark/ml/tests/test_stat.py\n",
            "spark-3.0.2-bin-hadoop2.7/python/pyspark/ml/tests/test_pipeline.py\n",
            "spark-3.0.2-bin-hadoop2.7/python/pyspark/ml/tests/test_persistence.py\n",
            "spark-3.0.2-bin-hadoop2.7/python/pyspark/ml/tests/test_param.py\n",
            "spark-3.0.2-bin-hadoop2.7/python/pyspark/ml/tests/test_linalg.py\n",
            "spark-3.0.2-bin-hadoop2.7/python/pyspark/ml/tests/test_image.py\n",
            "spark-3.0.2-bin-hadoop2.7/python/pyspark/ml/tests/test_feature.py\n",
            "spark-3.0.2-bin-hadoop2.7/python/pyspark/ml/tests/test_evaluation.py\n",
            "spark-3.0.2-bin-hadoop2.7/python/pyspark/ml/tests/test_base.py\n",
            "spark-3.0.2-bin-hadoop2.7/python/pyspark/ml/tests/test_algorithms.py\n",
            "spark-3.0.2-bin-hadoop2.7/python/pyspark/ml/tests/test_util.py\n",
            "spark-3.0.2-bin-hadoop2.7/python/pyspark/ml/tests/__init__.py\n",
            "spark-3.0.2-bin-hadoop2.7/python/pyspark/ml/param/\n",
            "spark-3.0.2-bin-hadoop2.7/python/pyspark/ml/param/shared.py\n",
            "spark-3.0.2-bin-hadoop2.7/python/pyspark/ml/param/_shared_params_code_gen.py\n",
            "spark-3.0.2-bin-hadoop2.7/python/pyspark/ml/param/__init__.py\n",
            "spark-3.0.2-bin-hadoop2.7/python/pyspark/ml/linalg/\n",
            "spark-3.0.2-bin-hadoop2.7/python/pyspark/ml/linalg/__init__.py\n",
            "spark-3.0.2-bin-hadoop2.7/python/pyspark/join.py\n",
            "spark-3.0.2-bin-hadoop2.7/python/pyspark/files.py\n",
            "spark-3.0.2-bin-hadoop2.7/python/pyspark/daemon.py\n",
            "spark-3.0.2-bin-hadoop2.7/python/pyspark/_globals.py\n",
            "spark-3.0.2-bin-hadoop2.7/python/pyspark/worker.py\n",
            "spark-3.0.2-bin-hadoop2.7/python/pyspark/version.py\n",
            "spark-3.0.2-bin-hadoop2.7/python/pyspark/util.py\n",
            "spark-3.0.2-bin-hadoop2.7/python/pyspark/taskcontext.py\n",
            "spark-3.0.2-bin-hadoop2.7/python/pyspark/storagelevel.py\n",
            "spark-3.0.2-bin-hadoop2.7/python/pyspark/statcounter.py\n",
            "spark-3.0.2-bin-hadoop2.7/python/pyspark/shuffle.py\n",
            "spark-3.0.2-bin-hadoop2.7/python/pyspark/shell.py\n",
            "spark-3.0.2-bin-hadoop2.7/python/pyspark/serializers.py\n",
            "spark-3.0.2-bin-hadoop2.7/python/pyspark/resultiterable.py\n",
            "spark-3.0.2-bin-hadoop2.7/python/pyspark/resource.py\n",
            "spark-3.0.2-bin-hadoop2.7/python/pyspark/rdd.py\n",
            "spark-3.0.2-bin-hadoop2.7/python/pyspark/profiler.py\n",
            "spark-3.0.2-bin-hadoop2.7/python/pyspark/java_gateway.py\n",
            "spark-3.0.2-bin-hadoop2.7/python/pyspark/heapq3.py\n",
            "spark-3.0.2-bin-hadoop2.7/python/pyspark/find_spark_home.py\n",
            "spark-3.0.2-bin-hadoop2.7/python/pyspark/context.py\n",
            "spark-3.0.2-bin-hadoop2.7/python/pyspark/conf.py\n",
            "spark-3.0.2-bin-hadoop2.7/python/pyspark/cloudpickle.py\n",
            "spark-3.0.2-bin-hadoop2.7/python/pyspark/broadcast.py\n",
            "spark-3.0.2-bin-hadoop2.7/python/pyspark/accumulators.py\n",
            "spark-3.0.2-bin-hadoop2.7/python/pyspark/__init__.py\n",
            "spark-3.0.2-bin-hadoop2.7/python/pyspark/traceback_utils.py\n",
            "spark-3.0.2-bin-hadoop2.7/python/lib/\n",
            "spark-3.0.2-bin-hadoop2.7/python/lib/py4j-0.10.9-src.zip\n",
            "spark-3.0.2-bin-hadoop2.7/python/lib/PY4J_LICENSE.txt\n",
            "spark-3.0.2-bin-hadoop2.7/python/lib/pyspark.zip\n",
            "spark-3.0.2-bin-hadoop2.7/python/docs/\n",
            "spark-3.0.2-bin-hadoop2.7/python/docs/pyspark.streaming.rst\n",
            "spark-3.0.2-bin-hadoop2.7/python/docs/pyspark.sql.rst\n",
            "spark-3.0.2-bin-hadoop2.7/python/docs/pyspark.rst\n",
            "spark-3.0.2-bin-hadoop2.7/python/docs/pyspark.resource.rst\n",
            "spark-3.0.2-bin-hadoop2.7/python/docs/pyspark.mllib.rst\n",
            "spark-3.0.2-bin-hadoop2.7/python/docs/pyspark.ml.rst\n",
            "spark-3.0.2-bin-hadoop2.7/python/docs/make2.bat\n",
            "spark-3.0.2-bin-hadoop2.7/python/docs/index.rst\n",
            "spark-3.0.2-bin-hadoop2.7/python/docs/conf.py\n",
            "spark-3.0.2-bin-hadoop2.7/python/docs/_templates/\n",
            "spark-3.0.2-bin-hadoop2.7/python/docs/_templates/layout.html\n",
            "spark-3.0.2-bin-hadoop2.7/python/docs/_static/\n",
            "spark-3.0.2-bin-hadoop2.7/python/docs/_static/pyspark.js\n",
            "spark-3.0.2-bin-hadoop2.7/python/docs/_static/pyspark.css\n",
            "spark-3.0.2-bin-hadoop2.7/python/docs/_static/copybutton.js\n",
            "spark-3.0.2-bin-hadoop2.7/python/docs/Makefile\n",
            "spark-3.0.2-bin-hadoop2.7/python/docs/make.bat\n",
            "spark-3.0.2-bin-hadoop2.7/python/README.md\n",
            "spark-3.0.2-bin-hadoop2.7/python/.gitignore\n",
            "spark-3.0.2-bin-hadoop2.7/python/.coveragerc\n",
            "spark-3.0.2-bin-hadoop2.7/python/setup.py\n",
            "spark-3.0.2-bin-hadoop2.7/python/run-tests.py\n",
            "spark-3.0.2-bin-hadoop2.7/python/pylintrc\n",
            "spark-3.0.2-bin-hadoop2.7/python/MANIFEST.in\n",
            "spark-3.0.2-bin-hadoop2.7/python/test_support/\n",
            "spark-3.0.2-bin-hadoop2.7/python/test_support/userlib-0.1.zip\n",
            "spark-3.0.2-bin-hadoop2.7/python/test_support/sql/\n",
            "spark-3.0.2-bin-hadoop2.7/python/test_support/sql/text-test.txt\n",
            "spark-3.0.2-bin-hadoop2.7/python/test_support/sql/streaming/\n",
            "spark-3.0.2-bin-hadoop2.7/python/test_support/sql/streaming/text-test.txt\n",
            "spark-3.0.2-bin-hadoop2.7/python/test_support/sql/people_array_utf16le.json\n",
            "spark-3.0.2-bin-hadoop2.7/python/test_support/sql/people_array.json\n",
            "spark-3.0.2-bin-hadoop2.7/python/test_support/sql/people1.json\n",
            "spark-3.0.2-bin-hadoop2.7/python/test_support/sql/people.json\n",
            "spark-3.0.2-bin-hadoop2.7/python/test_support/sql/parquet_partitioned/\n",
            "spark-3.0.2-bin-hadoop2.7/python/test_support/sql/parquet_partitioned/year=2015/\n",
            "spark-3.0.2-bin-hadoop2.7/python/test_support/sql/parquet_partitioned/year=2015/month=9/\n",
            "spark-3.0.2-bin-hadoop2.7/python/test_support/sql/parquet_partitioned/year=2015/month=9/day=1/\n",
            "spark-3.0.2-bin-hadoop2.7/python/test_support/sql/parquet_partitioned/year=2015/month=9/day=1/part-r-00007.gz.parquet\n",
            "spark-3.0.2-bin-hadoop2.7/python/test_support/sql/parquet_partitioned/year=2015/month=9/day=1/.part-r-00007.gz.parquet.crc\n",
            "spark-3.0.2-bin-hadoop2.7/python/test_support/sql/parquet_partitioned/year=2015/month=10/\n",
            "spark-3.0.2-bin-hadoop2.7/python/test_support/sql/parquet_partitioned/year=2015/month=10/day=26/\n",
            "spark-3.0.2-bin-hadoop2.7/python/test_support/sql/parquet_partitioned/year=2015/month=10/day=26/part-r-00005.gz.parquet\n",
            "spark-3.0.2-bin-hadoop2.7/python/test_support/sql/parquet_partitioned/year=2015/month=10/day=26/.part-r-00005.gz.parquet.crc\n",
            "spark-3.0.2-bin-hadoop2.7/python/test_support/sql/parquet_partitioned/year=2015/month=10/day=25/\n",
            "spark-3.0.2-bin-hadoop2.7/python/test_support/sql/parquet_partitioned/year=2015/month=10/day=25/part-r-00004.gz.parquet\n",
            "spark-3.0.2-bin-hadoop2.7/python/test_support/sql/parquet_partitioned/year=2015/month=10/day=25/part-r-00002.gz.parquet\n",
            "spark-3.0.2-bin-hadoop2.7/python/test_support/sql/parquet_partitioned/year=2015/month=10/day=25/.part-r-00004.gz.parquet.crc\n",
            "spark-3.0.2-bin-hadoop2.7/python/test_support/sql/parquet_partitioned/year=2015/month=10/day=25/.part-r-00002.gz.parquet.crc\n",
            "spark-3.0.2-bin-hadoop2.7/python/test_support/sql/parquet_partitioned/year=2014/\n",
            "spark-3.0.2-bin-hadoop2.7/python/test_support/sql/parquet_partitioned/year=2014/month=9/\n",
            "spark-3.0.2-bin-hadoop2.7/python/test_support/sql/parquet_partitioned/year=2014/month=9/day=1/\n",
            "spark-3.0.2-bin-hadoop2.7/python/test_support/sql/parquet_partitioned/year=2014/month=9/day=1/part-r-00008.gz.parquet\n",
            "spark-3.0.2-bin-hadoop2.7/python/test_support/sql/parquet_partitioned/year=2014/month=9/day=1/.part-r-00008.gz.parquet.crc\n",
            "spark-3.0.2-bin-hadoop2.7/python/test_support/sql/parquet_partitioned/_metadata\n",
            "spark-3.0.2-bin-hadoop2.7/python/test_support/sql/parquet_partitioned/_common_metadata\n",
            "spark-3.0.2-bin-hadoop2.7/python/test_support/sql/parquet_partitioned/_SUCCESS\n",
            "spark-3.0.2-bin-hadoop2.7/python/test_support/sql/orc_partitioned/\n",
            "spark-3.0.2-bin-hadoop2.7/python/test_support/sql/orc_partitioned/b=1/\n",
            "spark-3.0.2-bin-hadoop2.7/python/test_support/sql/orc_partitioned/b=1/c=1/\n",
            "spark-3.0.2-bin-hadoop2.7/python/test_support/sql/orc_partitioned/b=1/c=1/part-r-00000-829af031-b970-49d6-ad39-30460a0be2c8.orc\n",
            "spark-3.0.2-bin-hadoop2.7/python/test_support/sql/orc_partitioned/b=1/c=1/.part-r-00000-829af031-b970-49d6-ad39-30460a0be2c8.orc.crc\n",
            "spark-3.0.2-bin-hadoop2.7/python/test_support/sql/orc_partitioned/b=0/\n",
            "spark-3.0.2-bin-hadoop2.7/python/test_support/sql/orc_partitioned/b=0/c=0/\n",
            "spark-3.0.2-bin-hadoop2.7/python/test_support/sql/orc_partitioned/b=0/c=0/part-r-00000-829af031-b970-49d6-ad39-30460a0be2c8.orc\n",
            "spark-3.0.2-bin-hadoop2.7/python/test_support/sql/orc_partitioned/b=0/c=0/.part-r-00000-829af031-b970-49d6-ad39-30460a0be2c8.orc.crc\n",
            "spark-3.0.2-bin-hadoop2.7/python/test_support/sql/orc_partitioned/_SUCCESS\n",
            "spark-3.0.2-bin-hadoop2.7/python/test_support/sql/ages_newlines.csv\n",
            "spark-3.0.2-bin-hadoop2.7/python/test_support/sql/ages.csv\n",
            "spark-3.0.2-bin-hadoop2.7/python/test_support/hello/\n",
            "spark-3.0.2-bin-hadoop2.7/python/test_support/hello/sub_hello/\n",
            "spark-3.0.2-bin-hadoop2.7/python/test_support/hello/sub_hello/sub_hello.txt\n",
            "spark-3.0.2-bin-hadoop2.7/python/test_support/hello/hello.txt\n",
            "spark-3.0.2-bin-hadoop2.7/python/test_support/SimpleHTTPServer.py\n",
            "spark-3.0.2-bin-hadoop2.7/python/test_support/userlibrary.py\n",
            "spark-3.0.2-bin-hadoop2.7/python/test_coverage/\n",
            "spark-3.0.2-bin-hadoop2.7/python/test_coverage/sitecustomize.py\n",
            "spark-3.0.2-bin-hadoop2.7/python/test_coverage/coverage_daemon.py\n",
            "spark-3.0.2-bin-hadoop2.7/python/test_coverage/conf/\n",
            "spark-3.0.2-bin-hadoop2.7/python/test_coverage/conf/spark-defaults.conf\n",
            "spark-3.0.2-bin-hadoop2.7/python/setup.cfg\n",
            "spark-3.0.2-bin-hadoop2.7/python/run-tests-with-coverage\n",
            "spark-3.0.2-bin-hadoop2.7/python/run-tests\n",
            "spark-3.0.2-bin-hadoop2.7/python/dist/\n",
            "spark-3.0.2-bin-hadoop2.7/bin/\n",
            "spark-3.0.2-bin-hadoop2.7/bin/sparkR2.cmd\n",
            "spark-3.0.2-bin-hadoop2.7/bin/sparkR.cmd\n",
            "spark-3.0.2-bin-hadoop2.7/bin/sparkR\n",
            "spark-3.0.2-bin-hadoop2.7/bin/spark-submit2.cmd\n",
            "spark-3.0.2-bin-hadoop2.7/bin/spark-submit.cmd\n",
            "spark-3.0.2-bin-hadoop2.7/bin/spark-submit\n",
            "spark-3.0.2-bin-hadoop2.7/bin/spark-sql2.cmd\n",
            "spark-3.0.2-bin-hadoop2.7/bin/spark-sql.cmd\n",
            "spark-3.0.2-bin-hadoop2.7/bin/spark-sql\n",
            "spark-3.0.2-bin-hadoop2.7/bin/spark-shell2.cmd\n",
            "spark-3.0.2-bin-hadoop2.7/bin/spark-shell.cmd\n",
            "spark-3.0.2-bin-hadoop2.7/bin/spark-shell\n",
            "spark-3.0.2-bin-hadoop2.7/bin/spark-class.cmd\n",
            "spark-3.0.2-bin-hadoop2.7/bin/spark-class\n",
            "spark-3.0.2-bin-hadoop2.7/bin/run-example.cmd\n",
            "spark-3.0.2-bin-hadoop2.7/bin/run-example\n",
            "spark-3.0.2-bin-hadoop2.7/bin/pyspark.cmd\n",
            "spark-3.0.2-bin-hadoop2.7/bin/beeline.cmd\n",
            "spark-3.0.2-bin-hadoop2.7/bin/beeline\n",
            "spark-3.0.2-bin-hadoop2.7/bin/spark-class2.cmd\n",
            "spark-3.0.2-bin-hadoop2.7/bin/pyspark2.cmd\n",
            "spark-3.0.2-bin-hadoop2.7/bin/pyspark\n",
            "spark-3.0.2-bin-hadoop2.7/bin/load-spark-env.sh\n",
            "spark-3.0.2-bin-hadoop2.7/bin/load-spark-env.cmd\n",
            "spark-3.0.2-bin-hadoop2.7/bin/find-spark-home.cmd\n",
            "spark-3.0.2-bin-hadoop2.7/bin/find-spark-home\n",
            "spark-3.0.2-bin-hadoop2.7/bin/docker-image-tool.sh\n",
            "spark-3.0.2-bin-hadoop2.7/README.md\n",
            "spark-3.0.2-bin-hadoop2.7/conf/\n",
            "spark-3.0.2-bin-hadoop2.7/conf/spark-env.sh.template\n",
            "spark-3.0.2-bin-hadoop2.7/conf/spark-defaults.conf.template\n",
            "spark-3.0.2-bin-hadoop2.7/conf/slaves.template\n",
            "spark-3.0.2-bin-hadoop2.7/conf/metrics.properties.template\n",
            "spark-3.0.2-bin-hadoop2.7/conf/log4j.properties.template\n",
            "spark-3.0.2-bin-hadoop2.7/conf/fairscheduler.xml.template\n",
            "spark-3.0.2-bin-hadoop2.7/data/\n",
            "spark-3.0.2-bin-hadoop2.7/data/streaming/\n",
            "spark-3.0.2-bin-hadoop2.7/data/streaming/AFINN-111.txt\n",
            "spark-3.0.2-bin-hadoop2.7/data/mllib/\n",
            "spark-3.0.2-bin-hadoop2.7/data/mllib/streaming_kmeans_data_test.txt\n",
            "spark-3.0.2-bin-hadoop2.7/data/mllib/sample_svm_data.txt\n",
            "spark-3.0.2-bin-hadoop2.7/data/mllib/sample_multiclass_classification_data.txt\n",
            "spark-3.0.2-bin-hadoop2.7/data/mllib/sample_movielens_data.txt\n",
            "spark-3.0.2-bin-hadoop2.7/data/mllib/sample_linear_regression_data.txt\n",
            "spark-3.0.2-bin-hadoop2.7/data/mllib/sample_libsvm_data.txt\n",
            "spark-3.0.2-bin-hadoop2.7/data/mllib/sample_lda_libsvm_data.txt\n",
            "spark-3.0.2-bin-hadoop2.7/data/mllib/sample_lda_data.txt\n",
            "spark-3.0.2-bin-hadoop2.7/data/mllib/sample_kmeans_data.txt\n",
            "spark-3.0.2-bin-hadoop2.7/data/mllib/sample_isotonic_regression_libsvm_data.txt\n",
            "spark-3.0.2-bin-hadoop2.7/data/mllib/sample_fpgrowth.txt\n",
            "spark-3.0.2-bin-hadoop2.7/data/mllib/sample_binary_classification_data.txt\n",
            "spark-3.0.2-bin-hadoop2.7/data/mllib/ridge-data/\n",
            "spark-3.0.2-bin-hadoop2.7/data/mllib/ridge-data/lpsa.data\n",
            "spark-3.0.2-bin-hadoop2.7/data/mllib/pic_data.txt\n",
            "spark-3.0.2-bin-hadoop2.7/data/mllib/pagerank_data.txt\n",
            "spark-3.0.2-bin-hadoop2.7/data/mllib/kmeans_data.txt\n",
            "spark-3.0.2-bin-hadoop2.7/data/mllib/iris_libsvm.txt\n",
            "spark-3.0.2-bin-hadoop2.7/data/mllib/images/\n",
            "spark-3.0.2-bin-hadoop2.7/data/mllib/images/partitioned/\n",
            "spark-3.0.2-bin-hadoop2.7/data/mllib/images/partitioned/cls=multichannel/\n",
            "spark-3.0.2-bin-hadoop2.7/data/mllib/images/partitioned/cls=multichannel/date=2018-02/\n",
            "spark-3.0.2-bin-hadoop2.7/data/mllib/images/partitioned/cls=multichannel/date=2018-02/grayscale.jpg\n",
            "spark-3.0.2-bin-hadoop2.7/data/mllib/images/partitioned/cls=multichannel/date=2018-02/chr30.4.184.jpg\n",
            "spark-3.0.2-bin-hadoop2.7/data/mllib/images/partitioned/cls=multichannel/date=2018-01/\n",
            "spark-3.0.2-bin-hadoop2.7/data/mllib/images/partitioned/cls=multichannel/date=2018-01/BGRA_alpha_60.png\n",
            "spark-3.0.2-bin-hadoop2.7/data/mllib/images/partitioned/cls=multichannel/date=2018-01/BGRA.png\n",
            "spark-3.0.2-bin-hadoop2.7/data/mllib/images/partitioned/cls=kittens/\n",
            "spark-3.0.2-bin-hadoop2.7/data/mllib/images/partitioned/cls=kittens/date=2018-02/\n",
            "spark-3.0.2-bin-hadoop2.7/data/mllib/images/partitioned/cls=kittens/date=2018-02/DP802813.jpg\n",
            "spark-3.0.2-bin-hadoop2.7/data/mllib/images/partitioned/cls=kittens/date=2018-02/DP153539.jpg\n",
            "spark-3.0.2-bin-hadoop2.7/data/mllib/images/partitioned/cls=kittens/date=2018-02/54893.jpg\n",
            "spark-3.0.2-bin-hadoop2.7/data/mllib/images/partitioned/cls=kittens/date=2018-01/\n",
            "spark-3.0.2-bin-hadoop2.7/data/mllib/images/partitioned/cls=kittens/date=2018-01/not-image.txt\n",
            "spark-3.0.2-bin-hadoop2.7/data/mllib/images/partitioned/cls=kittens/date=2018-01/29.5.a_b_EGDP022204.jpg\n",
            "spark-3.0.2-bin-hadoop2.7/data/mllib/images/origin/\n",
            "spark-3.0.2-bin-hadoop2.7/data/mllib/images/origin/multi-channel/\n",
            "spark-3.0.2-bin-hadoop2.7/data/mllib/images/origin/multi-channel/grayscale.jpg\n",
            "spark-3.0.2-bin-hadoop2.7/data/mllib/images/origin/multi-channel/chr30.4.184.jpg\n",
            "spark-3.0.2-bin-hadoop2.7/data/mllib/images/origin/multi-channel/BGRA_alpha_60.png\n",
            "spark-3.0.2-bin-hadoop2.7/data/mllib/images/origin/multi-channel/BGRA.png\n",
            "spark-3.0.2-bin-hadoop2.7/data/mllib/images/origin/license.txt\n",
            "spark-3.0.2-bin-hadoop2.7/data/mllib/images/origin/kittens/\n",
            "spark-3.0.2-bin-hadoop2.7/data/mllib/images/origin/kittens/not-image.txt\n",
            "spark-3.0.2-bin-hadoop2.7/data/mllib/images/origin/kittens/DP802813.jpg\n",
            "spark-3.0.2-bin-hadoop2.7/data/mllib/images/origin/kittens/DP153539.jpg\n",
            "spark-3.0.2-bin-hadoop2.7/data/mllib/images/origin/kittens/54893.jpg\n",
            "spark-3.0.2-bin-hadoop2.7/data/mllib/images/origin/kittens/29.5.a_b_EGDP022204.jpg\n",
            "spark-3.0.2-bin-hadoop2.7/data/mllib/images/license.txt\n",
            "spark-3.0.2-bin-hadoop2.7/data/mllib/gmm_data.txt\n",
            "spark-3.0.2-bin-hadoop2.7/data/mllib/als/\n",
            "spark-3.0.2-bin-hadoop2.7/data/mllib/als/test.data\n",
            "spark-3.0.2-bin-hadoop2.7/data/mllib/als/sample_movielens_ratings.txt\n",
            "spark-3.0.2-bin-hadoop2.7/data/graphx/\n",
            "spark-3.0.2-bin-hadoop2.7/data/graphx/users.txt\n",
            "spark-3.0.2-bin-hadoop2.7/data/graphx/followers.txt\n",
            "spark-3.0.2-bin-hadoop2.7/NOTICE\n",
            "spark-3.0.2-bin-hadoop2.7/licenses/\n",
            "spark-3.0.2-bin-hadoop2.7/licenses/LICENSE-heapq.txt\n",
            "spark-3.0.2-bin-hadoop2.7/licenses/LICENSE-datatables.txt\n",
            "spark-3.0.2-bin-hadoop2.7/licenses/LICENSE-bootstrap.txt\n",
            "spark-3.0.2-bin-hadoop2.7/licenses/LICENSE-zstd.txt\n",
            "spark-3.0.2-bin-hadoop2.7/licenses/LICENSE-zstd-jni.txt\n",
            "spark-3.0.2-bin-hadoop2.7/licenses/LICENSE-xmlenc.txt\n",
            "spark-3.0.2-bin-hadoop2.7/licenses/LICENSE-vis-timeline.txt\n",
            "spark-3.0.2-bin-hadoop2.7/licenses/LICENSE-spire.txt\n",
            "spark-3.0.2-bin-hadoop2.7/licenses/LICENSE-sorttable.js.txt\n",
            "spark-3.0.2-bin-hadoop2.7/licenses/LICENSE-slf4j.txt\n",
            "spark-3.0.2-bin-hadoop2.7/licenses/LICENSE-scopt.txt\n",
            "spark-3.0.2-bin-hadoop2.7/licenses/LICENSE-scala.txt\n",
            "spark-3.0.2-bin-hadoop2.7/licenses/LICENSE-sbt-launch-lib.txt\n",
            "spark-3.0.2-bin-hadoop2.7/licenses/LICENSE-respond.txt\n",
            "spark-3.0.2-bin-hadoop2.7/licenses/LICENSE-reflectasm.txt\n",
            "spark-3.0.2-bin-hadoop2.7/licenses/LICENSE-re2j.txt\n",
            "spark-3.0.2-bin-hadoop2.7/licenses/LICENSE-pyrolite.txt\n",
            "spark-3.0.2-bin-hadoop2.7/licenses/LICENSE-py4j.txt\n",
            "spark-3.0.2-bin-hadoop2.7/licenses/LICENSE-protobuf.txt\n",
            "spark-3.0.2-bin-hadoop2.7/licenses/LICENSE-pmml-model.txt\n",
            "spark-3.0.2-bin-hadoop2.7/licenses/LICENSE-paranamer.txt\n",
            "spark-3.0.2-bin-hadoop2.7/licenses/LICENSE-netlib.txt\n",
            "spark-3.0.2-bin-hadoop2.7/licenses/LICENSE-mustache.txt\n",
            "spark-3.0.2-bin-hadoop2.7/licenses/LICENSE-modernizr.txt\n",
            "spark-3.0.2-bin-hadoop2.7/licenses/LICENSE-minlog.txt\n",
            "spark-3.0.2-bin-hadoop2.7/licenses/LICENSE-matchMedia-polyfill.txt\n",
            "spark-3.0.2-bin-hadoop2.7/licenses/LICENSE-machinist.txt\n",
            "spark-3.0.2-bin-hadoop2.7/licenses/LICENSE-leveldbjni.txt\n",
            "spark-3.0.2-bin-hadoop2.7/licenses/LICENSE-kryo.txt\n",
            "spark-3.0.2-bin-hadoop2.7/licenses/LICENSE-jsp-api.txt\n",
            "spark-3.0.2-bin-hadoop2.7/licenses/LICENSE-json-formatter.txt\n",
            "spark-3.0.2-bin-hadoop2.7/licenses/LICENSE-jquery.txt\n",
            "spark-3.0.2-bin-hadoop2.7/licenses/LICENSE-join.txt\n",
            "spark-3.0.2-bin-hadoop2.7/licenses/LICENSE-jodd.txt\n",
            "spark-3.0.2-bin-hadoop2.7/licenses/LICENSE-jline.txt\n",
            "spark-3.0.2-bin-hadoop2.7/licenses/LICENSE-jaxb-runtime.txt\n",
            "spark-3.0.2-bin-hadoop2.7/licenses/LICENSE-javolution.txt\n",
            "spark-3.0.2-bin-hadoop2.7/licenses/LICENSE-javax-transaction-transaction-api.txt\n",
            "spark-3.0.2-bin-hadoop2.7/licenses/LICENSE-javassist.html\n",
            "spark-3.0.2-bin-hadoop2.7/licenses/LICENSE-janino.txt\n",
            "spark-3.0.2-bin-hadoop2.7/licenses/LICENSE-jakarta.xml.bind-api.txt\n",
            "spark-3.0.2-bin-hadoop2.7/licenses/LICENSE-jakarta.activation-api.txt\n",
            "spark-3.0.2-bin-hadoop2.7/licenses/LICENSE-jakarta-ws-rs-api\n",
            "spark-3.0.2-bin-hadoop2.7/licenses/LICENSE-jakarta-annotation-api\n",
            "spark-3.0.2-bin-hadoop2.7/licenses/LICENSE-istack-commons-runtime.txt\n",
            "spark-3.0.2-bin-hadoop2.7/licenses/LICENSE-graphlib-dot.txt\n",
            "spark-3.0.2-bin-hadoop2.7/licenses/LICENSE-f2j.txt\n",
            "spark-3.0.2-bin-hadoop2.7/licenses/LICENSE-dnsjava.txt\n",
            "spark-3.0.2-bin-hadoop2.7/licenses/LICENSE-dagre-d3.txt\n",
            "spark-3.0.2-bin-hadoop2.7/licenses/LICENSE-d3.min.js.txt\n",
            "spark-3.0.2-bin-hadoop2.7/licenses/LICENSE-cloudpickle.txt\n",
            "spark-3.0.2-bin-hadoop2.7/licenses/LICENSE-automaton.txt\n",
            "spark-3.0.2-bin-hadoop2.7/licenses/LICENSE-arpack.txt\n",
            "spark-3.0.2-bin-hadoop2.7/licenses/LICENSE-antlr.txt\n",
            "spark-3.0.2-bin-hadoop2.7/licenses/LICENSE-JTransforms.txt\n",
            "spark-3.0.2-bin-hadoop2.7/licenses/LICENSE-JLargeArrays.txt\n",
            "spark-3.0.2-bin-hadoop2.7/licenses/LICENSE-CC0.txt\n",
            "spark-3.0.2-bin-hadoop2.7/licenses/LICENSE-AnchorJS.txt\n",
            "spark-3.0.2-bin-hadoop2.7/LICENSE\n",
            "spark-3.0.2-bin-hadoop2.7/examples/\n",
            "spark-3.0.2-bin-hadoop2.7/examples/src/\n",
            "spark-3.0.2-bin-hadoop2.7/examples/src/main/\n",
            "spark-3.0.2-bin-hadoop2.7/examples/src/main/python/\n",
            "spark-3.0.2-bin-hadoop2.7/examples/src/main/python/mllib/\n",
            "spark-3.0.2-bin-hadoop2.7/examples/src/main/python/mllib/gradient_boosting_regression_example.py\n",
            "spark-3.0.2-bin-hadoop2.7/examples/src/main/python/mllib/gradient_boosting_classification_example.py\n",
            "spark-3.0.2-bin-hadoop2.7/examples/src/main/python/mllib/gaussian_mixture_model.py\n",
            "spark-3.0.2-bin-hadoop2.7/examples/src/main/python/mllib/gaussian_mixture_example.py\n",
            "spark-3.0.2-bin-hadoop2.7/examples/src/main/python/mllib/elementwise_product_example.py\n",
            "spark-3.0.2-bin-hadoop2.7/examples/src/main/python/mllib/decision_tree_regression_example.py\n",
            "spark-3.0.2-bin-hadoop2.7/examples/src/main/python/mllib/decision_tree_classification_example.py\n",
            "spark-3.0.2-bin-hadoop2.7/examples/src/main/python/mllib/correlations_example.py\n",
            "spark-3.0.2-bin-hadoop2.7/examples/src/main/python/mllib/correlations.py\n",
            "spark-3.0.2-bin-hadoop2.7/examples/src/main/python/mllib/bisecting_k_means_example.py\n",
            "spark-3.0.2-bin-hadoop2.7/examples/src/main/python/mllib/binary_classification_metrics_example.py\n",
            "spark-3.0.2-bin-hadoop2.7/examples/src/main/python/mllib/svm_with_sgd_example.py\n",
            "spark-3.0.2-bin-hadoop2.7/examples/src/main/python/mllib/svd_example.py\n",
            "spark-3.0.2-bin-hadoop2.7/examples/src/main/python/mllib/regression_metrics_example.py\n",
            "spark-3.0.2-bin-hadoop2.7/examples/src/main/python/mllib/ranking_metrics_example.py\n",
            "spark-3.0.2-bin-hadoop2.7/examples/src/main/python/mllib/pca_rowmatrix_example.py\n",
            "spark-3.0.2-bin-hadoop2.7/examples/src/main/python/mllib/multi_label_metrics_example.py\n",
            "spark-3.0.2-bin-hadoop2.7/examples/src/main/python/mllib/multi_class_metrics_example.py\n",
            "spark-3.0.2-bin-hadoop2.7/examples/src/main/python/mllib/fpgrowth_example.py\n",
            "spark-3.0.2-bin-hadoop2.7/examples/src/main/python/mllib/word2vec_example.py\n",
            "spark-3.0.2-bin-hadoop2.7/examples/src/main/python/mllib/word2vec.py\n",
            "spark-3.0.2-bin-hadoop2.7/examples/src/main/python/mllib/tf_idf_example.py\n",
            "spark-3.0.2-bin-hadoop2.7/examples/src/main/python/mllib/summary_statistics_example.py\n",
            "spark-3.0.2-bin-hadoop2.7/examples/src/main/python/mllib/streaming_linear_regression_example.py\n",
            "spark-3.0.2-bin-hadoop2.7/examples/src/main/python/mllib/streaming_k_means_example.py\n",
            "spark-3.0.2-bin-hadoop2.7/examples/src/main/python/mllib/stratified_sampling_example.py\n",
            "spark-3.0.2-bin-hadoop2.7/examples/src/main/python/mllib/standard_scaler_example.py\n",
            "spark-3.0.2-bin-hadoop2.7/examples/src/main/python/mllib/sampled_rdds.py\n",
            "spark-3.0.2-bin-hadoop2.7/examples/src/main/python/mllib/recommendation_example.py\n",
            "spark-3.0.2-bin-hadoop2.7/examples/src/main/python/mllib/random_rdd_generation.py\n",
            "spark-3.0.2-bin-hadoop2.7/examples/src/main/python/mllib/random_forest_regression_example.py\n",
            "spark-3.0.2-bin-hadoop2.7/examples/src/main/python/mllib/random_forest_classification_example.py\n",
            "spark-3.0.2-bin-hadoop2.7/examples/src/main/python/mllib/power_iteration_clustering_example.py\n",
            "spark-3.0.2-bin-hadoop2.7/examples/src/main/python/mllib/normalizer_example.py\n",
            "spark-3.0.2-bin-hadoop2.7/examples/src/main/python/mllib/naive_bayes_example.py\n",
            "spark-3.0.2-bin-hadoop2.7/examples/src/main/python/mllib/logistic_regression_with_lbfgs_example.py\n",
            "spark-3.0.2-bin-hadoop2.7/examples/src/main/python/mllib/logistic_regression.py\n",
            "spark-3.0.2-bin-hadoop2.7/examples/src/main/python/mllib/linear_regression_with_sgd_example.py\n",
            "spark-3.0.2-bin-hadoop2.7/examples/src/main/python/mllib/latent_dirichlet_allocation_example.py\n",
            "spark-3.0.2-bin-hadoop2.7/examples/src/main/python/mllib/kmeans.py\n",
            "spark-3.0.2-bin-hadoop2.7/examples/src/main/python/mllib/kernel_density_estimation_example.py\n",
            "spark-3.0.2-bin-hadoop2.7/examples/src/main/python/mllib/k_means_example.py\n",
            "spark-3.0.2-bin-hadoop2.7/examples/src/main/python/mllib/isotonic_regression_example.py\n",
            "spark-3.0.2-bin-hadoop2.7/examples/src/main/python/mllib/hypothesis_testing_kolmogorov_smirnov_test_example.py\n",
            "spark-3.0.2-bin-hadoop2.7/examples/src/main/python/mllib/hypothesis_testing_example.py\n",
            "spark-3.0.2-bin-hadoop2.7/examples/src/main/python/ml/\n",
            "spark-3.0.2-bin-hadoop2.7/examples/src/main/python/ml/word2vec_example.py\n",
            "spark-3.0.2-bin-hadoop2.7/examples/src/main/python/ml/vector_slicer_example.py\n",
            "spark-3.0.2-bin-hadoop2.7/examples/src/main/python/ml/vector_size_hint_example.py\n",
            "spark-3.0.2-bin-hadoop2.7/examples/src/main/python/ml/vector_indexer_example.py\n",
            "spark-3.0.2-bin-hadoop2.7/examples/src/main/python/ml/vector_assembler_example.py\n",
            "spark-3.0.2-bin-hadoop2.7/examples/src/main/python/ml/tokenizer_example.py\n",
            "spark-3.0.2-bin-hadoop2.7/examples/src/main/python/ml/tf_idf_example.py\n",
            "spark-3.0.2-bin-hadoop2.7/examples/src/main/python/ml/summarizer_example.py\n",
            "spark-3.0.2-bin-hadoop2.7/examples/src/main/python/ml/string_indexer_example.py\n",
            "spark-3.0.2-bin-hadoop2.7/examples/src/main/python/ml/stopwords_remover_example.py\n",
            "spark-3.0.2-bin-hadoop2.7/examples/src/main/python/ml/standard_scaler_example.py\n",
            "spark-3.0.2-bin-hadoop2.7/examples/src/main/python/ml/sql_transformer.py\n",
            "spark-3.0.2-bin-hadoop2.7/examples/src/main/python/ml/robust_scaler_example.py\n",
            "spark-3.0.2-bin-hadoop2.7/examples/src/main/python/ml/rformula_example.py\n",
            "spark-3.0.2-bin-hadoop2.7/examples/src/main/python/ml/random_forest_regressor_example.py\n",
            "spark-3.0.2-bin-hadoop2.7/examples/src/main/python/ml/random_forest_classifier_example.py\n",
            "spark-3.0.2-bin-hadoop2.7/examples/src/main/python/ml/quantile_discretizer_example.py\n",
            "spark-3.0.2-bin-hadoop2.7/examples/src/main/python/ml/polynomial_expansion_example.py\n",
            "spark-3.0.2-bin-hadoop2.7/examples/src/main/python/ml/pipeline_example.py\n",
            "spark-3.0.2-bin-hadoop2.7/examples/src/main/python/ml/train_validation_split.py\n",
            "spark-3.0.2-bin-hadoop2.7/examples/src/main/python/ml/prefixspan_example.py\n",
            "spark-3.0.2-bin-hadoop2.7/examples/src/main/python/ml/power_iteration_clustering_example.py\n",
            "spark-3.0.2-bin-hadoop2.7/examples/src/main/python/ml/imputer_example.py\n",
            "spark-3.0.2-bin-hadoop2.7/examples/src/main/python/ml/fpgrowth_example.py\n",
            "spark-3.0.2-bin-hadoop2.7/examples/src/main/python/ml/pca_example.py\n",
            "spark-3.0.2-bin-hadoop2.7/examples/src/main/python/ml/onehot_encoder_example.py\n",
            "spark-3.0.2-bin-hadoop2.7/examples/src/main/python/ml/one_vs_rest_example.py\n",
            "spark-3.0.2-bin-hadoop2.7/examples/src/main/python/ml/normalizer_example.py\n",
            "spark-3.0.2-bin-hadoop2.7/examples/src/main/python/ml/naive_bayes_example.py\n",
            "spark-3.0.2-bin-hadoop2.7/examples/src/main/python/ml/n_gram_example.py\n",
            "spark-3.0.2-bin-hadoop2.7/examples/src/main/python/ml/multilayer_perceptron_classification.py\n",
            "spark-3.0.2-bin-hadoop2.7/examples/src/main/python/ml/multiclass_logistic_regression_with_elastic_net.py\n",
            "spark-3.0.2-bin-hadoop2.7/examples/src/main/python/ml/min_max_scaler_example.py\n",
            "spark-3.0.2-bin-hadoop2.7/examples/src/main/python/ml/min_hash_lsh_example.py\n",
            "spark-3.0.2-bin-hadoop2.7/examples/src/main/python/ml/max_abs_scaler_example.py\n",
            "spark-3.0.2-bin-hadoop2.7/examples/src/main/python/ml/logistic_regression_with_elastic_net.py\n",
            "spark-3.0.2-bin-hadoop2.7/examples/src/main/python/ml/logistic_regression_summary_example.py\n",
            "spark-3.0.2-bin-hadoop2.7/examples/src/main/python/ml/linearsvc.py\n",
            "spark-3.0.2-bin-hadoop2.7/examples/src/main/python/ml/linear_regression_with_elastic_net.py\n",
            "spark-3.0.2-bin-hadoop2.7/examples/src/main/python/ml/lda_example.py\n",
            "spark-3.0.2-bin-hadoop2.7/examples/src/main/python/ml/kmeans_example.py\n",
            "spark-3.0.2-bin-hadoop2.7/examples/src/main/python/ml/isotonic_regression_example.py\n",
            "spark-3.0.2-bin-hadoop2.7/examples/src/main/python/ml/interaction_example.py\n",
            "spark-3.0.2-bin-hadoop2.7/examples/src/main/python/ml/index_to_string_example.py\n",
            "spark-3.0.2-bin-hadoop2.7/examples/src/main/python/ml/gradient_boosted_tree_regressor_example.py\n",
            "spark-3.0.2-bin-hadoop2.7/examples/src/main/python/ml/gradient_boosted_tree_classifier_example.py\n",
            "spark-3.0.2-bin-hadoop2.7/examples/src/main/python/ml/generalized_linear_regression_example.py\n",
            "spark-3.0.2-bin-hadoop2.7/examples/src/main/python/ml/gaussian_mixture_example.py\n",
            "spark-3.0.2-bin-hadoop2.7/examples/src/main/python/ml/fm_regressor_example.py\n",
            "spark-3.0.2-bin-hadoop2.7/examples/src/main/python/ml/fm_classifier_example.py\n",
            "spark-3.0.2-bin-hadoop2.7/examples/src/main/python/ml/feature_hasher_example.py\n",
            "spark-3.0.2-bin-hadoop2.7/examples/src/main/python/ml/estimator_transformer_param_example.py\n",
            "spark-3.0.2-bin-hadoop2.7/examples/src/main/python/ml/elementwise_product_example.py\n",
            "spark-3.0.2-bin-hadoop2.7/examples/src/main/python/ml/decision_tree_regression_example.py\n",
            "spark-3.0.2-bin-hadoop2.7/examples/src/main/python/ml/decision_tree_classification_example.py\n",
            "spark-3.0.2-bin-hadoop2.7/examples/src/main/python/ml/dct_example.py\n",
            "spark-3.0.2-bin-hadoop2.7/examples/src/main/python/ml/dataframe_example.py\n",
            "spark-3.0.2-bin-hadoop2.7/examples/src/main/python/ml/cross_validator.py\n",
            "spark-3.0.2-bin-hadoop2.7/examples/src/main/python/ml/count_vectorizer_example.py\n",
            "spark-3.0.2-bin-hadoop2.7/examples/src/main/python/ml/correlation_example.py\n",
            "spark-3.0.2-bin-hadoop2.7/examples/src/main/python/ml/chisq_selector_example.py\n",
            "spark-3.0.2-bin-hadoop2.7/examples/src/main/python/ml/chi_square_test_example.py\n",
            "spark-3.0.2-bin-hadoop2.7/examples/src/main/python/ml/bucketizer_example.py\n",
            "spark-3.0.2-bin-hadoop2.7/examples/src/main/python/ml/bucketed_random_projection_lsh_example.py\n",
            "spark-3.0.2-bin-hadoop2.7/examples/src/main/python/ml/bisecting_k_means_example.py\n",
            "spark-3.0.2-bin-hadoop2.7/examples/src/main/python/ml/binarizer_example.py\n",
            "spark-3.0.2-bin-hadoop2.7/examples/src/main/python/ml/als_example.py\n",
            "spark-3.0.2-bin-hadoop2.7/examples/src/main/python/ml/aft_survival_regression.py\n",
            "spark-3.0.2-bin-hadoop2.7/examples/src/main/python/logistic_regression.py\n",
            "spark-3.0.2-bin-hadoop2.7/examples/src/main/python/kmeans.py\n",
            "spark-3.0.2-bin-hadoop2.7/examples/src/main/python/avro_inputformat.py\n",
            "spark-3.0.2-bin-hadoop2.7/examples/src/main/python/als.py\n",
            "spark-3.0.2-bin-hadoop2.7/examples/src/main/python/wordcount.py\n",
            "spark-3.0.2-bin-hadoop2.7/examples/src/main/python/transitive_closure.py\n",
            "spark-3.0.2-bin-hadoop2.7/examples/src/main/python/status_api_demo.py\n",
            "spark-3.0.2-bin-hadoop2.7/examples/src/main/python/sort.py\n",
            "spark-3.0.2-bin-hadoop2.7/examples/src/main/python/pi.py\n",
            "spark-3.0.2-bin-hadoop2.7/examples/src/main/python/parquet_inputformat.py\n",
            "spark-3.0.2-bin-hadoop2.7/examples/src/main/python/pagerank.py\n",
            "spark-3.0.2-bin-hadoop2.7/examples/src/main/python/streaming/\n",
            "spark-3.0.2-bin-hadoop2.7/examples/src/main/python/streaming/stateful_network_wordcount.py\n",
            "spark-3.0.2-bin-hadoop2.7/examples/src/main/python/streaming/sql_network_wordcount.py\n",
            "spark-3.0.2-bin-hadoop2.7/examples/src/main/python/streaming/recoverable_network_wordcount.py\n",
            "spark-3.0.2-bin-hadoop2.7/examples/src/main/python/streaming/network_wordjoinsentiments.py\n",
            "spark-3.0.2-bin-hadoop2.7/examples/src/main/python/streaming/network_wordcount.py\n",
            "spark-3.0.2-bin-hadoop2.7/examples/src/main/python/streaming/hdfs_wordcount.py\n",
            "spark-3.0.2-bin-hadoop2.7/examples/src/main/python/streaming/queue_stream.py\n",
            "spark-3.0.2-bin-hadoop2.7/examples/src/main/python/sql/\n",
            "spark-3.0.2-bin-hadoop2.7/examples/src/main/python/sql/hive.py\n",
            "spark-3.0.2-bin-hadoop2.7/examples/src/main/python/sql/datasource.py\n",
            "spark-3.0.2-bin-hadoop2.7/examples/src/main/python/sql/basic.py\n",
            "spark-3.0.2-bin-hadoop2.7/examples/src/main/python/sql/arrow.py\n",
            "spark-3.0.2-bin-hadoop2.7/examples/src/main/python/sql/streaming/\n",
            "spark-3.0.2-bin-hadoop2.7/examples/src/main/python/sql/streaming/structured_network_wordcount_windowed.py\n",
            "spark-3.0.2-bin-hadoop2.7/examples/src/main/python/sql/streaming/structured_network_wordcount.py\n",
            "spark-3.0.2-bin-hadoop2.7/examples/src/main/python/sql/streaming/structured_kafka_wordcount.py\n",
            "spark-3.0.2-bin-hadoop2.7/examples/src/main/java/\n",
            "spark-3.0.2-bin-hadoop2.7/examples/src/main/java/org/\n",
            "spark-3.0.2-bin-hadoop2.7/examples/src/main/java/org/apache/\n",
            "spark-3.0.2-bin-hadoop2.7/examples/src/main/java/org/apache/spark/\n",
            "spark-3.0.2-bin-hadoop2.7/examples/src/main/java/org/apache/spark/examples/\n",
            "spark-3.0.2-bin-hadoop2.7/examples/src/main/java/org/apache/spark/examples/streaming/\n",
            "spark-3.0.2-bin-hadoop2.7/examples/src/main/java/org/apache/spark/examples/streaming/JavaStatefulNetworkWordCount.java\n",
            "spark-3.0.2-bin-hadoop2.7/examples/src/main/java/org/apache/spark/examples/streaming/JavaSqlNetworkWordCount.java\n",
            "spark-3.0.2-bin-hadoop2.7/examples/src/main/java/org/apache/spark/examples/streaming/JavaRecord.java\n",
            "spark-3.0.2-bin-hadoop2.7/examples/src/main/java/org/apache/spark/examples/streaming/JavaQueueStream.java\n",
            "spark-3.0.2-bin-hadoop2.7/examples/src/main/java/org/apache/spark/examples/streaming/JavaNetworkWordCount.java\n",
            "spark-3.0.2-bin-hadoop2.7/examples/src/main/java/org/apache/spark/examples/streaming/JavaDirectKerberizedKafkaWordCount.java\n",
            "spark-3.0.2-bin-hadoop2.7/examples/src/main/java/org/apache/spark/examples/streaming/JavaDirectKafkaWordCount.java\n",
            "spark-3.0.2-bin-hadoop2.7/examples/src/main/java/org/apache/spark/examples/streaming/JavaCustomReceiver.java\n",
            "spark-3.0.2-bin-hadoop2.7/examples/src/main/java/org/apache/spark/examples/streaming/JavaRecoverableNetworkWordCount.java\n",
            "spark-3.0.2-bin-hadoop2.7/examples/src/main/java/org/apache/spark/examples/sql/\n",
            "spark-3.0.2-bin-hadoop2.7/examples/src/main/java/org/apache/spark/examples/sql/streaming/\n",
            "spark-3.0.2-bin-hadoop2.7/examples/src/main/java/org/apache/spark/examples/sql/streaming/JavaStructuredSessionization.java\n",
            "spark-3.0.2-bin-hadoop2.7/examples/src/main/java/org/apache/spark/examples/sql/streaming/JavaStructuredNetworkWordCountWindowed.java\n",
            "spark-3.0.2-bin-hadoop2.7/examples/src/main/java/org/apache/spark/examples/sql/streaming/JavaStructuredNetworkWordCount.java\n",
            "spark-3.0.2-bin-hadoop2.7/examples/src/main/java/org/apache/spark/examples/sql/streaming/JavaStructuredKerberizedKafkaWordCount.java\n",
            "spark-3.0.2-bin-hadoop2.7/examples/src/main/java/org/apache/spark/examples/sql/streaming/JavaStructuredKafkaWordCount.java\n",
            "spark-3.0.2-bin-hadoop2.7/examples/src/main/java/org/apache/spark/examples/sql/hive/\n",
            "spark-3.0.2-bin-hadoop2.7/examples/src/main/java/org/apache/spark/examples/sql/hive/JavaSparkHiveExample.java\n",
            "spark-3.0.2-bin-hadoop2.7/examples/src/main/java/org/apache/spark/examples/sql/JavaUserDefinedUntypedAggregation.java\n",
            "spark-3.0.2-bin-hadoop2.7/examples/src/main/java/org/apache/spark/examples/sql/JavaUserDefinedTypedAggregation.java\n",
            "spark-3.0.2-bin-hadoop2.7/examples/src/main/java/org/apache/spark/examples/sql/JavaUserDefinedScalar.java\n",
            "spark-3.0.2-bin-hadoop2.7/examples/src/main/java/org/apache/spark/examples/sql/JavaSparkSQLExample.java\n",
            "spark-3.0.2-bin-hadoop2.7/examples/src/main/java/org/apache/spark/examples/sql/JavaSQLDataSourceExample.java\n",
            "spark-3.0.2-bin-hadoop2.7/examples/src/main/java/org/apache/spark/examples/mllib/\n",
            "spark-3.0.2-bin-hadoop2.7/examples/src/main/java/org/apache/spark/examples/mllib/JavaSummaryStatisticsExample.java\n",
            "spark-3.0.2-bin-hadoop2.7/examples/src/main/java/org/apache/spark/examples/mllib/JavaStreamingTestExample.java\n",
            "spark-3.0.2-bin-hadoop2.7/examples/src/main/java/org/apache/spark/examples/mllib/JavaStratifiedSamplingExample.java\n",
            "spark-3.0.2-bin-hadoop2.7/examples/src/main/java/org/apache/spark/examples/mllib/JavaSimpleFPGrowth.java\n",
            "spark-3.0.2-bin-hadoop2.7/examples/src/main/java/org/apache/spark/examples/mllib/JavaSVMWithSGDExample.java\n",
            "spark-3.0.2-bin-hadoop2.7/examples/src/main/java/org/apache/spark/examples/mllib/JavaSVDExample.java\n",
            "spark-3.0.2-bin-hadoop2.7/examples/src/main/java/org/apache/spark/examples/mllib/JavaRecommendationExample.java\n",
            "spark-3.0.2-bin-hadoop2.7/examples/src/main/java/org/apache/spark/examples/mllib/JavaRankingMetricsExample.java\n",
            "spark-3.0.2-bin-hadoop2.7/examples/src/main/java/org/apache/spark/examples/mllib/JavaRandomForestRegressionExample.java\n",
            "spark-3.0.2-bin-hadoop2.7/examples/src/main/java/org/apache/spark/examples/mllib/JavaRandomForestClassificationExample.java\n",
            "spark-3.0.2-bin-hadoop2.7/examples/src/main/java/org/apache/spark/examples/mllib/JavaPrefixSpanExample.java\n",
            "spark-3.0.2-bin-hadoop2.7/examples/src/main/java/org/apache/spark/examples/mllib/JavaPowerIterationClusteringExample.java\n",
            "spark-3.0.2-bin-hadoop2.7/examples/src/main/java/org/apache/spark/examples/mllib/JavaPCAExample.java\n",
            "spark-3.0.2-bin-hadoop2.7/examples/src/main/java/org/apache/spark/examples/mllib/JavaNaiveBayesExample.java\n",
            "spark-3.0.2-bin-hadoop2.7/examples/src/main/java/org/apache/spark/examples/mllib/JavaMulticlassClassificationMetricsExample.java\n",
            "spark-3.0.2-bin-hadoop2.7/examples/src/main/java/org/apache/spark/examples/mllib/JavaMultiLabelClassificationMetricsExample.java\n",
            "spark-3.0.2-bin-hadoop2.7/examples/src/main/java/org/apache/spark/examples/mllib/JavaLogisticRegressionWithLBFGSExample.java\n",
            "spark-3.0.2-bin-hadoop2.7/examples/src/main/java/org/apache/spark/examples/mllib/JavaLatentDirichletAllocationExample.java\n",
            "spark-3.0.2-bin-hadoop2.7/examples/src/main/java/org/apache/spark/examples/mllib/JavaLBFGSExample.java\n",
            "spark-3.0.2-bin-hadoop2.7/examples/src/main/java/org/apache/spark/examples/mllib/JavaKernelDensityEstimationExample.java\n",
            "spark-3.0.2-bin-hadoop2.7/examples/src/main/java/org/apache/spark/examples/mllib/JavaKMeansExample.java\n",
            "spark-3.0.2-bin-hadoop2.7/examples/src/main/java/org/apache/spark/examples/mllib/JavaIsotonicRegressionExample.java\n",
            "spark-3.0.2-bin-hadoop2.7/examples/src/main/java/org/apache/spark/examples/mllib/JavaHypothesisTestingKolmogorovSmirnovTestExample.java\n",
            "spark-3.0.2-bin-hadoop2.7/examples/src/main/java/org/apache/spark/examples/mllib/JavaHypothesisTestingExample.java\n",
            "spark-3.0.2-bin-hadoop2.7/examples/src/main/java/org/apache/spark/examples/mllib/JavaGradientBoostingRegressionExample.java\n",
            "spark-3.0.2-bin-hadoop2.7/examples/src/main/java/org/apache/spark/examples/mllib/JavaGradientBoostingClassificationExample.java\n",
            "spark-3.0.2-bin-hadoop2.7/examples/src/main/java/org/apache/spark/examples/mllib/JavaGaussianMixtureExample.java\n",
            "spark-3.0.2-bin-hadoop2.7/examples/src/main/java/org/apache/spark/examples/mllib/JavaElementwiseProductExample.java\n",
            "spark-3.0.2-bin-hadoop2.7/examples/src/main/java/org/apache/spark/examples/mllib/JavaDecisionTreeRegressionExample.java\n",
            "spark-3.0.2-bin-hadoop2.7/examples/src/main/java/org/apache/spark/examples/mllib/JavaDecisionTreeClassificationExample.java\n",
            "spark-3.0.2-bin-hadoop2.7/examples/src/main/java/org/apache/spark/examples/mllib/JavaCorrelationsExample.java\n",
            "spark-3.0.2-bin-hadoop2.7/examples/src/main/java/org/apache/spark/examples/mllib/JavaChiSqSelectorExample.java\n",
            "spark-3.0.2-bin-hadoop2.7/examples/src/main/java/org/apache/spark/examples/mllib/JavaBisectingKMeansExample.java\n",
            "spark-3.0.2-bin-hadoop2.7/examples/src/main/java/org/apache/spark/examples/mllib/JavaBinaryClassificationMetricsExample.java\n",
            "spark-3.0.2-bin-hadoop2.7/examples/src/main/java/org/apache/spark/examples/mllib/JavaAssociationRulesExample.java\n",
            "spark-3.0.2-bin-hadoop2.7/examples/src/main/java/org/apache/spark/examples/mllib/JavaALS.java\n",
            "spark-3.0.2-bin-hadoop2.7/examples/src/main/java/org/apache/spark/examples/ml/\n",
            "spark-3.0.2-bin-hadoop2.7/examples/src/main/java/org/apache/spark/examples/ml/JavaWord2VecExample.java\n",
            "spark-3.0.2-bin-hadoop2.7/examples/src/main/java/org/apache/spark/examples/ml/JavaVectorSlicerExample.java\n",
            "spark-3.0.2-bin-hadoop2.7/examples/src/main/java/org/apache/spark/examples/ml/JavaVectorSizeHintExample.java\n",
            "spark-3.0.2-bin-hadoop2.7/examples/src/main/java/org/apache/spark/examples/ml/JavaVectorIndexerExample.java\n",
            "spark-3.0.2-bin-hadoop2.7/examples/src/main/java/org/apache/spark/examples/ml/JavaVectorAssemblerExample.java\n",
            "spark-3.0.2-bin-hadoop2.7/examples/src/main/java/org/apache/spark/examples/ml/JavaTfIdfExample.java\n",
            "spark-3.0.2-bin-hadoop2.7/examples/src/main/java/org/apache/spark/examples/ml/JavaSummarizerExample.java\n",
            "spark-3.0.2-bin-hadoop2.7/examples/src/main/java/org/apache/spark/examples/ml/JavaStringIndexerExample.java\n",
            "spark-3.0.2-bin-hadoop2.7/examples/src/main/java/org/apache/spark/examples/ml/JavaStopWordsRemoverExample.java\n",
            "spark-3.0.2-bin-hadoop2.7/examples/src/main/java/org/apache/spark/examples/ml/JavaStandardScalerExample.java\n",
            "spark-3.0.2-bin-hadoop2.7/examples/src/main/java/org/apache/spark/examples/ml/JavaSQLTransformerExample.java\n",
            "spark-3.0.2-bin-hadoop2.7/examples/src/main/java/org/apache/spark/examples/ml/JavaRobustScalerExample.java\n",
            "spark-3.0.2-bin-hadoop2.7/examples/src/main/java/org/apache/spark/examples/ml/JavaRandomForestRegressorExample.java\n",
            "spark-3.0.2-bin-hadoop2.7/examples/src/main/java/org/apache/spark/examples/ml/JavaRandomForestClassifierExample.java\n",
            "spark-3.0.2-bin-hadoop2.7/examples/src/main/java/org/apache/spark/examples/ml/JavaRFormulaExample.java\n",
            "spark-3.0.2-bin-hadoop2.7/examples/src/main/java/org/apache/spark/examples/ml/JavaQuantileDiscretizerExample.java\n",
            "spark-3.0.2-bin-hadoop2.7/examples/src/main/java/org/apache/spark/examples/ml/JavaPrefixSpanExample.java\n",
            "spark-3.0.2-bin-hadoop2.7/examples/src/main/java/org/apache/spark/examples/ml/JavaPowerIterationClusteringExample.java\n",
            "spark-3.0.2-bin-hadoop2.7/examples/src/main/java/org/apache/spark/examples/ml/JavaPolynomialExpansionExample.java\n",
            "spark-3.0.2-bin-hadoop2.7/examples/src/main/java/org/apache/spark/examples/ml/JavaPipelineExample.java\n",
            "spark-3.0.2-bin-hadoop2.7/examples/src/main/java/org/apache/spark/examples/ml/JavaPCAExample.java\n",
            "spark-3.0.2-bin-hadoop2.7/examples/src/main/java/org/apache/spark/examples/ml/JavaOneVsRestExample.java\n",
            "spark-3.0.2-bin-hadoop2.7/examples/src/main/java/org/apache/spark/examples/ml/JavaOneHotEncoderExample.java\n",
            "spark-3.0.2-bin-hadoop2.7/examples/src/main/java/org/apache/spark/examples/ml/JavaNormalizerExample.java\n",
            "spark-3.0.2-bin-hadoop2.7/examples/src/main/java/org/apache/spark/examples/ml/JavaNaiveBayesExample.java\n",
            "spark-3.0.2-bin-hadoop2.7/examples/src/main/java/org/apache/spark/examples/ml/JavaNGramExample.java\n",
            "spark-3.0.2-bin-hadoop2.7/examples/src/main/java/org/apache/spark/examples/ml/JavaMultilayerPerceptronClassifierExample.java\n",
            "spark-3.0.2-bin-hadoop2.7/examples/src/main/java/org/apache/spark/examples/ml/JavaMulticlassLogisticRegressionWithElasticNetExample.java\n",
            "spark-3.0.2-bin-hadoop2.7/examples/src/main/java/org/apache/spark/examples/ml/JavaModelSelectionViaTrainValidationSplitExample.java\n",
            "spark-3.0.2-bin-hadoop2.7/examples/src/main/java/org/apache/spark/examples/ml/JavaModelSelectionViaCrossValidationExample.java\n",
            "spark-3.0.2-bin-hadoop2.7/examples/src/main/java/org/apache/spark/examples/ml/JavaMinMaxScalerExample.java\n",
            "spark-3.0.2-bin-hadoop2.7/examples/src/main/java/org/apache/spark/examples/ml/JavaMinHashLSHExample.java\n",
            "spark-3.0.2-bin-hadoop2.7/examples/src/main/java/org/apache/spark/examples/ml/JavaMaxAbsScalerExample.java\n",
            "spark-3.0.2-bin-hadoop2.7/examples/src/main/java/org/apache/spark/examples/ml/JavaLogisticRegressionWithElasticNetExample.java\n",
            "spark-3.0.2-bin-hadoop2.7/examples/src/main/java/org/apache/spark/examples/ml/JavaLogisticRegressionSummaryExample.java\n",
            "spark-3.0.2-bin-hadoop2.7/examples/src/main/java/org/apache/spark/examples/ml/JavaLinearSVCExample.java\n",
            "spark-3.0.2-bin-hadoop2.7/examples/src/main/java/org/apache/spark/examples/ml/JavaLinearRegressionWithElasticNetExample.java\n",
            "spark-3.0.2-bin-hadoop2.7/examples/src/main/java/org/apache/spark/examples/ml/JavaLabeledDocument.java\n",
            "spark-3.0.2-bin-hadoop2.7/examples/src/main/java/org/apache/spark/examples/ml/JavaLDAExample.java\n",
            "spark-3.0.2-bin-hadoop2.7/examples/src/main/java/org/apache/spark/examples/ml/JavaKMeansExample.java\n",
            "spark-3.0.2-bin-hadoop2.7/examples/src/main/java/org/apache/spark/examples/ml/JavaIsotonicRegressionExample.java\n",
            "spark-3.0.2-bin-hadoop2.7/examples/src/main/java/org/apache/spark/examples/ml/JavaInteractionExample.java\n",
            "spark-3.0.2-bin-hadoop2.7/examples/src/main/java/org/apache/spark/examples/ml/JavaIndexToStringExample.java\n",
            "spark-3.0.2-bin-hadoop2.7/examples/src/main/java/org/apache/spark/examples/ml/JavaImputerExample.java\n",
            "spark-3.0.2-bin-hadoop2.7/examples/src/main/java/org/apache/spark/examples/ml/JavaGradientBoostedTreeRegressorExample.java\n",
            "spark-3.0.2-bin-hadoop2.7/examples/src/main/java/org/apache/spark/examples/ml/JavaGradientBoostedTreeClassifierExample.java\n",
            "spark-3.0.2-bin-hadoop2.7/examples/src/main/java/org/apache/spark/examples/ml/JavaGeneralizedLinearRegressionExample.java\n",
            "spark-3.0.2-bin-hadoop2.7/examples/src/main/java/org/apache/spark/examples/ml/JavaGaussianMixtureExample.java\n",
            "spark-3.0.2-bin-hadoop2.7/examples/src/main/java/org/apache/spark/examples/ml/JavaFeatureHasherExample.java\n",
            "spark-3.0.2-bin-hadoop2.7/examples/src/main/java/org/apache/spark/examples/ml/JavaFPGrowthExample.java\n",
            "spark-3.0.2-bin-hadoop2.7/examples/src/main/java/org/apache/spark/examples/ml/JavaFMRegressorExample.java\n",
            "spark-3.0.2-bin-hadoop2.7/examples/src/main/java/org/apache/spark/examples/ml/JavaFMClassifierExample.java\n",
            "spark-3.0.2-bin-hadoop2.7/examples/src/main/java/org/apache/spark/examples/ml/JavaEstimatorTransformerParamExample.java\n",
            "spark-3.0.2-bin-hadoop2.7/examples/src/main/java/org/apache/spark/examples/ml/JavaElementwiseProductExample.java\n",
            "spark-3.0.2-bin-hadoop2.7/examples/src/main/java/org/apache/spark/examples/ml/JavaDocument.java\n",
            "spark-3.0.2-bin-hadoop2.7/examples/src/main/java/org/apache/spark/examples/ml/JavaDecisionTreeRegressionExample.java\n",
            "spark-3.0.2-bin-hadoop2.7/examples/src/main/java/org/apache/spark/examples/ml/JavaDecisionTreeClassificationExample.java\n",
            "spark-3.0.2-bin-hadoop2.7/examples/src/main/java/org/apache/spark/examples/ml/JavaDCTExample.java\n",
            "spark-3.0.2-bin-hadoop2.7/examples/src/main/java/org/apache/spark/examples/ml/JavaCountVectorizerExample.java\n",
            "spark-3.0.2-bin-hadoop2.7/examples/src/main/java/org/apache/spark/examples/ml/JavaCorrelationExample.java\n",
            "spark-3.0.2-bin-hadoop2.7/examples/src/main/java/org/apache/spark/examples/ml/JavaChiSquareTestExample.java\n",
            "spark-3.0.2-bin-hadoop2.7/examples/src/main/java/org/apache/spark/examples/ml/JavaChiSqSelectorExample.java\n",
            "spark-3.0.2-bin-hadoop2.7/examples/src/main/java/org/apache/spark/examples/ml/JavaBucketizerExample.java\n",
            "spark-3.0.2-bin-hadoop2.7/examples/src/main/java/org/apache/spark/examples/ml/JavaBucketedRandomProjectionLSHExample.java\n",
            "spark-3.0.2-bin-hadoop2.7/examples/src/main/java/org/apache/spark/examples/ml/JavaBisectingKMeansExample.java\n",
            "spark-3.0.2-bin-hadoop2.7/examples/src/main/java/org/apache/spark/examples/ml/JavaBinarizerExample.java\n",
            "spark-3.0.2-bin-hadoop2.7/examples/src/main/java/org/apache/spark/examples/ml/JavaALSExample.java\n",
            "spark-3.0.2-bin-hadoop2.7/examples/src/main/java/org/apache/spark/examples/ml/JavaAFTSurvivalRegressionExample.java\n",
            "spark-3.0.2-bin-hadoop2.7/examples/src/main/java/org/apache/spark/examples/ml/JavaTokenizerExample.java\n",
            "spark-3.0.2-bin-hadoop2.7/examples/src/main/java/org/apache/spark/examples/JavaWordCount.java\n",
            "spark-3.0.2-bin-hadoop2.7/examples/src/main/java/org/apache/spark/examples/JavaTC.java\n",
            "spark-3.0.2-bin-hadoop2.7/examples/src/main/java/org/apache/spark/examples/JavaStatusTrackerDemo.java\n",
            "spark-3.0.2-bin-hadoop2.7/examples/src/main/java/org/apache/spark/examples/JavaSparkPi.java\n",
            "spark-3.0.2-bin-hadoop2.7/examples/src/main/java/org/apache/spark/examples/JavaPageRank.java\n",
            "spark-3.0.2-bin-hadoop2.7/examples/src/main/java/org/apache/spark/examples/JavaLogQuery.java\n",
            "spark-3.0.2-bin-hadoop2.7/examples/src/main/java/org/apache/spark/examples/JavaHdfsLR.java\n",
            "spark-3.0.2-bin-hadoop2.7/examples/src/main/scripts/\n",
            "spark-3.0.2-bin-hadoop2.7/examples/src/main/scripts/getGpusResources.sh\n",
            "spark-3.0.2-bin-hadoop2.7/examples/src/main/scala/\n",
            "spark-3.0.2-bin-hadoop2.7/examples/src/main/scala/org/\n",
            "spark-3.0.2-bin-hadoop2.7/examples/src/main/scala/org/apache/\n",
            "spark-3.0.2-bin-hadoop2.7/examples/src/main/scala/org/apache/spark/\n",
            "spark-3.0.2-bin-hadoop2.7/examples/src/main/scala/org/apache/spark/examples/\n",
            "spark-3.0.2-bin-hadoop2.7/examples/src/main/scala/org/apache/spark/examples/SparkKMeans.scala\n",
            "spark-3.0.2-bin-hadoop2.7/examples/src/main/scala/org/apache/spark/examples/LocalKMeans.scala\n",
            "spark-3.0.2-bin-hadoop2.7/examples/src/main/scala/org/apache/spark/examples/streaming/\n",
            "spark-3.0.2-bin-hadoop2.7/examples/src/main/scala/org/apache/spark/examples/streaming/RecoverableNetworkWordCount.scala\n",
            "spark-3.0.2-bin-hadoop2.7/examples/src/main/scala/org/apache/spark/examples/streaming/clickstream/\n",
            "spark-3.0.2-bin-hadoop2.7/examples/src/main/scala/org/apache/spark/examples/streaming/clickstream/PageViewStream.scala\n",
            "spark-3.0.2-bin-hadoop2.7/examples/src/main/scala/org/apache/spark/examples/streaming/clickstream/PageViewGenerator.scala\n",
            "spark-3.0.2-bin-hadoop2.7/examples/src/main/scala/org/apache/spark/examples/streaming/StreamingExamples.scala\n",
            "spark-3.0.2-bin-hadoop2.7/examples/src/main/scala/org/apache/spark/examples/streaming/StatefulNetworkWordCount.scala\n",
            "spark-3.0.2-bin-hadoop2.7/examples/src/main/scala/org/apache/spark/examples/streaming/SqlNetworkWordCount.scala\n",
            "spark-3.0.2-bin-hadoop2.7/examples/src/main/scala/org/apache/spark/examples/streaming/RawNetworkGrep.scala\n",
            "spark-3.0.2-bin-hadoop2.7/examples/src/main/scala/org/apache/spark/examples/streaming/QueueStream.scala\n",
            "spark-3.0.2-bin-hadoop2.7/examples/src/main/scala/org/apache/spark/examples/streaming/NetworkWordCount.scala\n",
            "spark-3.0.2-bin-hadoop2.7/examples/src/main/scala/org/apache/spark/examples/streaming/HdfsWordCount.scala\n",
            "spark-3.0.2-bin-hadoop2.7/examples/src/main/scala/org/apache/spark/examples/streaming/DirectKerberizedKafkaWordCount.scala\n",
            "spark-3.0.2-bin-hadoop2.7/examples/src/main/scala/org/apache/spark/examples/streaming/DirectKafkaWordCount.scala\n",
            "spark-3.0.2-bin-hadoop2.7/examples/src/main/scala/org/apache/spark/examples/streaming/CustomReceiver.scala\n",
            "spark-3.0.2-bin-hadoop2.7/examples/src/main/scala/org/apache/spark/examples/sql/\n",
            "spark-3.0.2-bin-hadoop2.7/examples/src/main/scala/org/apache/spark/examples/sql/SparkSQLExample.scala\n",
            "spark-3.0.2-bin-hadoop2.7/examples/src/main/scala/org/apache/spark/examples/sql/SQLDataSourceExample.scala\n",
            "spark-3.0.2-bin-hadoop2.7/examples/src/main/scala/org/apache/spark/examples/sql/streaming/\n",
            "spark-3.0.2-bin-hadoop2.7/examples/src/main/scala/org/apache/spark/examples/sql/streaming/StructuredSessionization.scala\n",
            "spark-3.0.2-bin-hadoop2.7/examples/src/main/scala/org/apache/spark/examples/sql/streaming/StructuredNetworkWordCountWindowed.scala\n",
            "spark-3.0.2-bin-hadoop2.7/examples/src/main/scala/org/apache/spark/examples/sql/streaming/StructuredNetworkWordCount.scala\n",
            "spark-3.0.2-bin-hadoop2.7/examples/src/main/scala/org/apache/spark/examples/sql/streaming/StructuredKerberizedKafkaWordCount.scala\n",
            "spark-3.0.2-bin-hadoop2.7/examples/src/main/scala/org/apache/spark/examples/sql/streaming/StructuredKafkaWordCount.scala\n",
            "spark-3.0.2-bin-hadoop2.7/examples/src/main/scala/org/apache/spark/examples/sql/hive/\n",
            "spark-3.0.2-bin-hadoop2.7/examples/src/main/scala/org/apache/spark/examples/sql/hive/SparkHiveExample.scala\n",
            "spark-3.0.2-bin-hadoop2.7/examples/src/main/scala/org/apache/spark/examples/sql/UserDefinedUntypedAggregation.scala\n",
            "spark-3.0.2-bin-hadoop2.7/examples/src/main/scala/org/apache/spark/examples/sql/UserDefinedTypedAggregation.scala\n",
            "spark-3.0.2-bin-hadoop2.7/examples/src/main/scala/org/apache/spark/examples/sql/UserDefinedScalar.scala\n",
            "spark-3.0.2-bin-hadoop2.7/examples/src/main/scala/org/apache/spark/examples/sql/SimpleTypedAggregator.scala\n",
            "spark-3.0.2-bin-hadoop2.7/examples/src/main/scala/org/apache/spark/examples/sql/RDDRelation.scala\n",
            "spark-3.0.2-bin-hadoop2.7/examples/src/main/scala/org/apache/spark/examples/pythonconverters/\n",
            "spark-3.0.2-bin-hadoop2.7/examples/src/main/scala/org/apache/spark/examples/pythonconverters/AvroConverters.scala\n",
            "spark-3.0.2-bin-hadoop2.7/examples/src/main/scala/org/apache/spark/examples/mllib/\n",
            "spark-3.0.2-bin-hadoop2.7/examples/src/main/scala/org/apache/spark/examples/mllib/RankingMetricsExample.scala\n",
            "spark-3.0.2-bin-hadoop2.7/examples/src/main/scala/org/apache/spark/examples/mllib/Word2VecExample.scala\n",
            "spark-3.0.2-bin-hadoop2.7/examples/src/main/scala/org/apache/spark/examples/mllib/TallSkinnySVD.scala\n",
            "spark-3.0.2-bin-hadoop2.7/examples/src/main/scala/org/apache/spark/examples/mllib/TallSkinnyPCA.scala\n",
            "spark-3.0.2-bin-hadoop2.7/examples/src/main/scala/org/apache/spark/examples/mllib/TFIDFExample.scala\n",
            "spark-3.0.2-bin-hadoop2.7/examples/src/main/scala/org/apache/spark/examples/mllib/SummaryStatisticsExample.scala\n",
            "spark-3.0.2-bin-hadoop2.7/examples/src/main/scala/org/apache/spark/examples/mllib/StreamingTestExample.scala\n",
            "spark-3.0.2-bin-hadoop2.7/examples/src/main/scala/org/apache/spark/examples/mllib/StreamingLogisticRegression.scala\n",
            "spark-3.0.2-bin-hadoop2.7/examples/src/main/scala/org/apache/spark/examples/mllib/StreamingLinearRegressionExample.scala\n",
            "spark-3.0.2-bin-hadoop2.7/examples/src/main/scala/org/apache/spark/examples/mllib/StreamingKMeansExample.scala\n",
            "spark-3.0.2-bin-hadoop2.7/examples/src/main/scala/org/apache/spark/examples/mllib/StratifiedSamplingExample.scala\n",
            "spark-3.0.2-bin-hadoop2.7/examples/src/main/scala/org/apache/spark/examples/mllib/StandardScalerExample.scala\n",
            "spark-3.0.2-bin-hadoop2.7/examples/src/main/scala/org/apache/spark/examples/mllib/SparseNaiveBayes.scala\n",
            "spark-3.0.2-bin-hadoop2.7/examples/src/main/scala/org/apache/spark/examples/mllib/SimpleFPGrowth.scala\n",
            "spark-3.0.2-bin-hadoop2.7/examples/src/main/scala/org/apache/spark/examples/mllib/SampledRDDs.scala\n",
            "spark-3.0.2-bin-hadoop2.7/examples/src/main/scala/org/apache/spark/examples/mllib/SVMWithSGDExample.scala\n",
            "spark-3.0.2-bin-hadoop2.7/examples/src/main/scala/org/apache/spark/examples/mllib/SVDExample.scala\n",
            "spark-3.0.2-bin-hadoop2.7/examples/src/main/scala/org/apache/spark/examples/mllib/RecommendationExample.scala\n",
            "spark-3.0.2-bin-hadoop2.7/examples/src/main/scala/org/apache/spark/examples/mllib/RandomRDDGeneration.scala\n",
            "spark-3.0.2-bin-hadoop2.7/examples/src/main/scala/org/apache/spark/examples/mllib/RandomForestRegressionExample.scala\n",
            "spark-3.0.2-bin-hadoop2.7/examples/src/main/scala/org/apache/spark/examples/mllib/RandomForestClassificationExample.scala\n",
            "spark-3.0.2-bin-hadoop2.7/examples/src/main/scala/org/apache/spark/examples/mllib/PrefixSpanExample.scala\n",
            "spark-3.0.2-bin-hadoop2.7/examples/src/main/scala/org/apache/spark/examples/mllib/PowerIterationClusteringExample.scala\n",
            "spark-3.0.2-bin-hadoop2.7/examples/src/main/scala/org/apache/spark/examples/mllib/PMMLModelExportExample.scala\n",
            "spark-3.0.2-bin-hadoop2.7/examples/src/main/scala/org/apache/spark/examples/mllib/PCAOnSourceVectorExample.scala\n",
            "spark-3.0.2-bin-hadoop2.7/examples/src/main/scala/org/apache/spark/examples/mllib/PCAOnRowMatrixExample.scala\n",
            "spark-3.0.2-bin-hadoop2.7/examples/src/main/scala/org/apache/spark/examples/mllib/NormalizerExample.scala\n",
            "spark-3.0.2-bin-hadoop2.7/examples/src/main/scala/org/apache/spark/examples/mllib/NaiveBayesExample.scala\n",
            "spark-3.0.2-bin-hadoop2.7/examples/src/main/scala/org/apache/spark/examples/mllib/MultivariateSummarizer.scala\n",
            "spark-3.0.2-bin-hadoop2.7/examples/src/main/scala/org/apache/spark/examples/mllib/MulticlassMetricsExample.scala\n",
            "spark-3.0.2-bin-hadoop2.7/examples/src/main/scala/org/apache/spark/examples/mllib/MultiLabelMetricsExample.scala\n",
            "spark-3.0.2-bin-hadoop2.7/examples/src/main/scala/org/apache/spark/examples/mllib/MovieLensALS.scala\n",
            "spark-3.0.2-bin-hadoop2.7/examples/src/main/scala/org/apache/spark/examples/mllib/LogisticRegressionWithLBFGSExample.scala\n",
            "spark-3.0.2-bin-hadoop2.7/examples/src/main/scala/org/apache/spark/examples/mllib/LatentDirichletAllocationExample.scala\n",
            "spark-3.0.2-bin-hadoop2.7/examples/src/main/scala/org/apache/spark/examples/mllib/LDAExample.scala\n",
            "spark-3.0.2-bin-hadoop2.7/examples/src/main/scala/org/apache/spark/examples/mllib/LBFGSExample.scala\n",
            "spark-3.0.2-bin-hadoop2.7/examples/src/main/scala/org/apache/spark/examples/mllib/KernelDensityEstimationExample.scala\n",
            "spark-3.0.2-bin-hadoop2.7/examples/src/main/scala/org/apache/spark/examples/mllib/KMeansExample.scala\n",
            "spark-3.0.2-bin-hadoop2.7/examples/src/main/scala/org/apache/spark/examples/mllib/IsotonicRegressionExample.scala\n",
            "spark-3.0.2-bin-hadoop2.7/examples/src/main/scala/org/apache/spark/examples/mllib/HypothesisTestingKolmogorovSmirnovTestExample.scala\n",
            "spark-3.0.2-bin-hadoop2.7/examples/src/main/scala/org/apache/spark/examples/mllib/HypothesisTestingExample.scala\n",
            "spark-3.0.2-bin-hadoop2.7/examples/src/main/scala/org/apache/spark/examples/mllib/GradientBoostingRegressionExample.scala\n",
            "spark-3.0.2-bin-hadoop2.7/examples/src/main/scala/org/apache/spark/examples/mllib/GradientBoostingClassificationExample.scala\n",
            "spark-3.0.2-bin-hadoop2.7/examples/src/main/scala/org/apache/spark/examples/mllib/GradientBoostedTreesRunner.scala\n",
            "spark-3.0.2-bin-hadoop2.7/examples/src/main/scala/org/apache/spark/examples/mllib/GaussianMixtureExample.scala\n",
            "spark-3.0.2-bin-hadoop2.7/examples/src/main/scala/org/apache/spark/examples/mllib/FPGrowthExample.scala\n",
            "spark-3.0.2-bin-hadoop2.7/examples/src/main/scala/org/apache/spark/examples/mllib/ElementwiseProductExample.scala\n",
            "spark-3.0.2-bin-hadoop2.7/examples/src/main/scala/org/apache/spark/examples/mllib/DenseKMeans.scala\n",
            "spark-3.0.2-bin-hadoop2.7/examples/src/main/scala/org/apache/spark/examples/mllib/DecisionTreeRunner.scala\n",
            "spark-3.0.2-bin-hadoop2.7/examples/src/main/scala/org/apache/spark/examples/mllib/DecisionTreeRegressionExample.scala\n",
            "spark-3.0.2-bin-hadoop2.7/examples/src/main/scala/org/apache/spark/examples/mllib/DecisionTreeClassificationExample.scala\n",
            "spark-3.0.2-bin-hadoop2.7/examples/src/main/scala/org/apache/spark/examples/mllib/CosineSimilarity.scala\n",
            "spark-3.0.2-bin-hadoop2.7/examples/src/main/scala/org/apache/spark/examples/mllib/CorrelationsExample.scala\n",
            "spark-3.0.2-bin-hadoop2.7/examples/src/main/scala/org/apache/spark/examples/mllib/Correlations.scala\n",
            "spark-3.0.2-bin-hadoop2.7/examples/src/main/scala/org/apache/spark/examples/mllib/ChiSqSelectorExample.scala\n",
            "spark-3.0.2-bin-hadoop2.7/examples/src/main/scala/org/apache/spark/examples/mllib/BisectingKMeansExample.scala\n",
            "spark-3.0.2-bin-hadoop2.7/examples/src/main/scala/org/apache/spark/examples/mllib/BinaryClassificationMetricsExample.scala\n",
            "spark-3.0.2-bin-hadoop2.7/examples/src/main/scala/org/apache/spark/examples/mllib/BinaryClassification.scala\n",
            "spark-3.0.2-bin-hadoop2.7/examples/src/main/scala/org/apache/spark/examples/mllib/AssociationRulesExample.scala\n",
            "spark-3.0.2-bin-hadoop2.7/examples/src/main/scala/org/apache/spark/examples/mllib/AbstractParams.scala\n",
            "spark-3.0.2-bin-hadoop2.7/examples/src/main/scala/org/apache/spark/examples/ml/\n",
            "spark-3.0.2-bin-hadoop2.7/examples/src/main/scala/org/apache/spark/examples/ml/DeveloperApiExample.scala\n",
            "spark-3.0.2-bin-hadoop2.7/examples/src/main/scala/org/apache/spark/examples/ml/Word2VecExample.scala\n",
            "spark-3.0.2-bin-hadoop2.7/examples/src/main/scala/org/apache/spark/examples/ml/VectorSlicerExample.scala\n",
            "spark-3.0.2-bin-hadoop2.7/examples/src/main/scala/org/apache/spark/examples/ml/VectorSizeHintExample.scala\n",
            "spark-3.0.2-bin-hadoop2.7/examples/src/main/scala/org/apache/spark/examples/ml/VectorIndexerExample.scala\n",
            "spark-3.0.2-bin-hadoop2.7/examples/src/main/scala/org/apache/spark/examples/ml/VectorAssemblerExample.scala\n",
            "spark-3.0.2-bin-hadoop2.7/examples/src/main/scala/org/apache/spark/examples/ml/UnaryTransformerExample.scala\n",
            "spark-3.0.2-bin-hadoop2.7/examples/src/main/scala/org/apache/spark/examples/ml/TokenizerExample.scala\n",
            "spark-3.0.2-bin-hadoop2.7/examples/src/main/scala/org/apache/spark/examples/ml/TfIdfExample.scala\n",
            "spark-3.0.2-bin-hadoop2.7/examples/src/main/scala/org/apache/spark/examples/ml/SummarizerExample.scala\n",
            "spark-3.0.2-bin-hadoop2.7/examples/src/main/scala/org/apache/spark/examples/ml/StringIndexerExample.scala\n",
            "spark-3.0.2-bin-hadoop2.7/examples/src/main/scala/org/apache/spark/examples/ml/StopWordsRemoverExample.scala\n",
            "spark-3.0.2-bin-hadoop2.7/examples/src/main/scala/org/apache/spark/examples/ml/StandardScalerExample.scala\n",
            "spark-3.0.2-bin-hadoop2.7/examples/src/main/scala/org/apache/spark/examples/ml/SQLTransformerExample.scala\n",
            "spark-3.0.2-bin-hadoop2.7/examples/src/main/scala/org/apache/spark/examples/ml/RobustScalerExample.scala\n",
            "spark-3.0.2-bin-hadoop2.7/examples/src/main/scala/org/apache/spark/examples/ml/RandomForestRegressorExample.scala\n",
            "spark-3.0.2-bin-hadoop2.7/examples/src/main/scala/org/apache/spark/examples/ml/RandomForestExample.scala\n",
            "spark-3.0.2-bin-hadoop2.7/examples/src/main/scala/org/apache/spark/examples/ml/RandomForestClassifierExample.scala\n",
            "spark-3.0.2-bin-hadoop2.7/examples/src/main/scala/org/apache/spark/examples/ml/RFormulaExample.scala\n",
            "spark-3.0.2-bin-hadoop2.7/examples/src/main/scala/org/apache/spark/examples/ml/QuantileDiscretizerExample.scala\n",
            "spark-3.0.2-bin-hadoop2.7/examples/src/main/scala/org/apache/spark/examples/ml/PrefixSpanExample.scala\n",
            "spark-3.0.2-bin-hadoop2.7/examples/src/main/scala/org/apache/spark/examples/ml/PowerIterationClusteringExample.scala\n",
            "spark-3.0.2-bin-hadoop2.7/examples/src/main/scala/org/apache/spark/examples/ml/PolynomialExpansionExample.scala\n",
            "spark-3.0.2-bin-hadoop2.7/examples/src/main/scala/org/apache/spark/examples/ml/PipelineExample.scala\n",
            "spark-3.0.2-bin-hadoop2.7/examples/src/main/scala/org/apache/spark/examples/ml/PCAExample.scala\n",
            "spark-3.0.2-bin-hadoop2.7/examples/src/main/scala/org/apache/spark/examples/ml/OneVsRestExample.scala\n",
            "spark-3.0.2-bin-hadoop2.7/examples/src/main/scala/org/apache/spark/examples/ml/OneHotEncoderExample.scala\n",
            "spark-3.0.2-bin-hadoop2.7/examples/src/main/scala/org/apache/spark/examples/ml/NormalizerExample.scala\n",
            "spark-3.0.2-bin-hadoop2.7/examples/src/main/scala/org/apache/spark/examples/ml/NaiveBayesExample.scala\n",
            "spark-3.0.2-bin-hadoop2.7/examples/src/main/scala/org/apache/spark/examples/ml/NGramExample.scala\n",
            "spark-3.0.2-bin-hadoop2.7/examples/src/main/scala/org/apache/spark/examples/ml/MultilayerPerceptronClassifierExample.scala\n",
            "spark-3.0.2-bin-hadoop2.7/examples/src/main/scala/org/apache/spark/examples/ml/MulticlassLogisticRegressionWithElasticNetExample.scala\n",
            "spark-3.0.2-bin-hadoop2.7/examples/src/main/scala/org/apache/spark/examples/ml/ModelSelectionViaTrainValidationSplitExample.scala\n",
            "spark-3.0.2-bin-hadoop2.7/examples/src/main/scala/org/apache/spark/examples/ml/ModelSelectionViaCrossValidationExample.scala\n",
            "spark-3.0.2-bin-hadoop2.7/examples/src/main/scala/org/apache/spark/examples/ml/MinMaxScalerExample.scala\n",
            "spark-3.0.2-bin-hadoop2.7/examples/src/main/scala/org/apache/spark/examples/ml/MinHashLSHExample.scala\n",
            "spark-3.0.2-bin-hadoop2.7/examples/src/main/scala/org/apache/spark/examples/ml/MaxAbsScalerExample.scala\n",
            "spark-3.0.2-bin-hadoop2.7/examples/src/main/scala/org/apache/spark/examples/ml/LogisticRegressionWithElasticNetExample.scala\n",
            "spark-3.0.2-bin-hadoop2.7/examples/src/main/scala/org/apache/spark/examples/ml/LogisticRegressionSummaryExample.scala\n",
            "spark-3.0.2-bin-hadoop2.7/examples/src/main/scala/org/apache/spark/examples/ml/LogisticRegressionExample.scala\n",
            "spark-3.0.2-bin-hadoop2.7/examples/src/main/scala/org/apache/spark/examples/ml/LinearSVCExample.scala\n",
            "spark-3.0.2-bin-hadoop2.7/examples/src/main/scala/org/apache/spark/examples/ml/LinearRegressionWithElasticNetExample.scala\n",
            "spark-3.0.2-bin-hadoop2.7/examples/src/main/scala/org/apache/spark/examples/ml/LinearRegressionExample.scala\n",
            "spark-3.0.2-bin-hadoop2.7/examples/src/main/scala/org/apache/spark/examples/ml/LDAExample.scala\n",
            "spark-3.0.2-bin-hadoop2.7/examples/src/main/scala/org/apache/spark/examples/ml/KMeansExample.scala\n",
            "spark-3.0.2-bin-hadoop2.7/examples/src/main/scala/org/apache/spark/examples/ml/IsotonicRegressionExample.scala\n",
            "spark-3.0.2-bin-hadoop2.7/examples/src/main/scala/org/apache/spark/examples/ml/InteractionExample.scala\n",
            "spark-3.0.2-bin-hadoop2.7/examples/src/main/scala/org/apache/spark/examples/ml/IndexToStringExample.scala\n",
            "spark-3.0.2-bin-hadoop2.7/examples/src/main/scala/org/apache/spark/examples/ml/ImputerExample.scala\n",
            "spark-3.0.2-bin-hadoop2.7/examples/src/main/scala/org/apache/spark/examples/ml/GradientBoostedTreeRegressorExample.scala\n",
            "spark-3.0.2-bin-hadoop2.7/examples/src/main/scala/org/apache/spark/examples/ml/GradientBoostedTreeClassifierExample.scala\n",
            "spark-3.0.2-bin-hadoop2.7/examples/src/main/scala/org/apache/spark/examples/ml/GeneralizedLinearRegressionExample.scala\n",
            "spark-3.0.2-bin-hadoop2.7/examples/src/main/scala/org/apache/spark/examples/ml/GaussianMixtureExample.scala\n",
            "spark-3.0.2-bin-hadoop2.7/examples/src/main/scala/org/apache/spark/examples/ml/GBTExample.scala\n",
            "spark-3.0.2-bin-hadoop2.7/examples/src/main/scala/org/apache/spark/examples/ml/FeatureHasherExample.scala\n",
            "spark-3.0.2-bin-hadoop2.7/examples/src/main/scala/org/apache/spark/examples/ml/FPGrowthExample.scala\n",
            "spark-3.0.2-bin-hadoop2.7/examples/src/main/scala/org/apache/spark/examples/ml/FMRegressorExample.scala\n",
            "spark-3.0.2-bin-hadoop2.7/examples/src/main/scala/org/apache/spark/examples/ml/FMClassifierExample.scala\n",
            "spark-3.0.2-bin-hadoop2.7/examples/src/main/scala/org/apache/spark/examples/ml/EstimatorTransformerParamExample.scala\n",
            "spark-3.0.2-bin-hadoop2.7/examples/src/main/scala/org/apache/spark/examples/ml/ElementwiseProductExample.scala\n",
            "spark-3.0.2-bin-hadoop2.7/examples/src/main/scala/org/apache/spark/examples/ml/DecisionTreeRegressionExample.scala\n",
            "spark-3.0.2-bin-hadoop2.7/examples/src/main/scala/org/apache/spark/examples/ml/DecisionTreeExample.scala\n",
            "spark-3.0.2-bin-hadoop2.7/examples/src/main/scala/org/apache/spark/examples/ml/DecisionTreeClassificationExample.scala\n",
            "spark-3.0.2-bin-hadoop2.7/examples/src/main/scala/org/apache/spark/examples/ml/DataFrameExample.scala\n",
            "spark-3.0.2-bin-hadoop2.7/examples/src/main/scala/org/apache/spark/examples/ml/DCTExample.scala\n",
            "spark-3.0.2-bin-hadoop2.7/examples/src/main/scala/org/apache/spark/examples/ml/CountVectorizerExample.scala\n",
            "spark-3.0.2-bin-hadoop2.7/examples/src/main/scala/org/apache/spark/examples/ml/CorrelationExample.scala\n",
            "spark-3.0.2-bin-hadoop2.7/examples/src/main/scala/org/apache/spark/examples/ml/ChiSquareTestExample.scala\n",
            "spark-3.0.2-bin-hadoop2.7/examples/src/main/scala/org/apache/spark/examples/ml/ChiSqSelectorExample.scala\n",
            "spark-3.0.2-bin-hadoop2.7/examples/src/main/scala/org/apache/spark/examples/ml/BucketizerExample.scala\n",
            "spark-3.0.2-bin-hadoop2.7/examples/src/main/scala/org/apache/spark/examples/ml/BucketedRandomProjectionLSHExample.scala\n",
            "spark-3.0.2-bin-hadoop2.7/examples/src/main/scala/org/apache/spark/examples/ml/BisectingKMeansExample.scala\n",
            "spark-3.0.2-bin-hadoop2.7/examples/src/main/scala/org/apache/spark/examples/ml/BinarizerExample.scala\n",
            "spark-3.0.2-bin-hadoop2.7/examples/src/main/scala/org/apache/spark/examples/ml/ALSExample.scala\n",
            "spark-3.0.2-bin-hadoop2.7/examples/src/main/scala/org/apache/spark/examples/ml/AFTSurvivalRegressionExample.scala\n",
            "spark-3.0.2-bin-hadoop2.7/examples/src/main/scala/org/apache/spark/examples/graphx/\n",
            "spark-3.0.2-bin-hadoop2.7/examples/src/main/scala/org/apache/spark/examples/graphx/TriangleCountingExample.scala\n",
            "spark-3.0.2-bin-hadoop2.7/examples/src/main/scala/org/apache/spark/examples/graphx/SynthBenchmark.scala\n",
            "spark-3.0.2-bin-hadoop2.7/examples/src/main/scala/org/apache/spark/examples/graphx/SSSPExample.scala\n",
            "spark-3.0.2-bin-hadoop2.7/examples/src/main/scala/org/apache/spark/examples/graphx/PageRankExample.scala\n",
            "spark-3.0.2-bin-hadoop2.7/examples/src/main/scala/org/apache/spark/examples/graphx/LiveJournalPageRank.scala\n",
            "spark-3.0.2-bin-hadoop2.7/examples/src/main/scala/org/apache/spark/examples/graphx/ConnectedComponentsExample.scala\n",
            "spark-3.0.2-bin-hadoop2.7/examples/src/main/scala/org/apache/spark/examples/graphx/ComprehensiveExample.scala\n",
            "spark-3.0.2-bin-hadoop2.7/examples/src/main/scala/org/apache/spark/examples/graphx/Analytics.scala\n",
            "spark-3.0.2-bin-hadoop2.7/examples/src/main/scala/org/apache/spark/examples/graphx/AggregateMessagesExample.scala\n",
            "spark-3.0.2-bin-hadoop2.7/examples/src/main/scala/org/apache/spark/examples/SparkTC.scala\n",
            "spark-3.0.2-bin-hadoop2.7/examples/src/main/scala/org/apache/spark/examples/SparkRemoteFileTest.scala\n",
            "spark-3.0.2-bin-hadoop2.7/examples/src/main/scala/org/apache/spark/examples/SparkPi.scala\n",
            "spark-3.0.2-bin-hadoop2.7/examples/src/main/scala/org/apache/spark/examples/SparkPageRank.scala\n",
            "spark-3.0.2-bin-hadoop2.7/examples/src/main/scala/org/apache/spark/examples/SparkLR.scala\n",
            "spark-3.0.2-bin-hadoop2.7/examples/src/main/scala/org/apache/spark/examples/SparkHdfsLR.scala\n",
            "spark-3.0.2-bin-hadoop2.7/examples/src/main/scala/org/apache/spark/examples/SparkALS.scala\n",
            "spark-3.0.2-bin-hadoop2.7/examples/src/main/scala/org/apache/spark/examples/SkewedGroupByTest.scala\n",
            "spark-3.0.2-bin-hadoop2.7/examples/src/main/scala/org/apache/spark/examples/SimpleSkewedGroupByTest.scala\n",
            "spark-3.0.2-bin-hadoop2.7/examples/src/main/scala/org/apache/spark/examples/MultiBroadcastTest.scala\n",
            "spark-3.0.2-bin-hadoop2.7/examples/src/main/scala/org/apache/spark/examples/LogQuery.scala\n",
            "spark-3.0.2-bin-hadoop2.7/examples/src/main/scala/org/apache/spark/examples/LocalPi.scala\n",
            "spark-3.0.2-bin-hadoop2.7/examples/src/main/scala/org/apache/spark/examples/LocalLR.scala\n",
            "spark-3.0.2-bin-hadoop2.7/examples/src/main/scala/org/apache/spark/examples/LocalFileLR.scala\n",
            "spark-3.0.2-bin-hadoop2.7/examples/src/main/scala/org/apache/spark/examples/LocalALS.scala\n",
            "spark-3.0.2-bin-hadoop2.7/examples/src/main/scala/org/apache/spark/examples/HdfsTest.scala\n",
            "spark-3.0.2-bin-hadoop2.7/examples/src/main/scala/org/apache/spark/examples/GroupByTest.scala\n",
            "spark-3.0.2-bin-hadoop2.7/examples/src/main/scala/org/apache/spark/examples/ExceptionHandlingTest.scala\n",
            "spark-3.0.2-bin-hadoop2.7/examples/src/main/scala/org/apache/spark/examples/DriverSubmissionTest.scala\n",
            "spark-3.0.2-bin-hadoop2.7/examples/src/main/scala/org/apache/spark/examples/DFSReadWriteTest.scala\n",
            "spark-3.0.2-bin-hadoop2.7/examples/src/main/scala/org/apache/spark/examples/BroadcastTest.scala\n",
            "spark-3.0.2-bin-hadoop2.7/examples/src/main/scala/org/apache/spark/examples/AccumulatorMetricsTest.scala\n",
            "spark-3.0.2-bin-hadoop2.7/examples/src/main/resources/\n",
            "spark-3.0.2-bin-hadoop2.7/examples/src/main/resources/users.parquet\n",
            "spark-3.0.2-bin-hadoop2.7/examples/src/main/resources/users.orc\n",
            "spark-3.0.2-bin-hadoop2.7/examples/src/main/resources/users.avro\n",
            "spark-3.0.2-bin-hadoop2.7/examples/src/main/resources/user.avsc\n",
            "spark-3.0.2-bin-hadoop2.7/examples/src/main/resources/people.txt\n",
            "spark-3.0.2-bin-hadoop2.7/examples/src/main/resources/people.json\n",
            "spark-3.0.2-bin-hadoop2.7/examples/src/main/resources/people.csv\n",
            "spark-3.0.2-bin-hadoop2.7/examples/src/main/resources/kv1.txt\n",
            "spark-3.0.2-bin-hadoop2.7/examples/src/main/resources/full_user.avsc\n",
            "spark-3.0.2-bin-hadoop2.7/examples/src/main/resources/employees.json\n",
            "spark-3.0.2-bin-hadoop2.7/examples/src/main/resources/dir1/\n",
            "spark-3.0.2-bin-hadoop2.7/examples/src/main/resources/dir1/file3.json\n",
            "spark-3.0.2-bin-hadoop2.7/examples/src/main/resources/dir1/file1.parquet\n",
            "spark-3.0.2-bin-hadoop2.7/examples/src/main/resources/dir1/dir2/\n",
            "spark-3.0.2-bin-hadoop2.7/examples/src/main/resources/dir1/dir2/file2.parquet\n",
            "spark-3.0.2-bin-hadoop2.7/examples/src/main/r/\n",
            "spark-3.0.2-bin-hadoop2.7/examples/src/main/r/RSparkSQLExample.R\n",
            "spark-3.0.2-bin-hadoop2.7/examples/src/main/r/streaming/\n",
            "spark-3.0.2-bin-hadoop2.7/examples/src/main/r/streaming/structured_network_wordcount.R\n",
            "spark-3.0.2-bin-hadoop2.7/examples/src/main/r/ml/\n",
            "spark-3.0.2-bin-hadoop2.7/examples/src/main/r/ml/svmLinear.R\n",
            "spark-3.0.2-bin-hadoop2.7/examples/src/main/r/ml/survreg.R\n",
            "spark-3.0.2-bin-hadoop2.7/examples/src/main/r/ml/randomForest.R\n",
            "spark-3.0.2-bin-hadoop2.7/examples/src/main/r/ml/prefixSpan.R\n",
            "spark-3.0.2-bin-hadoop2.7/examples/src/main/r/ml/powerIterationClustering.R\n",
            "spark-3.0.2-bin-hadoop2.7/examples/src/main/r/ml/naiveBayes.R\n",
            "spark-3.0.2-bin-hadoop2.7/examples/src/main/r/ml/mlp.R\n",
            "spark-3.0.2-bin-hadoop2.7/examples/src/main/r/ml/ml.R\n",
            "spark-3.0.2-bin-hadoop2.7/examples/src/main/r/ml/logit.R\n",
            "spark-3.0.2-bin-hadoop2.7/examples/src/main/r/ml/lda.R\n",
            "spark-3.0.2-bin-hadoop2.7/examples/src/main/r/ml/kstest.R\n",
            "spark-3.0.2-bin-hadoop2.7/examples/src/main/r/ml/kmeans.R\n",
            "spark-3.0.2-bin-hadoop2.7/examples/src/main/r/ml/isoreg.R\n",
            "spark-3.0.2-bin-hadoop2.7/examples/src/main/r/ml/glm.R\n",
            "spark-3.0.2-bin-hadoop2.7/examples/src/main/r/ml/gbt.R\n",
            "spark-3.0.2-bin-hadoop2.7/examples/src/main/r/ml/gaussianMixture.R\n",
            "spark-3.0.2-bin-hadoop2.7/examples/src/main/r/ml/fpm.R\n",
            "spark-3.0.2-bin-hadoop2.7/examples/src/main/r/ml/decisionTree.R\n",
            "spark-3.0.2-bin-hadoop2.7/examples/src/main/r/ml/bisectingKmeans.R\n",
            "spark-3.0.2-bin-hadoop2.7/examples/src/main/r/ml/als.R\n",
            "spark-3.0.2-bin-hadoop2.7/examples/src/main/r/dataframe.R\n",
            "spark-3.0.2-bin-hadoop2.7/examples/src/main/r/data-manipulation.R\n",
            "spark-3.0.2-bin-hadoop2.7/examples/jars/\n",
            "spark-3.0.2-bin-hadoop2.7/examples/jars/spark-examples_2.12-3.0.2.jar\n",
            "spark-3.0.2-bin-hadoop2.7/examples/jars/scopt_2.12-3.7.1.jar\n",
            "spark-3.0.2-bin-hadoop2.7/kubernetes/\n",
            "spark-3.0.2-bin-hadoop2.7/kubernetes/tests/\n",
            "spark-3.0.2-bin-hadoop2.7/kubernetes/tests/worker_memory_check.py\n",
            "spark-3.0.2-bin-hadoop2.7/kubernetes/tests/pyfiles.py\n",
            "spark-3.0.2-bin-hadoop2.7/kubernetes/tests/py_container_checks.py\n",
            "spark-3.0.2-bin-hadoop2.7/kubernetes/dockerfiles/\n",
            "spark-3.0.2-bin-hadoop2.7/kubernetes/dockerfiles/spark/\n",
            "spark-3.0.2-bin-hadoop2.7/kubernetes/dockerfiles/spark/bindings/\n",
            "spark-3.0.2-bin-hadoop2.7/kubernetes/dockerfiles/spark/bindings/python/\n",
            "spark-3.0.2-bin-hadoop2.7/kubernetes/dockerfiles/spark/bindings/python/Dockerfile\n",
            "spark-3.0.2-bin-hadoop2.7/kubernetes/dockerfiles/spark/bindings/R/\n",
            "spark-3.0.2-bin-hadoop2.7/kubernetes/dockerfiles/spark/bindings/R/Dockerfile\n",
            "spark-3.0.2-bin-hadoop2.7/kubernetes/dockerfiles/spark/entrypoint.sh\n",
            "spark-3.0.2-bin-hadoop2.7/kubernetes/dockerfiles/spark/Dockerfile\n",
            "spark-3.0.2-bin-hadoop2.7/yarn/\n",
            "spark-3.0.2-bin-hadoop2.7/yarn/spark-3.0.2-yarn-shuffle.jar\n",
            "spark-3.0.2-bin-hadoop2.7/jars/\n",
            "spark-3.0.2-bin-hadoop2.7/jars/zstd-jni-1.4.4-3.jar\n",
            "spark-3.0.2-bin-hadoop2.7/jars/zookeeper-3.4.14.jar\n",
            "spark-3.0.2-bin-hadoop2.7/jars/zjsonpatch-0.3.0.jar\n",
            "spark-3.0.2-bin-hadoop2.7/jars/xz-1.5.jar\n",
            "spark-3.0.2-bin-hadoop2.7/jars/xmlenc-0.52.jar\n",
            "spark-3.0.2-bin-hadoop2.7/jars/xml-apis-1.4.01.jar\n",
            "spark-3.0.2-bin-hadoop2.7/jars/xercesImpl-2.12.0.jar\n",
            "spark-3.0.2-bin-hadoop2.7/jars/xbean-asm7-shaded-4.15.jar\n",
            "spark-3.0.2-bin-hadoop2.7/jars/velocity-1.5.jar\n",
            "spark-3.0.2-bin-hadoop2.7/jars/univocity-parsers-2.9.0.jar\n",
            "spark-3.0.2-bin-hadoop2.7/jars/transaction-api-1.1.jar\n",
            "spark-3.0.2-bin-hadoop2.7/jars/threeten-extra-1.5.0.jar\n",
            "spark-3.0.2-bin-hadoop2.7/jars/super-csv-2.2.0.jar\n",
            "spark-3.0.2-bin-hadoop2.7/jars/stream-2.9.6.jar\n",
            "spark-3.0.2-bin-hadoop2.7/jars/stax-api-1.0.1.jar\n",
            "spark-3.0.2-bin-hadoop2.7/jars/stax-api-1.0-2.jar\n",
            "spark-3.0.2-bin-hadoop2.7/jars/spire_2.12-0.17.0-M1.jar\n",
            "spark-3.0.2-bin-hadoop2.7/jars/spire-util_2.12-0.17.0-M1.jar\n",
            "spark-3.0.2-bin-hadoop2.7/jars/spire-platform_2.12-0.17.0-M1.jar\n",
            "spark-3.0.2-bin-hadoop2.7/jars/spire-macros_2.12-0.17.0-M1.jar\n",
            "spark-3.0.2-bin-hadoop2.7/jars/spark-yarn_2.12-3.0.2.jar\n",
            "spark-3.0.2-bin-hadoop2.7/jars/spark-unsafe_2.12-3.0.2.jar\n",
            "spark-3.0.2-bin-hadoop2.7/jars/spark-tags_2.12-3.0.2.jar\n",
            "spark-3.0.2-bin-hadoop2.7/jars/spark-tags_2.12-3.0.2-tests.jar\n",
            "spark-3.0.2-bin-hadoop2.7/jars/spark-streaming_2.12-3.0.2.jar\n",
            "spark-3.0.2-bin-hadoop2.7/jars/spark-sql_2.12-3.0.2.jar\n",
            "spark-3.0.2-bin-hadoop2.7/jars/spark-sketch_2.12-3.0.2.jar\n",
            "spark-3.0.2-bin-hadoop2.7/jars/spark-repl_2.12-3.0.2.jar\n",
            "spark-3.0.2-bin-hadoop2.7/jars/spark-network-shuffle_2.12-3.0.2.jar\n",
            "spark-3.0.2-bin-hadoop2.7/jars/spark-network-common_2.12-3.0.2.jar\n",
            "spark-3.0.2-bin-hadoop2.7/jars/spark-mllib_2.12-3.0.2.jar\n",
            "spark-3.0.2-bin-hadoop2.7/jars/spark-mllib-local_2.12-3.0.2.jar\n",
            "spark-3.0.2-bin-hadoop2.7/jars/spark-mesos_2.12-3.0.2.jar\n",
            "spark-3.0.2-bin-hadoop2.7/jars/spark-launcher_2.12-3.0.2.jar\n",
            "spark-3.0.2-bin-hadoop2.7/jars/spark-kvstore_2.12-3.0.2.jar\n",
            "spark-3.0.2-bin-hadoop2.7/jars/spark-kubernetes_2.12-3.0.2.jar\n",
            "spark-3.0.2-bin-hadoop2.7/jars/spark-hive_2.12-3.0.2.jar\n",
            "spark-3.0.2-bin-hadoop2.7/jars/spark-hive-thriftserver_2.12-3.0.2.jar\n",
            "spark-3.0.2-bin-hadoop2.7/jars/spark-graphx_2.12-3.0.2.jar\n",
            "spark-3.0.2-bin-hadoop2.7/jars/spark-core_2.12-3.0.2.jar\n",
            "spark-3.0.2-bin-hadoop2.7/jars/scala-reflect-2.12.10.jar\n",
            "spark-3.0.2-bin-hadoop2.7/jars/scala-parser-combinators_2.12-1.1.2.jar\n",
            "spark-3.0.2-bin-hadoop2.7/jars/scala-library-2.12.10.jar\n",
            "spark-3.0.2-bin-hadoop2.7/jars/scala-compiler-2.12.10.jar\n",
            "spark-3.0.2-bin-hadoop2.7/jars/scala-collection-compat_2.12-2.1.1.jar\n",
            "spark-3.0.2-bin-hadoop2.7/jars/pyrolite-4.30.jar\n",
            "spark-3.0.2-bin-hadoop2.7/jars/py4j-0.10.9.jar\n",
            "spark-3.0.2-bin-hadoop2.7/jars/protobuf-java-2.5.0.jar\n",
            "spark-3.0.2-bin-hadoop2.7/jars/parquet-jackson-1.10.1.jar\n",
            "spark-3.0.2-bin-hadoop2.7/jars/parquet-hadoop-1.10.1.jar\n",
            "spark-3.0.2-bin-hadoop2.7/jars/parquet-format-2.4.0.jar\n",
            "spark-3.0.2-bin-hadoop2.7/jars/parquet-encoding-1.10.1.jar\n",
            "spark-3.0.2-bin-hadoop2.7/jars/parquet-common-1.10.1.jar\n",
            "spark-3.0.2-bin-hadoop2.7/jars/parquet-column-1.10.1.jar\n",
            "spark-3.0.2-bin-hadoop2.7/jars/paranamer-2.8.jar\n",
            "spark-3.0.2-bin-hadoop2.7/jars/osgi-resource-locator-1.0.3.jar\n",
            "spark-3.0.2-bin-hadoop2.7/jars/oro-2.0.8.jar\n",
            "spark-3.0.2-bin-hadoop2.7/jars/orc-shims-1.5.10.jar\n",
            "spark-3.0.2-bin-hadoop2.7/jars/orc-mapreduce-1.5.10.jar\n",
            "spark-3.0.2-bin-hadoop2.7/jars/orc-core-1.5.10.jar\n",
            "spark-3.0.2-bin-hadoop2.7/jars/opencsv-2.3.jar\n",
            "spark-3.0.2-bin-hadoop2.7/jars/okio-1.15.0.jar\n",
            "spark-3.0.2-bin-hadoop2.7/jars/okhttp-3.12.6.jar\n",
            "spark-3.0.2-bin-hadoop2.7/jars/objenesis-2.5.1.jar\n",
            "spark-3.0.2-bin-hadoop2.7/jars/netty-all-4.1.47.Final.jar\n",
            "spark-3.0.2-bin-hadoop2.7/jars/minlog-1.3.0.jar\n",
            "spark-3.0.2-bin-hadoop2.7/jars/metrics-jvm-4.1.1.jar\n",
            "spark-3.0.2-bin-hadoop2.7/jars/metrics-json-4.1.1.jar\n",
            "spark-3.0.2-bin-hadoop2.7/jars/metrics-jmx-4.1.1.jar\n",
            "spark-3.0.2-bin-hadoop2.7/jars/metrics-graphite-4.1.1.jar\n",
            "spark-3.0.2-bin-hadoop2.7/jars/metrics-core-4.1.1.jar\n",
            "spark-3.0.2-bin-hadoop2.7/jars/mesos-1.4.0-shaded-protobuf.jar\n",
            "spark-3.0.2-bin-hadoop2.7/jars/macro-compat_2.12-1.1.1.jar\n",
            "spark-3.0.2-bin-hadoop2.7/jars/machinist_2.12-0.6.8.jar\n",
            "spark-3.0.2-bin-hadoop2.7/jars/lz4-java-1.7.1.jar\n",
            "spark-3.0.2-bin-hadoop2.7/jars/logging-interceptor-3.12.6.jar\n",
            "spark-3.0.2-bin-hadoop2.7/jars/log4j-1.2.17.jar\n",
            "spark-3.0.2-bin-hadoop2.7/jars/libthrift-0.12.0.jar\n",
            "spark-3.0.2-bin-hadoop2.7/jars/libfb303-0.9.3.jar\n",
            "spark-3.0.2-bin-hadoop2.7/jars/leveldbjni-all-1.8.jar\n",
            "spark-3.0.2-bin-hadoop2.7/jars/kubernetes-model-common-4.9.2.jar\n",
            "spark-3.0.2-bin-hadoop2.7/jars/kubernetes-model-4.9.2.jar\n",
            "spark-3.0.2-bin-hadoop2.7/jars/kubernetes-client-4.9.2.jar\n",
            "spark-3.0.2-bin-hadoop2.7/jars/kryo-shaded-4.0.2.jar\n",
            "spark-3.0.2-bin-hadoop2.7/jars/jul-to-slf4j-1.7.30.jar\n",
            "spark-3.0.2-bin-hadoop2.7/jars/jta-1.1.jar\n",
            "spark-3.0.2-bin-hadoop2.7/jars/jsr305-3.0.0.jar\n",
            "spark-3.0.2-bin-hadoop2.7/jars/jsp-api-2.1.jar\n",
            "spark-3.0.2-bin-hadoop2.7/jars/json4s-scalap_2.12-3.6.6.jar\n",
            "spark-3.0.2-bin-hadoop2.7/jars/json4s-jackson_2.12-3.6.6.jar\n",
            "spark-3.0.2-bin-hadoop2.7/jars/json4s-core_2.12-3.6.6.jar\n",
            "spark-3.0.2-bin-hadoop2.7/jars/json4s-ast_2.12-3.6.6.jar\n",
            "spark-3.0.2-bin-hadoop2.7/jars/json-1.8.jar\n",
            "spark-3.0.2-bin-hadoop2.7/jars/jpam-1.1.jar\n",
            "spark-3.0.2-bin-hadoop2.7/jars/jodd-core-3.5.2.jar\n",
            "spark-3.0.2-bin-hadoop2.7/jars/joda-time-2.10.5.jar\n",
            "spark-3.0.2-bin-hadoop2.7/jars/jline-2.14.6.jar\n",
            "spark-3.0.2-bin-hadoop2.7/jars/jetty-util-6.1.26.jar\n",
            "spark-3.0.2-bin-hadoop2.7/jars/jetty-sslengine-6.1.26.jar\n",
            "spark-3.0.2-bin-hadoop2.7/jars/jetty-6.1.26.jar\n",
            "spark-3.0.2-bin-hadoop2.7/jars/jersey-server-2.30.jar\n",
            "spark-3.0.2-bin-hadoop2.7/jars/jersey-media-jaxb-2.30.jar\n",
            "spark-3.0.2-bin-hadoop2.7/jars/jersey-hk2-2.30.jar\n",
            "spark-3.0.2-bin-hadoop2.7/jars/jersey-container-servlet-core-2.30.jar\n",
            "spark-3.0.2-bin-hadoop2.7/jars/jersey-container-servlet-2.30.jar\n",
            "spark-3.0.2-bin-hadoop2.7/jars/jersey-common-2.30.jar\n",
            "spark-3.0.2-bin-hadoop2.7/jars/jersey-client-2.30.jar\n",
            "spark-3.0.2-bin-hadoop2.7/jars/jdo-api-3.0.1.jar\n",
            "spark-3.0.2-bin-hadoop2.7/jars/jcl-over-slf4j-1.7.30.jar\n",
            "spark-3.0.2-bin-hadoop2.7/jars/jaxb-runtime-2.3.2.jar\n",
            "spark-3.0.2-bin-hadoop2.7/jars/jaxb-api-2.2.2.jar\n",
            "spark-3.0.2-bin-hadoop2.7/jars/javolution-5.5.1.jar\n",
            "spark-3.0.2-bin-hadoop2.7/jars/javax.servlet-api-3.1.0.jar\n",
            "spark-3.0.2-bin-hadoop2.7/jars/javax.jdo-3.2.0-m3.jar\n",
            "spark-3.0.2-bin-hadoop2.7/jars/javax.inject-1.jar\n",
            "spark-3.0.2-bin-hadoop2.7/jars/javassist-3.25.0-GA.jar\n",
            "spark-3.0.2-bin-hadoop2.7/jars/janino-3.0.16.jar\n",
            "spark-3.0.2-bin-hadoop2.7/jars/jakarta.xml.bind-api-2.3.2.jar\n",
            "spark-3.0.2-bin-hadoop2.7/jars/jakarta.ws.rs-api-2.1.6.jar\n",
            "spark-3.0.2-bin-hadoop2.7/jars/jakarta.validation-api-2.0.2.jar\n",
            "spark-3.0.2-bin-hadoop2.7/jars/jakarta.inject-2.6.1.jar\n",
            "spark-3.0.2-bin-hadoop2.7/jars/jakarta.annotation-api-1.3.5.jar\n",
            "spark-3.0.2-bin-hadoop2.7/jars/jakarta.activation-api-1.2.1.jar\n",
            "spark-3.0.2-bin-hadoop2.7/jars/jackson-xc-1.9.13.jar\n",
            "spark-3.0.2-bin-hadoop2.7/jars/jackson-module-scala_2.12-2.10.0.jar\n",
            "spark-3.0.2-bin-hadoop2.7/jars/jackson-module-paranamer-2.10.0.jar\n",
            "spark-3.0.2-bin-hadoop2.7/jars/jackson-module-jaxb-annotations-2.10.0.jar\n",
            "spark-3.0.2-bin-hadoop2.7/jars/jackson-mapper-asl-1.9.13.jar\n",
            "spark-3.0.2-bin-hadoop2.7/jars/jackson-jaxrs-1.9.13.jar\n",
            "spark-3.0.2-bin-hadoop2.7/jars/jackson-datatype-jsr310-2.10.3.jar\n",
            "spark-3.0.2-bin-hadoop2.7/jars/jackson-dataformat-yaml-2.10.0.jar\n",
            "spark-3.0.2-bin-hadoop2.7/jars/jackson-databind-2.10.0.jar\n",
            "spark-3.0.2-bin-hadoop2.7/jars/jackson-core-asl-1.9.13.jar\n",
            "spark-3.0.2-bin-hadoop2.7/jars/jackson-core-2.10.0.jar\n",
            "spark-3.0.2-bin-hadoop2.7/jars/jackson-annotations-2.10.0.jar\n",
            "spark-3.0.2-bin-hadoop2.7/jars/ivy-2.4.0.jar\n",
            "spark-3.0.2-bin-hadoop2.7/jars/istack-commons-runtime-3.0.8.jar\n",
            "spark-3.0.2-bin-hadoop2.7/jars/httpcore-4.4.12.jar\n",
            "spark-3.0.2-bin-hadoop2.7/jars/httpclient-4.5.6.jar\n",
            "spark-3.0.2-bin-hadoop2.7/jars/htrace-core-3.1.0-incubating.jar\n",
            "spark-3.0.2-bin-hadoop2.7/jars/hk2-utils-2.6.1.jar\n",
            "spark-3.0.2-bin-hadoop2.7/jars/hk2-locator-2.6.1.jar\n",
            "spark-3.0.2-bin-hadoop2.7/jars/hk2-api-2.6.1.jar\n",
            "spark-3.0.2-bin-hadoop2.7/jars/hive-vector-code-gen-2.3.7.jar\n",
            "spark-3.0.2-bin-hadoop2.7/jars/hive-storage-api-2.7.1.jar\n",
            "spark-3.0.2-bin-hadoop2.7/jars/hive-shims-scheduler-2.3.7.jar\n",
            "spark-3.0.2-bin-hadoop2.7/jars/hive-shims-common-2.3.7.jar\n",
            "spark-3.0.2-bin-hadoop2.7/jars/hive-shims-2.3.7.jar\n",
            "spark-3.0.2-bin-hadoop2.7/jars/hive-shims-0.23-2.3.7.jar\n",
            "spark-3.0.2-bin-hadoop2.7/jars/hive-serde-2.3.7.jar\n",
            "spark-3.0.2-bin-hadoop2.7/jars/hive-metastore-2.3.7.jar\n",
            "spark-3.0.2-bin-hadoop2.7/jars/hive-llap-common-2.3.7.jar\n",
            "spark-3.0.2-bin-hadoop2.7/jars/hive-jdbc-2.3.7.jar\n",
            "spark-3.0.2-bin-hadoop2.7/jars/hive-exec-2.3.7-core.jar\n",
            "spark-3.0.2-bin-hadoop2.7/jars/hive-common-2.3.7.jar\n",
            "spark-3.0.2-bin-hadoop2.7/jars/hive-cli-2.3.7.jar\n",
            "spark-3.0.2-bin-hadoop2.7/jars/hive-beeline-2.3.7.jar\n",
            "spark-3.0.2-bin-hadoop2.7/jars/hadoop-yarn-server-web-proxy-2.7.4.jar\n",
            "spark-3.0.2-bin-hadoop2.7/jars/hadoop-yarn-server-common-2.7.4.jar\n",
            "spark-3.0.2-bin-hadoop2.7/jars/hadoop-yarn-common-2.7.4.jar\n",
            "spark-3.0.2-bin-hadoop2.7/jars/hadoop-yarn-client-2.7.4.jar\n",
            "spark-3.0.2-bin-hadoop2.7/jars/hadoop-yarn-api-2.7.4.jar\n",
            "spark-3.0.2-bin-hadoop2.7/jars/hadoop-mapreduce-client-shuffle-2.7.4.jar\n",
            "spark-3.0.2-bin-hadoop2.7/jars/hadoop-mapreduce-client-jobclient-2.7.4.jar\n",
            "spark-3.0.2-bin-hadoop2.7/jars/hadoop-mapreduce-client-core-2.7.4.jar\n",
            "spark-3.0.2-bin-hadoop2.7/jars/hadoop-mapreduce-client-common-2.7.4.jar\n",
            "spark-3.0.2-bin-hadoop2.7/jars/hadoop-mapreduce-client-app-2.7.4.jar\n",
            "spark-3.0.2-bin-hadoop2.7/jars/hadoop-hdfs-2.7.4.jar\n",
            "spark-3.0.2-bin-hadoop2.7/jars/hadoop-common-2.7.4.jar\n",
            "spark-3.0.2-bin-hadoop2.7/jars/hadoop-client-2.7.4.jar\n",
            "spark-3.0.2-bin-hadoop2.7/jars/hadoop-auth-2.7.4.jar\n",
            "spark-3.0.2-bin-hadoop2.7/jars/hadoop-annotations-2.7.4.jar\n",
            "spark-3.0.2-bin-hadoop2.7/jars/guice-servlet-3.0.jar\n",
            "spark-3.0.2-bin-hadoop2.7/jars/guice-3.0.jar\n",
            "spark-3.0.2-bin-hadoop2.7/jars/guava-14.0.1.jar\n",
            "spark-3.0.2-bin-hadoop2.7/jars/gson-2.2.4.jar\n",
            "spark-3.0.2-bin-hadoop2.7/jars/generex-1.0.2.jar\n",
            "spark-3.0.2-bin-hadoop2.7/jars/flatbuffers-java-1.9.0.jar\n",
            "spark-3.0.2-bin-hadoop2.7/jars/dropwizard-metrics-hadoop-metrics2-reporter-0.1.2.jar\n",
            "spark-3.0.2-bin-hadoop2.7/jars/derby-10.12.1.1.jar\n",
            "spark-3.0.2-bin-hadoop2.7/jars/datanucleus-rdbms-4.1.19.jar\n",
            "spark-3.0.2-bin-hadoop2.7/jars/datanucleus-core-4.1.17.jar\n",
            "spark-3.0.2-bin-hadoop2.7/jars/datanucleus-api-jdo-4.2.4.jar\n",
            "spark-3.0.2-bin-hadoop2.7/jars/curator-recipes-2.7.1.jar\n",
            "spark-3.0.2-bin-hadoop2.7/jars/curator-framework-2.7.1.jar\n",
            "spark-3.0.2-bin-hadoop2.7/jars/curator-client-2.7.1.jar\n",
            "spark-3.0.2-bin-hadoop2.7/jars/core-1.1.2.jar\n",
            "spark-3.0.2-bin-hadoop2.7/jars/compress-lzf-1.0.3.jar\n",
            "spark-3.0.2-bin-hadoop2.7/jars/commons-text-1.6.jar\n",
            "spark-3.0.2-bin-hadoop2.7/jars/commons-pool-1.5.4.jar\n",
            "spark-3.0.2-bin-hadoop2.7/jars/commons-net-3.1.jar\n",
            "spark-3.0.2-bin-hadoop2.7/jars/commons-math3-3.4.1.jar\n",
            "spark-3.0.2-bin-hadoop2.7/jars/commons-logging-1.1.3.jar\n",
            "spark-3.0.2-bin-hadoop2.7/jars/commons-lang3-3.9.jar\n",
            "spark-3.0.2-bin-hadoop2.7/jars/commons-lang-2.6.jar\n",
            "spark-3.0.2-bin-hadoop2.7/jars/commons-io-2.4.jar\n",
            "spark-3.0.2-bin-hadoop2.7/jars/commons-httpclient-3.1.jar\n",
            "spark-3.0.2-bin-hadoop2.7/jars/commons-digester-1.8.jar\n",
            "spark-3.0.2-bin-hadoop2.7/jars/commons-dbcp-1.4.jar\n",
            "spark-3.0.2-bin-hadoop2.7/jars/commons-crypto-1.1.0.jar\n",
            "spark-3.0.2-bin-hadoop2.7/jars/commons-configuration-1.6.jar\n",
            "spark-3.0.2-bin-hadoop2.7/jars/commons-compress-1.20.jar\n",
            "spark-3.0.2-bin-hadoop2.7/jars/commons-compiler-3.0.16.jar\n",
            "spark-3.0.2-bin-hadoop2.7/jars/commons-collections-3.2.2.jar\n",
            "spark-3.0.2-bin-hadoop2.7/jars/commons-codec-1.10.jar\n",
            "spark-3.0.2-bin-hadoop2.7/jars/commons-cli-1.2.jar\n",
            "spark-3.0.2-bin-hadoop2.7/jars/commons-beanutils-1.9.4.jar\n",
            "spark-3.0.2-bin-hadoop2.7/jars/chill_2.12-0.9.5.jar\n",
            "spark-3.0.2-bin-hadoop2.7/jars/chill-java-0.9.5.jar\n",
            "spark-3.0.2-bin-hadoop2.7/jars/cats-kernel_2.12-2.0.0-M4.jar\n",
            "spark-3.0.2-bin-hadoop2.7/jars/breeze_2.12-1.0.jar\n",
            "spark-3.0.2-bin-hadoop2.7/jars/breeze-macros_2.12-1.0.jar\n",
            "spark-3.0.2-bin-hadoop2.7/jars/bonecp-0.8.0.RELEASE.jar\n",
            "spark-3.0.2-bin-hadoop2.7/jars/avro-mapred-1.8.2-hadoop2.jar\n",
            "spark-3.0.2-bin-hadoop2.7/jars/avro-ipc-1.8.2.jar\n",
            "spark-3.0.2-bin-hadoop2.7/jars/avro-1.8.2.jar\n",
            "spark-3.0.2-bin-hadoop2.7/jars/automaton-1.11-8.jar\n",
            "spark-3.0.2-bin-hadoop2.7/jars/audience-annotations-0.5.0.jar\n",
            "spark-3.0.2-bin-hadoop2.7/jars/arrow-vector-0.15.1.jar\n",
            "spark-3.0.2-bin-hadoop2.7/jars/arrow-memory-0.15.1.jar\n",
            "spark-3.0.2-bin-hadoop2.7/jars/arrow-format-0.15.1.jar\n",
            "spark-3.0.2-bin-hadoop2.7/jars/arpack_combined_all-0.1.jar\n",
            "spark-3.0.2-bin-hadoop2.7/jars/api-util-1.0.0-M20.jar\n",
            "spark-3.0.2-bin-hadoop2.7/jars/api-asn1-api-1.0.0-M20.jar\n",
            "spark-3.0.2-bin-hadoop2.7/jars/apacheds-kerberos-codec-2.0.0-M15.jar\n",
            "spark-3.0.2-bin-hadoop2.7/jars/apacheds-i18n-2.0.0-M15.jar\n",
            "spark-3.0.2-bin-hadoop2.7/jars/aopalliance-repackaged-2.6.1.jar\n",
            "spark-3.0.2-bin-hadoop2.7/jars/aopalliance-1.0.jar\n",
            "spark-3.0.2-bin-hadoop2.7/jars/antlr4-runtime-4.7.1.jar\n",
            "spark-3.0.2-bin-hadoop2.7/jars/antlr-runtime-3.5.2.jar\n",
            "spark-3.0.2-bin-hadoop2.7/jars/algebra_2.12-2.0.0-M2.jar\n",
            "spark-3.0.2-bin-hadoop2.7/jars/aircompressor-0.10.jar\n",
            "spark-3.0.2-bin-hadoop2.7/jars/activation-1.1.1.jar\n",
            "spark-3.0.2-bin-hadoop2.7/jars/ST4-4.0.4.jar\n",
            "spark-3.0.2-bin-hadoop2.7/jars/RoaringBitmap-0.7.45.jar\n",
            "spark-3.0.2-bin-hadoop2.7/jars/JTransforms-3.1.jar\n",
            "spark-3.0.2-bin-hadoop2.7/jars/JLargeArrays-1.5.jar\n",
            "spark-3.0.2-bin-hadoop2.7/jars/HikariCP-2.5.1.jar\n",
            "spark-3.0.2-bin-hadoop2.7/jars/spark-catalyst_2.12-3.0.2.jar\n",
            "spark-3.0.2-bin-hadoop2.7/jars/snappy-java-1.1.8.2.jar\n",
            "spark-3.0.2-bin-hadoop2.7/jars/snakeyaml-1.24.jar\n",
            "spark-3.0.2-bin-hadoop2.7/jars/slf4j-log4j12-1.7.30.jar\n",
            "spark-3.0.2-bin-hadoop2.7/jars/slf4j-api-1.7.30.jar\n",
            "spark-3.0.2-bin-hadoop2.7/jars/shims-0.7.45.jar\n",
            "spark-3.0.2-bin-hadoop2.7/jars/shapeless_2.12-2.3.3.jar\n",
            "spark-3.0.2-bin-hadoop2.7/jars/scala-xml_2.12-1.2.0.jar\n",
            "spark-3.0.2-bin-hadoop2.7/RELEASE\n"
          ],
          "name": "stdout"
        }
      ]
    },
    {
      "cell_type": "code",
      "metadata": {
        "colab": {
          "base_uri": "https://localhost:8080/"
        },
        "id": "U3W9OQk7C1nD",
        "outputId": "6e14ff7c-3b30-432c-ef63-d70dfacb8801"
      },
      "source": [
        "!ls /content/spark-3.0.2-bin-hadoop2.7\n",
        "\n",
        "!pip install findspark"
      ],
      "execution_count": 5,
      "outputs": [
        {
          "output_type": "stream",
          "text": [
            "bin   data\tjars\t    LICENSE   NOTICE  R\t\t RELEASE  yarn\n",
            "conf  examples\tkubernetes  licenses  python  README.md  sbin\n",
            "Collecting findspark\n",
            "  Downloading https://files.pythonhosted.org/packages/fc/2d/2e39f9a023479ea798eed4351cd66f163ce61e00c717e03c37109f00c0f2/findspark-1.4.2-py2.py3-none-any.whl\n",
            "Installing collected packages: findspark\n",
            "Successfully installed findspark-1.4.2\n"
          ],
          "name": "stdout"
        }
      ]
    },
    {
      "cell_type": "markdown",
      "metadata": {
        "id": "t0s0lK4aSaGq"
      },
      "source": [
        "**TO SET SPARK ENVIORMNMENT ON GOOGLE COLAB**"
      ]
    },
    {
      "cell_type": "code",
      "metadata": {
        "id": "7G73WSRoDWnM"
      },
      "source": [
        "import os\n",
        "os.environ[\"SPARK_HOME\"] = \"/content/spark-3.0.2-bin-hadoop2.7\"\n",
        "\n",
        "\n",
        "import findspark\n",
        "findspark.init()"
      ],
      "execution_count": 7,
      "outputs": []
    },
    {
      "cell_type": "markdown",
      "metadata": {
        "id": "FdrtUH5xHDwU"
      },
      "source": [
        "**HOW TO CREATE A SPARK SESSION**"
      ]
    },
    {
      "cell_type": "code",
      "metadata": {
        "id": "bPKo_JghENXF"
      },
      "source": [
        "from pyspark.sql import SparkSession\n",
        "\n",
        "spark = SparkSession.builder.appName(\"Pyspark 3.0 on Google colab\").getOrCreate()"
      ],
      "execution_count": 8,
      "outputs": []
    },
    {
      "cell_type": "markdown",
      "metadata": {
        "id": "UfEeLeYUHoBt"
      },
      "source": [
        "**HOW TO READ A CSV FILE**"
      ]
    },
    {
      "cell_type": "code",
      "metadata": {
        "colab": {
          "base_uri": "https://localhost:8080/"
        },
        "id": "Swt00McGHjZC",
        "outputId": "dd9b8c5d-c4f3-4701-a780-fb2db7ba1b86"
      },
      "source": [
        "df = spark.read.csv(\"/content/data/transaction_detail.csv\")\n",
        "\n",
        "df.show(3)"
      ],
      "execution_count": null,
      "outputs": [
        {
          "output_type": "stream",
          "text": [
            "+------------------+--------------------+--------------------+--------------------+--------------------+--------------+--------------------+--------------------+\n",
            "|               _c0|                 _c1|                 _c2|                 _c3|                 _c4|           _c5|                 _c6|                 _c7|\n",
            "+------------------+--------------------+--------------------+--------------------+--------------------+--------------+--------------------+--------------------+\n",
            "|transaction_amount|transaction_card_...|transaction_ecomm...|transaction_count...|transaction_datetime|transaction_id|transaction_city_...|transaction_produ...|\n",
            "|             50.85|          MasterCard|        www.ebay.com|               India| 2019-05-14 15:24:12|             1|              Mumbai|              Laptop|\n",
            "|            259.12|          MasterCard|      www.amazon.com|               India| 2019-05-14 15:24:13|             2|                Pune|          Wrist Band|\n",
            "+------------------+--------------------+--------------------+--------------------+--------------------+--------------+--------------------+--------------------+\n",
            "only showing top 3 rows\n",
            "\n"
          ],
          "name": "stdout"
        }
      ]
    },
    {
      "cell_type": "code",
      "metadata": {
        "colab": {
          "base_uri": "https://localhost:8080/"
        },
        "id": "V9mqvO1nIcxC",
        "outputId": "0c2d0350-7715-45db-c488-344ddafe4af8"
      },
      "source": [
        "df = spark.read.csv(header=True, inferSchema=True,path =\"/content/data/transaction_detail.csv\")\n",
        "\n",
        "df.printSchema()\n",
        "\n",
        "df.show(4)"
      ],
      "execution_count": null,
      "outputs": [
        {
          "output_type": "stream",
          "text": [
            "root\n",
            " |-- transaction_amount: double (nullable = true)\n",
            " |-- transaction_card_type: string (nullable = true)\n",
            " |-- transaction_ecommerce_website_name: string (nullable = true)\n",
            " |-- transaction_country_name: string (nullable = true)\n",
            " |-- transaction_datetime: string (nullable = true)\n",
            " |-- transaction_id: integer (nullable = true)\n",
            " |-- transaction_city_name: string (nullable = true)\n",
            " |-- transaction_product_name: string (nullable = true)\n",
            "\n",
            "+------------------+---------------------+----------------------------------+------------------------+--------------------+--------------+---------------------+------------------------+\n",
            "|transaction_amount|transaction_card_type|transaction_ecommerce_website_name|transaction_country_name|transaction_datetime|transaction_id|transaction_city_name|transaction_product_name|\n",
            "+------------------+---------------------+----------------------------------+------------------------+--------------------+--------------+---------------------+------------------------+\n",
            "|             50.85|           MasterCard|                      www.ebay.com|                   India| 2019-05-14 15:24:12|             1|               Mumbai|                  Laptop|\n",
            "|            259.12|           MasterCard|                    www.amazon.com|                   India| 2019-05-14 15:24:13|             2|                 Pune|              Wrist Band|\n",
            "|            328.16|           MasterCard|                  www.flipkart.com|           United States| 2019-05-14 15:24:14|             3|        New York City|                TV Stand|\n",
            "|            399.06|                 Visa|                  www.snapdeal.com|                   Inida| 2019-05-14 15:24:15|             4|            New Delhi|                TV Stand|\n",
            "+------------------+---------------------+----------------------------------+------------------------+--------------------+--------------+---------------------+------------------------+\n",
            "only showing top 4 rows\n",
            "\n"
          ],
          "name": "stdout"
        }
      ]
    },
    {
      "cell_type": "markdown",
      "metadata": {
        "id": "q0W6SCxcQ3N4"
      },
      "source": [
        "**COUNT NO. OF RECORDS**\n"
      ]
    },
    {
      "cell_type": "code",
      "metadata": {
        "colab": {
          "base_uri": "https://localhost:8080/"
        },
        "id": "1l6Tfp6FQ7_N",
        "outputId": "c7ef50b4-f446-4fa9-99a7-7d7bbb5bc753"
      },
      "source": [
        "records = df.count()\n",
        "\n",
        "print(\"recors_count:\" + str(records))"
      ],
      "execution_count": null,
      "outputs": [
        {
          "output_type": "stream",
          "text": [
            "recors_count:1000\n"
          ],
          "name": "stdout"
        }
      ]
    },
    {
      "cell_type": "markdown",
      "metadata": {
        "id": "DW3xA6yCRkRv"
      },
      "source": [
        "**CREATE FIRST DATAFRAME**\n",
        "\n",
        "**OPTION 1**\n",
        "\n",
        "Notes:\n",
        "\n",
        "HOW TO CREATE YOUR SCHEMA FOR YOUR DATAFRAME\n",
        "\n",
        "Here true is for nullable which means that a value can be null"
      ]
    },
    {
      "cell_type": "code",
      "metadata": {
        "colab": {
          "base_uri": "https://localhost:8080/"
        },
        "id": "hCJFGq5HRpkd",
        "outputId": "88471493-6fa8-4087-c244-27cdeb5d1be9"
      },
      "source": [
        "users_list_0 = [\"1|John|London\", \"2|Martin|New York\", \"3|Sam|Sydney\", \"4|Alan|Mexico City\", \"5|Jacob|Florida\"]\n",
        "print(users_list_0)\n",
        "\n",
        "users_list_0_rdd = spark.sparkContext.parallelize(users_list_0)\n",
        "\n",
        "users_list_0_rdd = users_list_0_rdd.map(lambda ele: (int(ele.split('|')[0]), ele.split('|')[1], ele.split('|')[2]))\n",
        "\n",
        "users_df_0 = spark.createDataFrame(users_list_0_rdd)\n",
        "users_df_0.show(10)\n",
        "users_df_0.printSchema()\n",
        "\n",
        "from pyspark.sql.types import StructType, StructField, IntegerType, StringType \n",
        "\n",
        "users_schema = StructType([\n",
        "                          StructField(\"id\", IntegerType(), True),               \n",
        "                          StructField(\"name\", StringType(), True),\n",
        "                          StructField(\"city\", StringType(), True)])\n",
        "\n",
        "users_df_01 = spark.createDataFrame(users_list_0_rdd, schema=users_schema)\n",
        "users_df_01.show(10)\n",
        "users_df_01.printSchema()"
      ],
      "execution_count": null,
      "outputs": [
        {
          "output_type": "stream",
          "text": [
            "['1|John|London', '2|Martin|New York', '3|Sam|Sydney', '4|Alan|Mexico City', '5|Jacob|Florida']\n",
            "+---+------+-----------+\n",
            "| _1|    _2|         _3|\n",
            "+---+------+-----------+\n",
            "|  1|  John|     London|\n",
            "|  2|Martin|   New York|\n",
            "|  3|   Sam|     Sydney|\n",
            "|  4|  Alan|Mexico City|\n",
            "|  5| Jacob|    Florida|\n",
            "+---+------+-----------+\n",
            "\n",
            "root\n",
            " |-- _1: long (nullable = true)\n",
            " |-- _2: string (nullable = true)\n",
            " |-- _3: string (nullable = true)\n",
            "\n",
            "+---+------+-----------+\n",
            "| id|  name|       city|\n",
            "+---+------+-----------+\n",
            "|  1|  John|     London|\n",
            "|  2|Martin|   New York|\n",
            "|  3|   Sam|     Sydney|\n",
            "|  4|  Alan|Mexico City|\n",
            "|  5| Jacob|    Florida|\n",
            "+---+------+-----------+\n",
            "\n",
            "root\n",
            " |-- id: integer (nullable = true)\n",
            " |-- name: string (nullable = true)\n",
            " |-- city: string (nullable = true)\n",
            "\n"
          ],
          "name": "stdout"
        }
      ]
    },
    {
      "cell_type": "markdown",
      "metadata": {
        "id": "8zB7PQY1V589"
      },
      "source": [
        "**OPTIONS 2**\n",
        "\n",
        "How to create  a list of tuples into dataframe"
      ]
    },
    {
      "cell_type": "code",
      "metadata": {
        "colab": {
          "base_uri": "https://localhost:8080/"
        },
        "id": "f4jj0gizV9wa",
        "outputId": "3444f229-40cc-4935-f08c-94c6325f0e90"
      },
      "source": [
        "users_list_1 = [(1, \"John\", \"London\"), (2, \"Martin\", \"New York\"), (3, \"Sam\", \"Sydney\"), (4, \"Alan\", \"Mexico City\"), (5, \"Jacob\", \"Florida\")]\n",
        "print(users_list_1)\n",
        "\n",
        "users_df_1 = spark.createDataFrame(users_list_1)\n",
        "users_df_1.show(10)\n",
        "users_df_1.printSchema()\n",
        "\n",
        "from pyspark.sql.types import StructType, StructField, IntegerType, StringType\n",
        "\n",
        "users_schema = StructType([\n",
        "                          StructField(\"id\", IntegerType(), True),\n",
        "                          StructField(\"name\", StringType(), True),\n",
        "                          StructField(\"city\", StringType(), True)])\n",
        "\n",
        "users_df_11 = spark.createDataFrame(users_list_1, schema=users_schema)\n",
        "users_df_11.show(10)\n",
        "users_df_11.printSchema()"
      ],
      "execution_count": null,
      "outputs": [
        {
          "output_type": "stream",
          "text": [
            "[(1, 'John', 'London'), (2, 'Martin', 'New York'), (3, 'Sam', 'Sydney'), (4, 'Alan', 'Mexico City'), (5, 'Jacob', 'Florida')]\n",
            "+---+------+-----------+\n",
            "| _1|    _2|         _3|\n",
            "+---+------+-----------+\n",
            "|  1|  John|     London|\n",
            "|  2|Martin|   New York|\n",
            "|  3|   Sam|     Sydney|\n",
            "|  4|  Alan|Mexico City|\n",
            "|  5| Jacob|    Florida|\n",
            "+---+------+-----------+\n",
            "\n",
            "root\n",
            " |-- _1: long (nullable = true)\n",
            " |-- _2: string (nullable = true)\n",
            " |-- _3: string (nullable = true)\n",
            "\n",
            "+---+------+-----------+\n",
            "| id|  name|       city|\n",
            "+---+------+-----------+\n",
            "|  1|  John|     London|\n",
            "|  2|Martin|   New York|\n",
            "|  3|   Sam|     Sydney|\n",
            "|  4|  Alan|Mexico City|\n",
            "|  5| Jacob|    Florida|\n",
            "+---+------+-----------+\n",
            "\n",
            "root\n",
            " |-- id: integer (nullable = true)\n",
            " |-- name: string (nullable = true)\n",
            " |-- city: string (nullable = true)\n",
            "\n"
          ],
          "name": "stdout"
        }
      ]
    },
    {
      "cell_type": "markdown",
      "metadata": {
        "id": "oA9Cs8sjW9Xv"
      },
      "source": [
        "**OPTION 3**\n",
        "\n",
        "Create a dataframe using row object"
      ]
    },
    {
      "cell_type": "code",
      "metadata": {
        "colab": {
          "base_uri": "https://localhost:8080/"
        },
        "id": "93L1niGUXJG8",
        "outputId": "2878808b-9523-49d4-b34e-0a8f4d6941b8"
      },
      "source": [
        "from pyspark.sql import Row\n",
        "\n",
        "users_list_2 = [Row(1, \"John\", \"London\"), Row(2, \"Martin\", \"New York\"), Row(3, \"Sam\", \"Sydney\"), Row(4, \"Alan\", \"Mexico City\"), Row(5, \"Jacob\", \"Florida\")]\n",
        "print(users_list_2)\n",
        "\n",
        "users_df_2 = spark.createDataFrame(users_list_2)\n",
        "users_df_2.show(10)\n",
        "users_df_2.printSchema()\n",
        "\n",
        "users_df_21 = spark.createDataFrame(users_list_2, schema=users_schema)\n",
        "users_df_21.show(10)\n",
        "users_df_21.printSchema()"
      ],
      "execution_count": null,
      "outputs": [
        {
          "output_type": "stream",
          "text": [
            "[<Row(1, 'John', 'London')>, <Row(2, 'Martin', 'New York')>, <Row(3, 'Sam', 'Sydney')>, <Row(4, 'Alan', 'Mexico City')>, <Row(5, 'Jacob', 'Florida')>]\n",
            "+---+------+-----------+\n",
            "| _1|    _2|         _3|\n",
            "+---+------+-----------+\n",
            "|  1|  John|     London|\n",
            "|  2|Martin|   New York|\n",
            "|  3|   Sam|     Sydney|\n",
            "|  4|  Alan|Mexico City|\n",
            "|  5| Jacob|    Florida|\n",
            "+---+------+-----------+\n",
            "\n",
            "root\n",
            " |-- _1: long (nullable = true)\n",
            " |-- _2: string (nullable = true)\n",
            " |-- _3: string (nullable = true)\n",
            "\n",
            "+---+------+-----------+\n",
            "| id|  name|       city|\n",
            "+---+------+-----------+\n",
            "|  1|  John|     London|\n",
            "|  2|Martin|   New York|\n",
            "|  3|   Sam|     Sydney|\n",
            "|  4|  Alan|Mexico City|\n",
            "|  5| Jacob|    Florida|\n",
            "+---+------+-----------+\n",
            "\n",
            "root\n",
            " |-- id: integer (nullable = true)\n",
            " |-- name: string (nullable = true)\n",
            " |-- city: string (nullable = true)\n",
            "\n"
          ],
          "name": "stdout"
        }
      ]
    },
    {
      "cell_type": "markdown",
      "metadata": {
        "id": "h2bYDBIWXoPW"
      },
      "source": [
        "**OPTION 4** \n",
        "\n",
        "Create a data frame from list of dictionaries"
      ]
    },
    {
      "cell_type": "code",
      "metadata": {
        "colab": {
          "base_uri": "https://localhost:8080/"
        },
        "id": "tzUHTIiaXsAy",
        "outputId": "5f4547aa-a48a-4ab3-d0be-6566f70273b8"
      },
      "source": [
        "users_list_3 = [{\"id\": 1, \"name\": \"John\", \"city\": \"London\"}, \n",
        "                {\"id\": 2, \"name\": \"Martin\", \"city\": \"New York\"}, \n",
        "                {\"id\": 3, \"name\": \"Sam\", \"city\": \"Sydney\"}, \n",
        "                {\"id\": 4, \"name\": \"Alan\", \"city\": \"Mexico City\"}, \n",
        "                {\"id\": 5, \"name\": \"Jacob\", \"city\": \"Florida\"}]\n",
        "print(users_list_3)\n",
        "\n",
        "users_df_3 = spark.createDataFrame(users_list_3)\n",
        "users_df_3.show(10)\n",
        "users_df_3.printSchema()\n",
        "\n",
        "users_df_31 = spark.createDataFrame(users_list_3, schema=users_schema)\n",
        "users_df_31.show(10)\n",
        "users_df_31.printSchema()"
      ],
      "execution_count": null,
      "outputs": [
        {
          "output_type": "stream",
          "text": [
            "[{'id': 1, 'name': 'John', 'city': 'London'}, {'id': 2, 'name': 'Martin', 'city': 'New York'}, {'id': 3, 'name': 'Sam', 'city': 'Sydney'}, {'id': 4, 'name': 'Alan', 'city': 'Mexico City'}, {'id': 5, 'name': 'Jacob', 'city': 'Florida'}]\n"
          ],
          "name": "stdout"
        },
        {
          "output_type": "stream",
          "text": [
            "/content/spark-3.0.2-bin-hadoop2.7/python/pyspark/sql/session.py:381: UserWarning: inferring schema from dict is deprecated,please use pyspark.sql.Row instead\n",
            "  warnings.warn(\"inferring schema from dict is deprecated,\"\n"
          ],
          "name": "stderr"
        },
        {
          "output_type": "stream",
          "text": [
            "+-----------+---+------+\n",
            "|       city| id|  name|\n",
            "+-----------+---+------+\n",
            "|     London|  1|  John|\n",
            "|   New York|  2|Martin|\n",
            "|     Sydney|  3|   Sam|\n",
            "|Mexico City|  4|  Alan|\n",
            "|    Florida|  5| Jacob|\n",
            "+-----------+---+------+\n",
            "\n",
            "root\n",
            " |-- city: string (nullable = true)\n",
            " |-- id: long (nullable = true)\n",
            " |-- name: string (nullable = true)\n",
            "\n",
            "+---+------+-----------+\n",
            "| id|  name|       city|\n",
            "+---+------+-----------+\n",
            "|  1|  John|     London|\n",
            "|  2|Martin|   New York|\n",
            "|  3|   Sam|     Sydney|\n",
            "|  4|  Alan|Mexico City|\n",
            "|  5| Jacob|    Florida|\n",
            "+---+------+-----------+\n",
            "\n",
            "root\n",
            " |-- id: integer (nullable = true)\n",
            " |-- name: string (nullable = true)\n",
            " |-- city: string (nullable = true)\n",
            "\n"
          ],
          "name": "stdout"
        }
      ]
    },
    {
      "cell_type": "markdown",
      "metadata": {
        "id": "Dfl7LfByY6UQ"
      },
      "source": [
        "**CREATE A DATAFRAME FROM CSV File**"
      ]
    },
    {
      "cell_type": "code",
      "metadata": {
        "colab": {
          "base_uri": "https://localhost:8080/"
        },
        "id": "RIRlndO5Y_Wm",
        "outputId": "845e0d65-10aa-47b6-f770-abd60d371293"
      },
      "source": [
        "csv_file_path = \"/content/data/user_detail_comma_delimiter.csv\"\n",
        "\n",
        "df = spark.read.csv(csv_file_path)\n",
        "\n",
        "df.show()\n",
        "\n",
        "df.printSchema()"
      ],
      "execution_count": null,
      "outputs": [
        {
          "output_type": "stream",
          "text": [
            "+-------+---------+-----------+\n",
            "|    _c0|      _c1|        _c2|\n",
            "+-------+---------+-----------+\n",
            "|user_id|user_name|  user_city|\n",
            "|      1|     John|     London|\n",
            "|      2|   Martin|   New York|\n",
            "|      3|      Sam|     Sydney|\n",
            "|      4|     Alan|Mexico City|\n",
            "|      5|    Jacob|    Florida|\n",
            "+-------+---------+-----------+\n",
            "\n",
            "root\n",
            " |-- _c0: string (nullable = true)\n",
            " |-- _c1: string (nullable = true)\n",
            " |-- _c2: string (nullable = true)\n",
            "\n"
          ],
          "name": "stdout"
        }
      ]
    },
    {
      "cell_type": "markdown",
      "metadata": {
        "id": "Bwn2u2mlb8yu"
      },
      "source": [
        "header = True means that this dataset has header(Column name)"
      ]
    },
    {
      "cell_type": "code",
      "metadata": {
        "colab": {
          "base_uri": "https://localhost:8080/"
        },
        "id": "Dlrr0kmjbBHE",
        "outputId": "e05de7b8-b381-4487-9854-80c3a4ec6368"
      },
      "source": [
        "csv_file_path = \"/content/data/user_detail_comma_delimiter.csv\"\n",
        "\n",
        "df = spark.read.csv(csv_file_path, sep=\",\", header=True)\n",
        "\n",
        "df.show()\n",
        "\n",
        "df.printSchema()"
      ],
      "execution_count": null,
      "outputs": [
        {
          "output_type": "stream",
          "text": [
            "+-------+---------+-----------+\n",
            "|user_id|user_name|  user_city|\n",
            "+-------+---------+-----------+\n",
            "|      1|     John|     London|\n",
            "|      2|   Martin|   New York|\n",
            "|      3|      Sam|     Sydney|\n",
            "|      4|     Alan|Mexico City|\n",
            "|      5|    Jacob|    Florida|\n",
            "+-------+---------+-----------+\n",
            "\n",
            "root\n",
            " |-- user_id: string (nullable = true)\n",
            " |-- user_name: string (nullable = true)\n",
            " |-- user_city: string (nullable = true)\n",
            "\n"
          ],
          "name": "stdout"
        }
      ]
    },
    {
      "cell_type": "markdown",
      "metadata": {
        "id": "XrGEXz9fcnhp"
      },
      "source": [
        "The below used csv file has |(pipe) as seperator\n"
      ]
    },
    {
      "cell_type": "code",
      "metadata": {
        "colab": {
          "base_uri": "https://localhost:8080/"
        },
        "id": "sMF1bFtSctZC",
        "outputId": "80609a31-a622-4ec5-bfd0-3a982156fc5e"
      },
      "source": [
        "csv_file_path = \"/content/data/user_detail_pipe_delimiter.csv\"\n",
        "\n",
        "df = spark.read.csv(path=csv_file_path, sep=\"|\", header=True, inferSchema=True)\n",
        "\n",
        "df.show()\n",
        "\n",
        "df.printSchema()"
      ],
      "execution_count": null,
      "outputs": [
        {
          "output_type": "stream",
          "text": [
            "+-------+---------+-----------+\n",
            "|user_id|user_name|  user_city|\n",
            "+-------+---------+-----------+\n",
            "|      1|     John|     London|\n",
            "|      2|   Martin|   New York|\n",
            "|      3|      Sam|     Sydney|\n",
            "|      4|     Alan|Mexico City|\n",
            "|      5|    Jacob|    Florida|\n",
            "+-------+---------+-----------+\n",
            "\n",
            "root\n",
            " |-- user_id: integer (nullable = true)\n",
            " |-- user_name: string (nullable = true)\n",
            " |-- user_city: string (nullable = true)\n",
            "\n"
          ],
          "name": "stdout"
        }
      ]
    },
    {
      "cell_type": "markdown",
      "metadata": {
        "id": "H9ct5H35dr0L"
      },
      "source": [
        "Creating with Schema"
      ]
    },
    {
      "cell_type": "code",
      "metadata": {
        "colab": {
          "base_uri": "https://localhost:8080/"
        },
        "id": "w_s0Yncuc3o2",
        "outputId": "5fefef32-159c-46b5-94a9-c82f82f913a3"
      },
      "source": [
        "csv_file_path = \"/content/data/user_detail_pipe_delimiter.csv\"\n",
        "\n",
        "from pyspark.sql.types import *\n",
        "\n",
        "user_schema = StructType([\n",
        "                          StructField(\"user_id\", IntegerType(),True),\n",
        "                          StructField(\"user_name\", StringType(), True),\n",
        "                          StructField(\"user_city\", StringType(), True)\n",
        "])\n",
        "\n",
        "df = spark.read.csv(path=csv_file_path, sep=\"|\", header=True, inferSchema=True)\n",
        "\n",
        "df.show()\n",
        "\n",
        "df.printSchema()"
      ],
      "execution_count": null,
      "outputs": [
        {
          "output_type": "stream",
          "text": [
            "+-------+---------+-----------+\n",
            "|user_id|user_name|  user_city|\n",
            "+-------+---------+-----------+\n",
            "|      1|     John|     London|\n",
            "|      2|   Martin|   New York|\n",
            "|      3|      Sam|     Sydney|\n",
            "|      4|     Alan|Mexico City|\n",
            "|      5|    Jacob|    Florida|\n",
            "+-------+---------+-----------+\n",
            "\n",
            "root\n",
            " |-- user_id: integer (nullable = true)\n",
            " |-- user_name: string (nullable = true)\n",
            " |-- user_city: string (nullable = true)\n",
            "\n"
          ],
          "name": "stdout"
        }
      ]
    },
    {
      "cell_type": "code",
      "metadata": {
        "colab": {
          "base_uri": "https://localhost:8080/"
        },
        "id": "sqkPfrRYdvXj",
        "outputId": "d58c692a-10d3-4d31-901e-a6b163a3e531"
      },
      "source": [
        "csv_file_path = \"/content/data/user_detail_pipe_delimiter.csv\"\n",
        "\n",
        "from pyspark.sql.types import *\n",
        "\n",
        "user_schema = StructType([\n",
        "                          StructField(\"user_id\", IntegerType(),True),\n",
        "                          StructField(\"user_name\", StringType(), True),\n",
        "                          StructField(\"user_city\", StringType(), True)\n",
        "])\n",
        "\n",
        "df = spark.read.csv(path=csv_file_path, sep=\"|\", header=True, schema=user_schema)\n",
        "\n",
        "df.show()\n",
        "\n",
        "df.printSchema()"
      ],
      "execution_count": null,
      "outputs": [
        {
          "output_type": "stream",
          "text": [
            "+-------+---------+-----------+\n",
            "|user_id|user_name|  user_city|\n",
            "+-------+---------+-----------+\n",
            "|      1|     John|     London|\n",
            "|      2|   Martin|   New York|\n",
            "|      3|      Sam|     Sydney|\n",
            "|      4|     Alan|Mexico City|\n",
            "|      5|    Jacob|    Florida|\n",
            "+-------+---------+-----------+\n",
            "\n",
            "root\n",
            " |-- user_id: integer (nullable = true)\n",
            " |-- user_name: string (nullable = true)\n",
            " |-- user_city: string (nullable = true)\n",
            "\n"
          ],
          "name": "stdout"
        }
      ]
    },
    {
      "cell_type": "markdown",
      "metadata": {
        "id": "NPR2hDlkebbM"
      },
      "source": [
        "**CREATE DATAFRAME FROM JSON FILE**"
      ]
    },
    {
      "cell_type": "code",
      "metadata": {
        "colab": {
          "base_uri": "https://localhost:8080/"
        },
        "id": "dAJsNPlkegMw",
        "outputId": "5ddecd1b-c495-4d2d-de71-46658f7b97f8"
      },
      "source": [
        "json_file_path = \"data/user_detail.json\"\n",
        "\n",
        "df = spark.read.json(path=json_file_path)\n",
        "\n",
        "df.show()"
      ],
      "execution_count": null,
      "outputs": [
        {
          "output_type": "stream",
          "text": [
            "+-----------+-------+---------+\n",
            "|  user_city|user_id|user_name|\n",
            "+-----------+-------+---------+\n",
            "|     London|      1|     John|\n",
            "|   New York|      2|   Martin|\n",
            "|     Sydney|      3|      Sam|\n",
            "|Mexico City|      4|     Alan|\n",
            "|    Florida|      5|    Jacob|\n",
            "+-----------+-------+---------+\n",
            "\n"
          ],
          "name": "stdout"
        }
      ]
    },
    {
      "cell_type": "markdown",
      "metadata": {
        "id": "bTzghkIff2hj"
      },
      "source": [
        "If Json file is in multiline format"
      ]
    },
    {
      "cell_type": "code",
      "metadata": {
        "colab": {
          "base_uri": "https://localhost:8080/"
        },
        "id": "D_rm_pIvf5_o",
        "outputId": "e422bfe8-eb57-4058-994f-eae5eb99c4a3"
      },
      "source": [
        "json_file_path = \"data/user_detail_multiline.json\"\n",
        "\n",
        "df = spark.read.json(path=json_file_path,multiLine=True)\n",
        "\n",
        "df.show()"
      ],
      "execution_count": null,
      "outputs": [
        {
          "output_type": "stream",
          "text": [
            "+---------+-------+---------+\n",
            "|user_city|user_id|user_name|\n",
            "+---------+-------+---------+\n",
            "|   London|      1|     John|\n",
            "+---------+-------+---------+\n",
            "\n"
          ],
          "name": "stdout"
        }
      ]
    },
    {
      "cell_type": "markdown",
      "metadata": {
        "id": "NfTaQZiQgYnu"
      },
      "source": [
        "Correct way for multiline json file"
      ]
    },
    {
      "cell_type": "code",
      "metadata": {
        "colab": {
          "base_uri": "https://localhost:8080/"
        },
        "id": "2qtUESEFggC3",
        "outputId": "5eff2cf7-ba69-4add-ca72-6b579128ffee"
      },
      "source": [
        "json_file_path = \"data/user_detail_multiline_in_list.json\"\n",
        "\n",
        "df = spark.read.json(path=json_file_path,multiLine=True)\n",
        "\n",
        "df.show()"
      ],
      "execution_count": null,
      "outputs": [
        {
          "output_type": "stream",
          "text": [
            "+-----------+-------+---------+\n",
            "|  user_city|user_id|user_name|\n",
            "+-----------+-------+---------+\n",
            "|     London|      1|     John|\n",
            "|   New York|      2|   Martin|\n",
            "|     Sydney|      3|      Sam|\n",
            "|Mexico City|      4|     Alan|\n",
            "|    Florida|      5|    Jacob|\n",
            "+-----------+-------+---------+\n",
            "\n"
          ],
          "name": "stdout"
        }
      ]
    },
    {
      "cell_type": "markdown",
      "metadata": {
        "id": "KzNoB6g7gwz1"
      },
      "source": [
        "JSON WITH SCHEMA"
      ]
    },
    {
      "cell_type": "code",
      "metadata": {
        "colab": {
          "base_uri": "https://localhost:8080/"
        },
        "id": "Tnx0ane7gzDW",
        "outputId": "cd966d1a-da2b-44f0-81b4-0497017b766e"
      },
      "source": [
        "json_file_path_3 = \"/content/data/user_detail_multiline_in_list.json\"\n",
        "\n",
        "df = spark.read.json(path=json_file_path_3, multiLine=True)\n",
        "\n",
        "df.show()\n",
        "\n",
        "print(\"With schema option\")\n",
        "\n",
        "df = spark.read.json(path=json_file_path_3, multiLine=True, schema=user_schema)\n",
        "\n",
        "df.show(100, False)"
      ],
      "execution_count": null,
      "outputs": [
        {
          "output_type": "stream",
          "text": [
            "+-----------+-------+---------+\n",
            "|  user_city|user_id|user_name|\n",
            "+-----------+-------+---------+\n",
            "|     London|      1|     John|\n",
            "|   New York|      2|   Martin|\n",
            "|     Sydney|      3|      Sam|\n",
            "|Mexico City|      4|     Alan|\n",
            "|    Florida|      5|    Jacob|\n",
            "+-----------+-------+---------+\n",
            "\n",
            "With schema option\n",
            "+-------+---------+-----------+\n",
            "|user_id|user_name|user_city  |\n",
            "+-------+---------+-----------+\n",
            "|1      |John     |London     |\n",
            "|2      |Martin   |New York   |\n",
            "|3      |Sam      |Sydney     |\n",
            "|4      |Alan     |Mexico City|\n",
            "|5      |Jacob    |Florida    |\n",
            "+-------+---------+-----------+\n",
            "\n"
          ],
          "name": "stdout"
        }
      ]
    },
    {
      "cell_type": "markdown",
      "metadata": {
        "id": "a5dL5qyhhUpL"
      },
      "source": [
        "CREATE A DATAFRAME FROM NESTED JSON FILE"
      ]
    },
    {
      "cell_type": "code",
      "metadata": {
        "colab": {
          "base_uri": "https://localhost:8080/"
        },
        "id": "t-eRHcB8hcgr",
        "outputId": "a46f19d5-bc68-4eb0-a5df-1c1ee48eb67d"
      },
      "source": [
        "nested_json_file_path = \"/content/data/sample_nested_json_file.json\"\n",
        "\n",
        "df = spark.read.json(path=nested_json_file_path, multiLine=True)\n",
        "\n",
        "df.show(10, False)\n",
        "\n",
        "df.printSchema()\n",
        "\n",
        "df.select(['CHECK.Check1', 'CHECK.Check2', 'COL', 'DATA', 'IFAM', 'KTM']).show(100, False)"
      ],
      "execution_count": null,
      "outputs": [
        {
          "output_type": "stream",
          "text": [
            "+--------+---+--------------------------------------------------------+----+-------------+\n",
            "|CHECK   |COL|DATA                                                    |IFAM|KTM          |\n",
            "+--------+---+--------------------------------------------------------+----+-------------+\n",
            "|[1, TWO]|21 |[[[[k1, v1], [k2, v2]], 31], [[[k3, v3], [k4, v4]], 33]]|EQR |1548176931466|\n",
            "+--------+---+--------------------------------------------------------+----+-------------+\n",
            "\n",
            "root\n",
            " |-- CHECK: struct (nullable = true)\n",
            " |    |-- Check1: long (nullable = true)\n",
            " |    |-- Check2: string (nullable = true)\n",
            " |-- COL: long (nullable = true)\n",
            " |-- DATA: array (nullable = true)\n",
            " |    |-- element: struct (containsNull = true)\n",
            " |    |    |-- Crate: array (nullable = true)\n",
            " |    |    |    |-- element: struct (containsNull = true)\n",
            " |    |    |    |    |-- key: string (nullable = true)\n",
            " |    |    |    |    |-- value: string (nullable = true)\n",
            " |    |    |-- MLrate: string (nullable = true)\n",
            " |-- IFAM: string (nullable = true)\n",
            " |-- KTM: long (nullable = true)\n",
            "\n",
            "+------+------+---+--------------------------------------------------------+----+-------------+\n",
            "|Check1|Check2|COL|DATA                                                    |IFAM|KTM          |\n",
            "+------+------+---+--------------------------------------------------------+----+-------------+\n",
            "|1     |TWO   |21 |[[[[k1, v1], [k2, v2]], 31], [[[k3, v3], [k4, v4]], 33]]|EQR |1548176931466|\n",
            "+------+------+---+--------------------------------------------------------+----+-------------+\n",
            "\n"
          ],
          "name": "stdout"
        }
      ]
    },
    {
      "cell_type": "code",
      "metadata": {
        "colab": {
          "base_uri": "https://localhost:8080/"
        },
        "id": "2L8a2F90krhm",
        "outputId": "8dd9a834-1c4e-4320-b492-69fed9cc6afd"
      },
      "source": [
        "from pyspark.sql.functions import *\n",
        "from pyspark.sql.types import *\n",
        "\n",
        "def read_nested_json(df):\n",
        "    column_list = []\n",
        "\n",
        "    for column_name in df.schema.names:\n",
        "        print(\"Outside isinstance loop: \" + column_name)\n",
        "        # Checking column type is ArrayType\n",
        "        if isinstance(df.schema[column_name].dataType, ArrayType):\n",
        "            print(\"Inside isinstance loop of ArrayType: \" + column_name)\n",
        "            df = df.withColumn(column_name, explode(column_name).alias(column_name))\n",
        "            column_list.append(column_name)\n",
        "\n",
        "        elif isinstance(df.schema[column_name].dataType, StructType):\n",
        "            print(\"Inside isinstance loop of StructType: \" + column_name)\n",
        "            for field in df.schema[column_name].dataType.fields:\n",
        "                column_list.append(col(column_name + \".\" + field.name).alias(column_name + \"_\" + field.name))\n",
        "        else:\n",
        "            column_list.append(column_name)\n",
        "\n",
        "    # Selecting columns using column_list from dataframe: df\n",
        "    df = df.select(column_list)\n",
        "    return df\n",
        "\n",
        "read_nested_json_flag = True\n",
        "\n",
        "while read_nested_json_flag:\n",
        "  print(\"Reading Nested JSON File ... \")\n",
        "  df = read_nested_json(df)\n",
        "  df.show(100, False)\n",
        "  read_nested_json_flag = False\n",
        "\n",
        "  for column_name in df.schema.names:\n",
        "    if isinstance(df.schema[column_name].dataType, ArrayType):\n",
        "      read_nested_json_flag = True\n",
        "    elif isinstance(df.schema[column_name].dataType, StructType):\n",
        "      read_nested_json_flag = True\n",
        "\n",
        "df.show(100, False)"
      ],
      "execution_count": null,
      "outputs": [
        {
          "output_type": "stream",
          "text": [
            "Reading Nested JSON File ... \n",
            "Outside isinstance loop: CHECK\n",
            "Inside isinstance loop of StructType: CHECK\n",
            "Outside isinstance loop: COL\n",
            "Outside isinstance loop: DATA\n",
            "Inside isinstance loop of ArrayType: DATA\n",
            "Outside isinstance loop: IFAM\n",
            "Outside isinstance loop: KTM\n",
            "+------------+------------+---+--------------------------+----+-------------+\n",
            "|CHECK_Check1|CHECK_Check2|COL|DATA                      |IFAM|KTM          |\n",
            "+------------+------------+---+--------------------------+----+-------------+\n",
            "|1           |TWO         |21 |[[[k1, v1], [k2, v2]], 31]|EQR |1548176931466|\n",
            "|1           |TWO         |21 |[[[k3, v3], [k4, v4]], 33]|EQR |1548176931466|\n",
            "+------------+------------+---+--------------------------+----+-------------+\n",
            "\n",
            "Reading Nested JSON File ... \n",
            "Outside isinstance loop: CHECK_Check1\n",
            "Outside isinstance loop: CHECK_Check2\n",
            "Outside isinstance loop: COL\n",
            "Outside isinstance loop: DATA\n",
            "Inside isinstance loop of StructType: DATA\n",
            "Outside isinstance loop: IFAM\n",
            "Outside isinstance loop: KTM\n",
            "+------------+------------+---+--------------------+-----------+----+-------------+\n",
            "|CHECK_Check1|CHECK_Check2|COL|DATA_Crate          |DATA_MLrate|IFAM|KTM          |\n",
            "+------------+------------+---+--------------------+-----------+----+-------------+\n",
            "|1           |TWO         |21 |[[k1, v1], [k2, v2]]|31         |EQR |1548176931466|\n",
            "|1           |TWO         |21 |[[k3, v3], [k4, v4]]|33         |EQR |1548176931466|\n",
            "+------------+------------+---+--------------------+-----------+----+-------------+\n",
            "\n",
            "Reading Nested JSON File ... \n",
            "Outside isinstance loop: CHECK_Check1\n",
            "Outside isinstance loop: CHECK_Check2\n",
            "Outside isinstance loop: COL\n",
            "Outside isinstance loop: DATA_Crate\n",
            "Inside isinstance loop of ArrayType: DATA_Crate\n",
            "Outside isinstance loop: DATA_MLrate\n",
            "Outside isinstance loop: IFAM\n",
            "Outside isinstance loop: KTM\n",
            "+------------+------------+---+----------+-----------+----+-------------+\n",
            "|CHECK_Check1|CHECK_Check2|COL|DATA_Crate|DATA_MLrate|IFAM|KTM          |\n",
            "+------------+------------+---+----------+-----------+----+-------------+\n",
            "|1           |TWO         |21 |[k1, v1]  |31         |EQR |1548176931466|\n",
            "|1           |TWO         |21 |[k2, v2]  |31         |EQR |1548176931466|\n",
            "|1           |TWO         |21 |[k3, v3]  |33         |EQR |1548176931466|\n",
            "|1           |TWO         |21 |[k4, v4]  |33         |EQR |1548176931466|\n",
            "+------------+------------+---+----------+-----------+----+-------------+\n",
            "\n",
            "Reading Nested JSON File ... \n",
            "Outside isinstance loop: CHECK_Check1\n",
            "Outside isinstance loop: CHECK_Check2\n",
            "Outside isinstance loop: COL\n",
            "Outside isinstance loop: DATA_Crate\n",
            "Inside isinstance loop of StructType: DATA_Crate\n",
            "Outside isinstance loop: DATA_MLrate\n",
            "Outside isinstance loop: IFAM\n",
            "Outside isinstance loop: KTM\n",
            "+------------+------------+---+--------------+----------------+-----------+----+-------------+\n",
            "|CHECK_Check1|CHECK_Check2|COL|DATA_Crate_key|DATA_Crate_value|DATA_MLrate|IFAM|KTM          |\n",
            "+------------+------------+---+--------------+----------------+-----------+----+-------------+\n",
            "|1           |TWO         |21 |k1            |v1              |31         |EQR |1548176931466|\n",
            "|1           |TWO         |21 |k2            |v2              |31         |EQR |1548176931466|\n",
            "|1           |TWO         |21 |k3            |v3              |33         |EQR |1548176931466|\n",
            "|1           |TWO         |21 |k4            |v4              |33         |EQR |1548176931466|\n",
            "+------------+------------+---+--------------+----------------+-----------+----+-------------+\n",
            "\n",
            "+------------+------------+---+--------------+----------------+-----------+----+-------------+\n",
            "|CHECK_Check1|CHECK_Check2|COL|DATA_Crate_key|DATA_Crate_value|DATA_MLrate|IFAM|KTM          |\n",
            "+------------+------------+---+--------------+----------------+-----------+----+-------------+\n",
            "|1           |TWO         |21 |k1            |v1              |31         |EQR |1548176931466|\n",
            "|1           |TWO         |21 |k2            |v2              |31         |EQR |1548176931466|\n",
            "|1           |TWO         |21 |k3            |v3              |33         |EQR |1548176931466|\n",
            "|1           |TWO         |21 |k4            |v4              |33         |EQR |1548176931466|\n",
            "+------------+------------+---+--------------+----------------+-----------+----+-------------+\n",
            "\n"
          ],
          "name": "stdout"
        }
      ]
    },
    {
      "cell_type": "markdown",
      "metadata": {
        "id": "aq5pWdKadUiz"
      },
      "source": [
        "**SPARKSQL**"
      ]
    },
    {
      "cell_type": "code",
      "metadata": {
        "colab": {
          "base_uri": "https://localhost:8080/"
        },
        "id": "J__19vlEdXxp",
        "outputId": "42efc402-e9e0-4858-f462-b5fe3be45299"
      },
      "source": [
        "df = spark.read.csv(header=True, inferSchema=True,path =\"/content/DATA/transaction_detail.csv\")\n",
        "df.printSchema()\n",
        "df.take(5)"
      ],
      "execution_count": 15,
      "outputs": [
        {
          "output_type": "stream",
          "text": [
            "root\n",
            " |-- transaction_amount: double (nullable = true)\n",
            " |-- transaction_card_type: string (nullable = true)\n",
            " |-- transaction_ecommerce_website_name: string (nullable = true)\n",
            " |-- transaction_country_name: string (nullable = true)\n",
            " |-- transaction_datetime: string (nullable = true)\n",
            " |-- transaction_id: integer (nullable = true)\n",
            " |-- transaction_city_name: string (nullable = true)\n",
            " |-- transaction_product_name: string (nullable = true)\n",
            "\n"
          ],
          "name": "stdout"
        },
        {
          "output_type": "execute_result",
          "data": {
            "text/plain": [
              "[Row(transaction_amount=50.85, transaction_card_type='MasterCard', transaction_ecommerce_website_name='www.ebay.com', transaction_country_name='India', transaction_datetime='2019-05-14 15:24:12', transaction_id=1, transaction_city_name='Mumbai', transaction_product_name='Laptop'),\n",
              " Row(transaction_amount=259.12, transaction_card_type='MasterCard', transaction_ecommerce_website_name='www.amazon.com', transaction_country_name='India', transaction_datetime='2019-05-14 15:24:13', transaction_id=2, transaction_city_name='Pune', transaction_product_name='Wrist Band'),\n",
              " Row(transaction_amount=328.16, transaction_card_type='MasterCard', transaction_ecommerce_website_name='www.flipkart.com', transaction_country_name='United States', transaction_datetime='2019-05-14 15:24:14', transaction_id=3, transaction_city_name='New York City', transaction_product_name='TV Stand'),\n",
              " Row(transaction_amount=399.06, transaction_card_type='Visa', transaction_ecommerce_website_name='www.snapdeal.com', transaction_country_name='Inida', transaction_datetime='2019-05-14 15:24:15', transaction_id=4, transaction_city_name='New Delhi', transaction_product_name='TV Stand'),\n",
              " Row(transaction_amount=194.52, transaction_card_type='Visa', transaction_ecommerce_website_name='www.ebay.com', transaction_country_name='Italy', transaction_datetime='2019-05-14 15:24:16', transaction_id=5, transaction_city_name='Rome', transaction_product_name='External Hard Drive')]"
            ]
          },
          "metadata": {
            "tags": []
          },
          "execution_count": 15
        }
      ]
    },
    {
      "cell_type": "markdown",
      "metadata": {
        "id": "zAc52XiRdS0x"
      },
      "source": [
        "**RENAME A COLUMN**"
      ]
    },
    {
      "cell_type": "code",
      "metadata": {
        "id": "gE3zfet1gpdh"
      },
      "source": [
        "df = df.withColumnRenamed(\"transaction_amount\",\"trans_amount\")"
      ],
      "execution_count": 19,
      "outputs": []
    },
    {
      "cell_type": "code",
      "metadata": {
        "colab": {
          "base_uri": "https://localhost:8080/"
        },
        "id": "1drcYUX3hihZ",
        "outputId": "81a79da1-6658-43f4-dc7f-378b3ffc106e"
      },
      "source": [
        "df.printSchema()"
      ],
      "execution_count": 20,
      "outputs": [
        {
          "output_type": "stream",
          "text": [
            "root\n",
            " |-- trans_amount: double (nullable = true)\n",
            " |-- transaction_card_type: string (nullable = true)\n",
            " |-- transaction_ecommerce_website_name: string (nullable = true)\n",
            " |-- transaction_country_name: string (nullable = true)\n",
            " |-- transaction_datetime: string (nullable = true)\n",
            " |-- transaction_id: integer (nullable = true)\n",
            " |-- transaction_city_name: string (nullable = true)\n",
            " |-- transaction_product_name: string (nullable = true)\n",
            "\n"
          ],
          "name": "stdout"
        }
      ]
    },
    {
      "cell_type": "markdown",
      "metadata": {
        "id": "TA3Z7seEhrGQ"
      },
      "source": [
        "**ADD NEW COLUMN**"
      ]
    },
    {
      "cell_type": "code",
      "metadata": {
        "colab": {
          "base_uri": "https://localhost:8080/"
        },
        "id": "ogUnVgQThvkG",
        "outputId": "cf771a70-fbe9-4cdb-c1f6-284ceb499e2d"
      },
      "source": [
        "from pyspark.sql.functions import col\n",
        "df = df.withColumn(\"trans_Amount_withtax\",col(\"trans_amount\")*2)\n",
        "df.show(5)"
      ],
      "execution_count": 21,
      "outputs": [
        {
          "output_type": "stream",
          "text": [
            "+------------+---------------------+----------------------------------+------------------------+--------------------+--------------+---------------------+------------------------+--------------------+\n",
            "|trans_amount|transaction_card_type|transaction_ecommerce_website_name|transaction_country_name|transaction_datetime|transaction_id|transaction_city_name|transaction_product_name|trans_Amount_withtax|\n",
            "+------------+---------------------+----------------------------------+------------------------+--------------------+--------------+---------------------+------------------------+--------------------+\n",
            "|       50.85|           MasterCard|                      www.ebay.com|                   India| 2019-05-14 15:24:12|             1|               Mumbai|                  Laptop|               101.7|\n",
            "|      259.12|           MasterCard|                    www.amazon.com|                   India| 2019-05-14 15:24:13|             2|                 Pune|              Wrist Band|              518.24|\n",
            "|      328.16|           MasterCard|                  www.flipkart.com|           United States| 2019-05-14 15:24:14|             3|        New York City|                TV Stand|              656.32|\n",
            "|      399.06|                 Visa|                  www.snapdeal.com|                   Inida| 2019-05-14 15:24:15|             4|            New Delhi|                TV Stand|              798.12|\n",
            "|      194.52|                 Visa|                      www.ebay.com|                   Italy| 2019-05-14 15:24:16|             5|                 Rome|     External Hard Drive|              389.04|\n",
            "+------------+---------------------+----------------------------------+------------------------+--------------------+--------------+---------------------+------------------------+--------------------+\n",
            "only showing top 5 rows\n",
            "\n"
          ],
          "name": "stdout"
        }
      ]
    },
    {
      "cell_type": "markdown",
      "metadata": {
        "id": "SWxc2dyWijFy"
      },
      "source": [
        "**Filter()**"
      ]
    },
    {
      "cell_type": "code",
      "metadata": {
        "colab": {
          "base_uri": "https://localhost:8080/"
        },
        "id": "guN3gg2lilzT",
        "outputId": "c3a7485f-a707-420a-f42f-9e28919050cc"
      },
      "source": [
        "df_1 = df.filter(df.trans_Amount_withtax > 500)\n",
        "df_1.show(5)"
      ],
      "execution_count": 22,
      "outputs": [
        {
          "output_type": "stream",
          "text": [
            "+------------+---------------------+----------------------------------+------------------------+--------------------+--------------+---------------------+------------------------+--------------------+\n",
            "|trans_amount|transaction_card_type|transaction_ecommerce_website_name|transaction_country_name|transaction_datetime|transaction_id|transaction_city_name|transaction_product_name|trans_Amount_withtax|\n",
            "+------------+---------------------+----------------------------------+------------------------+--------------------+--------------+---------------------+------------------------+--------------------+\n",
            "|      259.12|           MasterCard|                    www.amazon.com|                   India| 2019-05-14 15:24:13|             2|                 Pune|              Wrist Band|              518.24|\n",
            "|      328.16|           MasterCard|                  www.flipkart.com|           United States| 2019-05-14 15:24:14|             3|        New York City|                TV Stand|              656.32|\n",
            "|      399.06|                 Visa|                  www.snapdeal.com|                   Inida| 2019-05-14 15:24:15|             4|            New Delhi|                TV Stand|              798.12|\n",
            "|      415.65|              Maestro|                  www.flipkart.com|                   India| 2019-05-14 15:24:17|             6|              Kolkata|                      TV|               831.3|\n",
            "|      467.12|           MasterCard|                    www.amazon.com|                   India| 2019-05-14 15:24:18|             7|              Kolkata|             Wrist Watch|              934.24|\n",
            "+------------+---------------------+----------------------------------+------------------------+--------------------+--------------+---------------------+------------------------+--------------------+\n",
            "only showing top 5 rows\n",
            "\n"
          ],
          "name": "stdout"
        }
      ]
    },
    {
      "cell_type": "markdown",
      "metadata": {
        "id": "jolbiYxMi32D"
      },
      "source": [
        "**Sorting**"
      ]
    },
    {
      "cell_type": "code",
      "metadata": {
        "colab": {
          "base_uri": "https://localhost:8080/"
        },
        "id": "5abSQrnFjCIc",
        "outputId": "0b1428e1-67e9-4143-a374-2f59af92fec1"
      },
      "source": [
        "df_1.sort(df_1.trans_Amount_withtax)\n",
        "df_1.show(5)"
      ],
      "execution_count": 23,
      "outputs": [
        {
          "output_type": "stream",
          "text": [
            "+------------+---------------------+----------------------------------+------------------------+--------------------+--------------+---------------------+------------------------+--------------------+\n",
            "|trans_amount|transaction_card_type|transaction_ecommerce_website_name|transaction_country_name|transaction_datetime|transaction_id|transaction_city_name|transaction_product_name|trans_Amount_withtax|\n",
            "+------------+---------------------+----------------------------------+------------------------+--------------------+--------------+---------------------+------------------------+--------------------+\n",
            "|      259.12|           MasterCard|                    www.amazon.com|                   India| 2019-05-14 15:24:13|             2|                 Pune|              Wrist Band|              518.24|\n",
            "|      328.16|           MasterCard|                  www.flipkart.com|           United States| 2019-05-14 15:24:14|             3|        New York City|                TV Stand|              656.32|\n",
            "|      399.06|                 Visa|                  www.snapdeal.com|                   Inida| 2019-05-14 15:24:15|             4|            New Delhi|                TV Stand|              798.12|\n",
            "|      415.65|              Maestro|                  www.flipkart.com|                   India| 2019-05-14 15:24:17|             6|              Kolkata|                      TV|               831.3|\n",
            "|      467.12|           MasterCard|                    www.amazon.com|                   India| 2019-05-14 15:24:18|             7|              Kolkata|             Wrist Watch|              934.24|\n",
            "+------------+---------------------+----------------------------------+------------------------+--------------------+--------------+---------------------+------------------------+--------------------+\n",
            "only showing top 5 rows\n",
            "\n"
          ],
          "name": "stdout"
        }
      ]
    },
    {
      "cell_type": "code",
      "metadata": {
        "colab": {
          "base_uri": "https://localhost:8080/"
        },
        "id": "dFHrVnyGja88",
        "outputId": "b144083e-8c5a-4401-ea10-3e6999372f4f"
      },
      "source": [
        "df_1.sort(df_1.trans_Amount_withtax.desc())\n",
        "df_1.show(5)"
      ],
      "execution_count": 24,
      "outputs": [
        {
          "output_type": "stream",
          "text": [
            "+------------+---------------------+----------------------------------+------------------------+--------------------+--------------+---------------------+------------------------+--------------------+\n",
            "|trans_amount|transaction_card_type|transaction_ecommerce_website_name|transaction_country_name|transaction_datetime|transaction_id|transaction_city_name|transaction_product_name|trans_Amount_withtax|\n",
            "+------------+---------------------+----------------------------------+------------------------+--------------------+--------------+---------------------+------------------------+--------------------+\n",
            "|      259.12|           MasterCard|                    www.amazon.com|                   India| 2019-05-14 15:24:13|             2|                 Pune|              Wrist Band|              518.24|\n",
            "|      328.16|           MasterCard|                  www.flipkart.com|           United States| 2019-05-14 15:24:14|             3|        New York City|                TV Stand|              656.32|\n",
            "|      399.06|                 Visa|                  www.snapdeal.com|                   Inida| 2019-05-14 15:24:15|             4|            New Delhi|                TV Stand|              798.12|\n",
            "|      415.65|              Maestro|                  www.flipkart.com|                   India| 2019-05-14 15:24:17|             6|              Kolkata|                      TV|               831.3|\n",
            "|      467.12|           MasterCard|                    www.amazon.com|                   India| 2019-05-14 15:24:18|             7|              Kolkata|             Wrist Watch|              934.24|\n",
            "+------------+---------------------+----------------------------------+------------------------+--------------------+--------------+---------------------+------------------------+--------------------+\n",
            "only showing top 5 rows\n",
            "\n"
          ],
          "name": "stdout"
        }
      ]
    },
    {
      "cell_type": "markdown",
      "metadata": {
        "id": "m7J1yspCjtys"
      },
      "source": [
        "**ORDER_BY**"
      ]
    },
    {
      "cell_type": "code",
      "metadata": {
        "colab": {
          "base_uri": "https://localhost:8080/"
        },
        "id": "njUso9p8jxQ2",
        "outputId": "1db9a7df-2220-4b83-eb2a-8ffae56466e5"
      },
      "source": [
        "df2 = df_1.orderBy(df_1.trans_amount,df_1.transaction_card_type)\n",
        "df2.show(5)"
      ],
      "execution_count": 27,
      "outputs": [
        {
          "output_type": "stream",
          "text": [
            "+------------+---------------------+----------------------------------+------------------------+--------------------+--------------+---------------------+------------------------+--------------------+\n",
            "|trans_amount|transaction_card_type|transaction_ecommerce_website_name|transaction_country_name|transaction_datetime|transaction_id|transaction_city_name|transaction_product_name|trans_Amount_withtax|\n",
            "+------------+---------------------+----------------------------------+------------------------+--------------------+--------------+---------------------+------------------------+--------------------+\n",
            "|      250.26|              Maestro|                  www.snapdeal.com|                   India| 2019-05-14 15:31:32|           440|              Chennai|               Pen Drive|              500.52|\n",
            "|      250.49|              Maestro|                      www.ebay.com|                   India| 2019-05-14 15:34:34|           622|            Bangalore|        Desktop Computer|              500.98|\n",
            "|      250.68|           MasterCard|                  www.flipkart.com|                  France| 2019-05-14 15:29:38|           327|                Paris|            Mobile Phone|              501.36|\n",
            "|       250.7|                 Visa|                      www.ebay.com|                   India| 2019-05-14 15:30:27|           375|              Kolkata|                  Laptop|               501.4|\n",
            "|      251.68|              Maestro|                      www.ebay.com|               Singapore| 2019-05-14 15:26:55|           164|            Singapore|        Desktop Computer|              503.36|\n",
            "+------------+---------------------+----------------------------------+------------------------+--------------------+--------------+---------------------+------------------------+--------------------+\n",
            "only showing top 5 rows\n",
            "\n"
          ],
          "name": "stdout"
        }
      ]
    },
    {
      "cell_type": "markdown",
      "metadata": {
        "id": "WXHYB2lzkMlE"
      },
      "source": [
        "**HOW TO DEAL WITH DUPLICATE VALUES**\n",
        "\n",
        "distinct() is a very expensive operation"
      ]
    },
    {
      "cell_type": "code",
      "metadata": {
        "id": "r28qkr1GkTsP"
      },
      "source": [
        "df2 = df2.distinct()"
      ],
      "execution_count": null,
      "outputs": []
    },
    {
      "cell_type": "code",
      "metadata": {
        "colab": {
          "base_uri": "https://localhost:8080/"
        },
        "id": "r3j5GjvHklsW",
        "outputId": "2ba822b5-13e5-4f37-d5ed-296426bfd7e2"
      },
      "source": [
        "df3 = df2.dropDuplicates([\"transaction_country_name\"])\n",
        "\n",
        "df3.show(5)"
      ],
      "execution_count": 32,
      "outputs": [
        {
          "output_type": "stream",
          "text": [
            "+------------+---------------------+----------------------------------+------------------------+--------------------+--------------+---------------------+------------------------+--------------------+\n",
            "|trans_amount|transaction_card_type|transaction_ecommerce_website_name|transaction_country_name|transaction_datetime|transaction_id|transaction_city_name|transaction_product_name|trans_Amount_withtax|\n",
            "+------------+---------------------+----------------------------------+------------------------+--------------------+--------------+---------------------+------------------------+--------------------+\n",
            "|      251.68|              Maestro|                      www.ebay.com|               Singapore| 2019-05-14 15:26:55|           164|            Singapore|        Desktop Computer|              503.36|\n",
            "|      250.68|           MasterCard|                  www.flipkart.com|                  France| 2019-05-14 15:29:38|           327|                Paris|            Mobile Phone|              501.36|\n",
            "|      250.26|              Maestro|                  www.snapdeal.com|                   India| 2019-05-14 15:31:32|           440|              Chennai|               Pen Drive|              500.52|\n",
            "|      254.36|           MasterCard|                    www.amazon.com|           United States| 2019-05-14 15:26:42|           151|        New York City|            Mobile Phone|              508.72|\n",
            "|      258.03|              Maestro|                      www.ebay.com|                   Italy| 2019-05-14 15:28:19|           248|                 Rome|              Text Books|              516.06|\n",
            "+------------+---------------------+----------------------------------+------------------------+--------------------+--------------+---------------------+------------------------+--------------------+\n",
            "only showing top 5 rows\n",
            "\n"
          ],
          "name": "stdout"
        }
      ]
    },
    {
      "cell_type": "markdown",
      "metadata": {
        "id": "QberBDdpsagS"
      },
      "source": [
        "**GROUP BY**"
      ]
    },
    {
      "cell_type": "code",
      "metadata": {
        "colab": {
          "base_uri": "https://localhost:8080/"
        },
        "id": "Oq_XhsTcseBV",
        "outputId": "fc571516-54b6-4d2c-e3cf-68bf6fa4502a"
      },
      "source": [
        "df3 = df2.groupBy('transaction_country_name').max('trans_amount')\n",
        "df3.show(5)"
      ],
      "execution_count": 36,
      "outputs": [
        {
          "output_type": "stream",
          "text": [
            "+------------------------+-----------------+\n",
            "|transaction_country_name|max(trans_amount)|\n",
            "+------------------------+-----------------+\n",
            "|               Singapore|           552.29|\n",
            "|                  France|           525.33|\n",
            "|                   India|           554.62|\n",
            "|           United States|           555.07|\n",
            "|                   Italy|           542.54|\n",
            "+------------------------+-----------------+\n",
            "only showing top 5 rows\n",
            "\n"
          ],
          "name": "stdout"
        }
      ]
    },
    {
      "cell_type": "markdown",
      "metadata": {
        "id": "EbhiBpRUtBYS"
      },
      "source": [
        "**HOW TO WRITE dataframes to csv**"
      ]
    },
    {
      "cell_type": "code",
      "metadata": {
        "colab": {
          "base_uri": "https://localhost:8080/"
        },
        "id": "gH0GxWTNtJGx",
        "outputId": "65f120a8-b689-4a63-f9e1-39c98a2c94a1"
      },
      "source": [
        "df = spark.read.csv(header=True, inferSchema=True,path =\"/content/sample_data/california_housing_test.csv\")\n",
        "\n",
        "df = df.filter(df.housing_median_age > 23)\n",
        "df.show(5)\n",
        "df.write.format('csv').option('header',True).mode('overwrite').option('sep',',').save('/content/outputPath/file.csv')"
      ],
      "execution_count": 64,
      "outputs": [
        {
          "output_type": "stream",
          "text": [
            "+---------+--------+------------------+-----------+--------------+----------+----------+-------------+------------------+\n",
            "|longitude|latitude|housing_median_age|total_rooms|total_bedrooms|population|households|median_income|median_house_value|\n",
            "+---------+--------+------------------+-----------+--------------+----------+----------+-------------+------------------+\n",
            "|  -122.05|   37.37|              27.0|     3885.0|         661.0|    1537.0|     606.0|       6.6085|          344700.0|\n",
            "|   -118.3|   34.26|              43.0|     1510.0|         310.0|     809.0|     277.0|        3.599|          176500.0|\n",
            "|  -117.81|   33.78|              27.0|     3589.0|         507.0|    1484.0|     495.0|       5.7934|          270500.0|\n",
            "|  -118.36|   33.82|              28.0|       67.0|          15.0|      49.0|      11.0|       6.1359|          330000.0|\n",
            "|  -119.56|   36.51|              37.0|     1018.0|         213.0|     663.0|     204.0|       1.6635|           67000.0|\n",
            "+---------+--------+------------------+-----------+--------------+----------+----------+-------------+------------------+\n",
            "only showing top 5 rows\n",
            "\n"
          ],
          "name": "stdout"
        }
      ]
    },
    {
      "cell_type": "markdown",
      "metadata": {
        "id": "xUomgUHR-txn"
      },
      "source": [
        "**WHEN**"
      ]
    },
    {
      "cell_type": "code",
      "metadata": {
        "colab": {
          "base_uri": "https://localhost:8080/"
        },
        "id": "3JG9YC2U-zYg",
        "outputId": "a85078ca-b207-41b5-b4b6-f835f342052c"
      },
      "source": [
        "from pyspark.sql.functions import col,when\n",
        "df4 = df.withColumn(\"House_CONDITION\",when(col(\"housing_median_age\") < 28,\"MEDIVAL HOUSE\").when(col(\"housing_median_age\") > 30,\"VERY OLD HOUSE\"))\n",
        "df4.show(5)"
      ],
      "execution_count": 68,
      "outputs": [
        {
          "output_type": "stream",
          "text": [
            "+---------+--------+------------------+-----------+--------------+----------+----------+-------------+------------------+---------------+\n",
            "|longitude|latitude|housing_median_age|total_rooms|total_bedrooms|population|households|median_income|median_house_value|House_CONDITION|\n",
            "+---------+--------+------------------+-----------+--------------+----------+----------+-------------+------------------+---------------+\n",
            "|  -122.05|   37.37|              27.0|     3885.0|         661.0|    1537.0|     606.0|       6.6085|          344700.0|  MEDIVAL HOUSE|\n",
            "|   -118.3|   34.26|              43.0|     1510.0|         310.0|     809.0|     277.0|        3.599|          176500.0| VERY OLD HOUSE|\n",
            "|  -117.81|   33.78|              27.0|     3589.0|         507.0|    1484.0|     495.0|       5.7934|          270500.0|  MEDIVAL HOUSE|\n",
            "|  -118.36|   33.82|              28.0|       67.0|          15.0|      49.0|      11.0|       6.1359|          330000.0|           null|\n",
            "|  -119.56|   36.51|              37.0|     1018.0|         213.0|     663.0|     204.0|       1.6635|           67000.0| VERY OLD HOUSE|\n",
            "+---------+--------+------------------+-----------+--------------+----------+----------+-------------+------------------+---------------+\n",
            "only showing top 5 rows\n",
            "\n"
          ],
          "name": "stdout"
        }
      ]
    },
    {
      "cell_type": "markdown",
      "metadata": {
        "id": "T9OjPFwlE4K-"
      },
      "source": [
        "**PARTITION BY**"
      ]
    },
    {
      "cell_type": "code",
      "metadata": {
        "id": "UROa0RI2E6o3"
      },
      "source": [
        "df4.write.format('csv').option('header',True).partitionBy(\"House_CONDITION\").mode('overwrite').option('sep',',').save('/content/outputPath/')"
      ],
      "execution_count": 69,
      "outputs": []
    },
    {
      "cell_type": "markdown",
      "metadata": {
        "id": "aj2uYJN4G4Pa"
      },
      "source": [
        "**HANDLING NULL VALUES**"
      ]
    },
    {
      "cell_type": "code",
      "metadata": {
        "colab": {
          "base_uri": "https://localhost:8080/"
        },
        "id": "7WPtlL0VHF2A",
        "outputId": "968d37f6-3baa-4aa4-9577-4ec27e1b0756"
      },
      "source": [
        "df4.printSchema()\n",
        "df4 = df4.na.fill(\"string\",[\"House_CONDITION\"])\n",
        "df4.show(5)"
      ],
      "execution_count": 83,
      "outputs": [
        {
          "output_type": "stream",
          "text": [
            "root\n",
            " |-- longitude: double (nullable = true)\n",
            " |-- latitude: double (nullable = true)\n",
            " |-- housing_median_age: double (nullable = true)\n",
            " |-- total_rooms: double (nullable = true)\n",
            " |-- total_bedrooms: double (nullable = true)\n",
            " |-- population: double (nullable = true)\n",
            " |-- households: double (nullable = true)\n",
            " |-- median_income: double (nullable = true)\n",
            " |-- median_house_value: double (nullable = true)\n",
            " |-- House_CONDITION: string (nullable = false)\n",
            "\n",
            "+---------+--------+------------------+-----------+--------------+----------+----------+-------------+------------------+---------------+\n",
            "|longitude|latitude|housing_median_age|total_rooms|total_bedrooms|population|households|median_income|median_house_value|House_CONDITION|\n",
            "+---------+--------+------------------+-----------+--------------+----------+----------+-------------+------------------+---------------+\n",
            "|  -122.05|   37.37|              27.0|     3885.0|         661.0|    1537.0|     606.0|       6.6085|          344700.0|  MEDIVAL HOUSE|\n",
            "|   -118.3|   34.26|              43.0|     1510.0|         310.0|     809.0|     277.0|        3.599|          176500.0| VERY OLD HOUSE|\n",
            "|  -117.81|   33.78|              27.0|     3589.0|         507.0|    1484.0|     495.0|       5.7934|          270500.0|  MEDIVAL HOUSE|\n",
            "|  -118.36|   33.82|              28.0|       67.0|          15.0|      49.0|      11.0|       6.1359|          330000.0|         string|\n",
            "|  -119.56|   36.51|              37.0|     1018.0|         213.0|     663.0|     204.0|       1.6635|           67000.0| VERY OLD HOUSE|\n",
            "+---------+--------+------------------+-----------+--------------+----------+----------+-------------+------------------+---------------+\n",
            "only showing top 5 rows\n",
            "\n"
          ],
          "name": "stdout"
        }
      ]
    },
    {
      "cell_type": "markdown",
      "metadata": {
        "id": "OFykx6tsKo1o"
      },
      "source": [
        "**PIVOT**\n",
        "\n",
        "works like transpose\n",
        "rows -> columns\n",
        "columns-> rows"
      ]
    },
    {
      "cell_type": "code",
      "metadata": {
        "id": "NVnVkJjyKsn6"
      },
      "source": [
        "df5 = df.groupBy('House_CONDITION').pivot('housing_median_age')\n"
      ],
      "execution_count": 87,
      "outputs": []
    },
    {
      "cell_type": "markdown",
      "metadata": {
        "id": "lyawXQ_DLUtp"
      },
      "source": [
        "**UDF**"
      ]
    },
    {
      "cell_type": "code",
      "metadata": {
        "colab": {
          "base_uri": "https://localhost:8080/"
        },
        "id": "iop-vFr0Lueg",
        "outputId": "8f998c18-eaad-4491-cffb-c641d67ff586"
      },
      "source": [
        "from pyspark.sql.types import StringType\n",
        "from pyspark.sql.functions import udf\n",
        "\n",
        "df4 = spark.read.csv(header=True, inferSchema=True,path =\"/content/sample_data/california_housing_test.csv\")\n",
        "needs_repair = udf(lambda age:age - 17)\n",
        "df6 = df4.withColumn(\"needs_repair_inyears\",needs_repair(df4.housing_median_age))\n",
        "df6.show(5)"
      ],
      "execution_count": 91,
      "outputs": [
        {
          "output_type": "stream",
          "text": [
            "+---------+--------+------------------+-----------+--------------+----------+----------+-------------+------------------+--------------------+\n",
            "|longitude|latitude|housing_median_age|total_rooms|total_bedrooms|population|households|median_income|median_house_value|needs_repair_inyears|\n",
            "+---------+--------+------------------+-----------+--------------+----------+----------+-------------+------------------+--------------------+\n",
            "|  -122.05|   37.37|              27.0|     3885.0|         661.0|    1537.0|     606.0|       6.6085|          344700.0|                10.0|\n",
            "|   -118.3|   34.26|              43.0|     1510.0|         310.0|     809.0|     277.0|        3.599|          176500.0|                26.0|\n",
            "|  -117.81|   33.78|              27.0|     3589.0|         507.0|    1484.0|     495.0|       5.7934|          270500.0|                10.0|\n",
            "|  -118.36|   33.82|              28.0|       67.0|          15.0|      49.0|      11.0|       6.1359|          330000.0|                11.0|\n",
            "|  -119.67|   36.33|              19.0|     1241.0|         244.0|     850.0|     237.0|       2.9375|           81700.0|                 2.0|\n",
            "+---------+--------+------------------+-----------+--------------+----------+----------+-------------+------------------+--------------------+\n",
            "only showing top 5 rows\n",
            "\n"
          ],
          "name": "stdout"
        }
      ]
    },
    {
      "cell_type": "markdown",
      "metadata": {
        "id": "p_stwSkcN0g2"
      },
      "source": [
        "**Describe**"
      ]
    },
    {
      "cell_type": "code",
      "metadata": {
        "colab": {
          "base_uri": "https://localhost:8080/"
        },
        "id": "2224Z9tSN2TJ",
        "outputId": "41a15484-4883-49bb-bd12-56143bd9d311"
      },
      "source": [
        "df6.describe()"
      ],
      "execution_count": 92,
      "outputs": [
        {
          "output_type": "execute_result",
          "data": {
            "text/plain": [
              "DataFrame[summary: string, longitude: string, latitude: string, housing_median_age: string, total_rooms: string, total_bedrooms: string, population: string, households: string, median_income: string, median_house_value: string, needs_repair_inyears: string]"
            ]
          },
          "metadata": {
            "tags": []
          },
          "execution_count": 92
        }
      ]
    },
    {
      "cell_type": "markdown",
      "metadata": {
        "id": "-AhxEY3LN8er"
      },
      "source": [
        "**MEAN,min,MAX**"
      ]
    },
    {
      "cell_type": "code",
      "metadata": {
        "colab": {
          "base_uri": "https://localhost:8080/"
        },
        "id": "oYyIHKgmOEsQ",
        "outputId": "b84478cc-53e7-40c9-ddbc-96272d21afb4"
      },
      "source": [
        "from pyspark.sql.functions import mean,min,max\n",
        "\n",
        "df6.select([mean(col('population')),min(col('population')),max(col('population'))]).show()"
      ],
      "execution_count": 97,
      "outputs": [
        {
          "output_type": "stream",
          "text": [
            "+------------------+---------------+---------------+\n",
            "|   avg(population)|min(population)|max(population)|\n",
            "+------------------+---------------+---------------+\n",
            "|1402.7986666666666|            5.0|        11935.0|\n",
            "+------------------+---------------+---------------+\n",
            "\n"
          ],
          "name": "stdout"
        }
      ]
    },
    {
      "cell_type": "markdown",
      "metadata": {
        "id": "u7A1zPasPj3T"
      },
      "source": [
        "**CONVERT SPARK DATAFRAME TO PANDAS**"
      ]
    },
    {
      "cell_type": "code",
      "metadata": {
        "colab": {
          "base_uri": "https://localhost:8080/",
          "height": 282
        },
        "id": "LaO9K3ASPoqR",
        "outputId": "5172c365-b283-4a1e-91b0-cc8381fcd6cd"
      },
      "source": [
        "pandas_df =  df6.toPandas()\n",
        "pandas_df.plot()"
      ],
      "execution_count": 99,
      "outputs": [
        {
          "output_type": "execute_result",
          "data": {
            "text/plain": [
              "<matplotlib.axes._subplots.AxesSubplot at 0x7f1ddd54ca10>"
            ]
          },
          "metadata": {
            "tags": []
          },
          "execution_count": 99
        },
        {
          "output_type": "display_data",
          "data": {
            "image/png": "[encoded data removed]",
            "text/plain": [
              "<Figure size 432x288 with 1 Axes>"
            ]
          },
          "metadata": {
            "tags": [],
            "needs_background": "light"
          }
        }
      ]
    },
    {
      "cell_type": "markdown",
      "metadata": {
        "id": "IGsbcA6zP3_K"
      },
      "source": [
        ""
      ]
    }
  ]
}